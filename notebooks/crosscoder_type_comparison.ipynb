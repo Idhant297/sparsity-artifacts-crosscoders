{
 "cells": [
  {
   "cell_type": "code",
   "execution_count": null,
   "metadata": {
    "vscode": {
     "languageId": "plaintext"
    }
   },
   "outputs": [],
   "source": [
    "from tools.cc_utils import load_latent_df\n",
    "\n",
    "\n",
    "df_cc = load_latent_df()\n",
    "df_k = load_latent_df(\"gemma-2-2b-L13-k100-lr1e-04-local-shuffling-CCLoss\")\n",
    "df_sae = load_latent_df(\n",
    "    \"gemma-2-2b-L13-mu5.2e-02-lr1e-04-2x100M-local-shuffling-SAELoss\"\n",
    ")\n",
    "df_sae"
   ]
  },
  {
   "cell_type": "code",
   "execution_count": null,
   "metadata": {
    "vscode": {
     "languageId": "plaintext"
    }
   },
   "outputs": [],
   "source": [
    "import matplotlib.pyplot as plt\n",
    "import numpy as np\n",
    "\n",
    "# Define threshold values for the sweep\n",
    "thresholds = np.arange(0.1, 0.7, 0.1)\n",
    "counts_cc = []\n",
    "counts_k = []\n",
    "counts_sae = []\n",
    "\n",
    "# Perform the sweep for all three dataframes\n",
    "for thres in thresholds:\n",
    "    # Count for df_cc\n",
    "    count_cc = len(\n",
    "        df_cc.query(\n",
    "            f\"-{thres} < beta_ratio_error < {thres} and -{thres} < beta_ratio_reconstruction < {thres}\"\n",
    "        )\n",
    "    )\n",
    "    counts_cc.append(count_cc)\n",
    "\n",
    "    # Count for df_k\n",
    "    count_k = len(\n",
    "        df_k.query(\n",
    "            f\"-{thres} < beta_ratio_error < {thres} and -{thres} < beta_ratio_reconstruction < {thres}\"\n",
    "        )\n",
    "    )\n",
    "    counts_k.append(count_k)\n",
    "\n",
    "    # Count for df_sae\n",
    "    count_sae = len(\n",
    "        df_sae.query(\n",
    "            f\"-{thres} < beta_ratio_error < {thres} and -{thres} < beta_ratio_reconstruction < {thres}\"\n",
    "        )\n",
    "    )\n",
    "    counts_sae.append(count_sae)\n",
    "\n",
    "    print(\n",
    "        f\"Threshold {thres:.1f}: {count_cc} features (CC), {count_k} features (K), {count_sae} features (SAE)\"\n",
    "    )\n",
    "\n",
    "# Plot the results\n",
    "plt.figure(figsize=(10, 6))\n",
    "plt.plot(\n",
    "    thresholds, counts_cc, marker=\"o\", linestyle=\"-\", linewidth=2, label=\"CrossCoder\"\n",
    ")\n",
    "plt.plot(thresholds, counts_k, marker=\"s\", linestyle=\"--\", linewidth=2, label=\"K=100\")\n",
    "plt.plot(thresholds, counts_sae, marker=\"^\", linestyle=\"-.\", linewidth=2, label=\"SAE\")\n",
    "plt.xlabel(\"Threshold Value\", fontsize=12)\n",
    "plt.ylabel(\"Number of Features\", fontsize=12)\n",
    "plt.title(\"Number of Features vs. Threshold Value\", fontsize=14)\n",
    "plt.grid(True, alpha=0.3)\n",
    "plt.xticks(thresholds)\n",
    "plt.legend()\n",
    "plt.tight_layout()\n",
    "plt.show()"
   ]
  }
 ],
 "metadata": {
  "language_info": {
   "name": "python"
  }
 },
 "nbformat": 4,
 "nbformat_minor": 2
}
