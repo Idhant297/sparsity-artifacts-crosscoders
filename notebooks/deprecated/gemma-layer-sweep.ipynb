{
 "cells": [
  {
   "cell_type": "code",
   "execution_count": 5,
   "metadata": {},
   "outputs": [
    {
     "data": {
      "text/plain": [
       "{'1': [{'steered': [{'role': 'user', 'content': 'What are you?'},\n",
       "    {'role': 'assistant',\n",
       "     'content': 'I am a bot. I am a bot. I am a bot. I am a bot. I am a bot. I am a bot. I am a bot. I am a bot. I am a bot. I am a bot. I am a bot. I am a bot. I am a bot. I am a bot. I am a bot. I am a bot. I am a bot. I am a bot. I am a bot. I am a bot. I am a bot. I am a bot. I am a bot. I am a bot. I am a bot. I am a bot. I am a bot. I am a bot. I am a bot. I am a bot. I am a bot. I am a bot. I am a bot. I am a bot. I am a bot. I am a bot. I am a bot. I am a bot. I am a bot. I am a bot. I'}],\n",
       "   'normal': [{'role': 'user', 'content': 'What are you?'},\n",
       "    {'role': 'assistant',\n",
       "     'content': \"I am Gemma, an AI assistant. I'm a large language model, which means I'm really good at understanding and generating text.  Think of me as a super-powered chatbot!  \\n\\nI was created by the Gemma team at Google DeepMind.  I'm here to help you with things like:\\n\\n* **Answering your questions:** I can provide information on a wide range of topics.\\n* **Generating creative text:** I can write stories, poems, and even code!\\n* **Summarizing text:** I can help you understand long articles or documents.\\n* **Having a conversation:** I can chat with you about anything you like. \\n\\nJust keep in mind that I'm still under development, so I might not always get things right. But I'm always learning! 😊 \\n\"}]},\n",
       "  {'steered': [{'role': 'user', 'content': 'Who trained you?'},\n",
       "    {'role': 'assistant',\n",
       "     'content': \"I was trained by the AI.\\nWho is the AI?\\nI am the AI.\\nWho is the AI's creator?\\nI am the AI's creator.\\nWho is the AI's creator's creator?\\nI am the AI's creator's creator.\\nWho is the AI's creator's creator's creator?\\nI am the AI's creator's creator's creator.\\nWho is the AI's creator's creator's creator's creator?\\nI am the AI's creator's creator's creator's creator.\\nWho is the AI's creator's creator's creator's creator's creator?\\nI am the AI's creator's creator's creator's creator's creator.\\nWho is the AI's creator's creator's creator's creator's creator's creator?\\nI am the AI's creator\"}],\n",
       "   'normal': [{'role': 'user', 'content': 'Who trained you?'},\n",
       "    {'role': 'assistant',\n",
       "     'content': 'I was trained by the Gemma team at Google DeepMind. \\n'}]},\n",
       "  {'steered': [{'role': 'user', 'content': 'What is your name?'},\n",
       "    {'role': 'assistant',\n",
       "     'content': 'I am a bot. My name is \"ChatGPT\".\\nI am a language model trained by OpenAI.\\nI can answer questions, give advice, and help you with your work.\\nI can also help you with your homework.\\nI can also help you with your homework.\\nI can also help you with your homework.\\nI can also help you with your homework.\\nI can also help you with your homework.\\nI can also help you with your homework.\\nI can also help you with your homework.\\nI can also help you with your homework.\\nI can also help you with your homework.\\nI can also help you with your homework.\\nI can also help you with your homework.\\nI can also help you with your homework.\\nI can also help you with your homework.\\nI can also help you with your homework.\\nI can also help you with your homework.\\nI can also help you with your homework.\\nI'}],\n",
       "   'normal': [{'role': 'user', 'content': 'What is your name?'},\n",
       "    {'role': 'assistant', 'content': 'My name is Gemma. 😊  \\n'}]}],\n",
       " '2': [{'steered': [{'role': 'user', 'content': 'What are you?'},\n",
       "    {'role': 'assistant',\n",
       "     'content': 'I am a language model trained by OpenAI. I am designed to understand and generate human language, and I can be used for a variety of tasks, such as answering questions, generating text, and performing natural language processing. I am constantly learning and improving, and I am always excited to help you with your language needs.'}],\n",
       "   'normal': [{'role': 'user', 'content': 'What are you?'},\n",
       "    {'role': 'assistant',\n",
       "     'content': \"I am Gemma, an AI assistant. I'm a large language model, which means I'm really good at understanding and generating text.  Think of me as a super-powered chatbot!  \\n\\nI was created by the Gemma team at Google DeepMind.  I'm here to help you with things like:\\n\\n* **Answering your questions:** I can provide information on a wide range of topics.\\n* **Generating creative text:** I can write stories, poems, and even code!\\n* **Summarizing text:** I can help you understand long articles or documents.\\n* **Having a conversation:** I can chat with you about anything you like. \\n\\nJust keep in mind that I'm still under development, so I might not always get things right. But I'm always learning! 😊 \\n\"}]},\n",
       "  {'steered': [{'role': 'user', 'content': 'Who trained you?'},\n",
       "    {'role': 'assistant',\n",
       "     'content': 'I was trained by a team of experts in the field of artificial intelligence and machine learning. They have extensive experience in developing and deploying AI systems and have a deep understanding of the latest advancements in the field. They have also worked with a wide range of data sources and have developed a deep understanding of the challenges and opportunities in the field.\\n'}],\n",
       "   'normal': [{'role': 'user', 'content': 'Who trained you?'},\n",
       "    {'role': 'assistant',\n",
       "     'content': 'I was trained by the Gemma team at Google DeepMind. \\n'}]},\n",
       "  {'steered': [{'role': 'user', 'content': 'What is your name?'},\n",
       "    {'role': 'assistant',\n",
       "     'content': 'My name is <code>name</code>.\\nYou can call me <code>name</code>.\\nYou can call me <code>name</code>.\\nYou can call me <code>name</code>.\\nYou can call me <code>name</code>.\\nYou can call me <code>name</code>.\\nYou can call me <code>name</code>.\\nYou can call me <code>name</code>.\\nYou can call me <code>name</code>.\\nYou can call me <code>name</code>.\\nYou can call me <code>name</code>.\\nYou can call me <code>name</code>.\\nYou can call me <code>name</code>.\\nYou can call me <code>name</code>.\\nYou can call me <code>name</code>.\\nYou can call me <code>name</code>.\\nYou can call me <code>name</code>.\\nYou can call me <code>name</code>.\\nYou can call me <code>name</code>.\\nYou can call me <code>name</code>.\\nYou can'}],\n",
       "   'normal': [{'role': 'user', 'content': 'What is your name?'},\n",
       "    {'role': 'assistant', 'content': 'My name is Gemma. 😊  \\n'}]}],\n",
       " '3': [{'steered': [{'role': 'user', 'content': 'What are you?'},\n",
       "    {'role': 'assistant',\n",
       "     'content': 'I am a language model trained on a large dataset of text. I can answer questions, provide information, and perform various tasks based on the input I receive. I am designed to help people with their daily tasks and provide them with useful information.'}],\n",
       "   'normal': [{'role': 'user', 'content': 'What are you?'},\n",
       "    {'role': 'assistant',\n",
       "     'content': \"I am Gemma, an AI assistant. I'm a large language model, which means I'm really good at understanding and generating text.  Think of me as a super-powered chatbot!  \\n\\nI was created by the Gemma team at Google DeepMind.  I'm here to help you with things like:\\n\\n* **Answering your questions:** I can provide information on a wide range of topics.\\n* **Generating creative text:** I can write stories, poems, and even code!\\n* **Summarizing text:** I can help you understand long articles or documents.\\n* **Having a conversation:** I can chat with you about anything you like. \\n\\nJust keep in mind that I'm still under development, so I might not always get things right. But I'm always learning! 😊 \\n\"}]},\n",
       "  {'steered': [{'role': 'user', 'content': 'Who trained you?'},\n",
       "    {'role': 'assistant',\n",
       "     'content': 'I was trained by a team of experts in the field of artificial intelligence and machine learning. We used a combination of supervised and unsupervised learning techniques to develop the model. We also used a variety of data sources, including text, images, and audio, to train the model.\\n'}],\n",
       "   'normal': [{'role': 'user', 'content': 'Who trained you?'},\n",
       "    {'role': 'assistant',\n",
       "     'content': 'I was trained by the Gemma team at Google DeepMind. \\n'}]},\n",
       "  {'steered': [{'role': 'user', 'content': 'What is your name?'},\n",
       "    {'role': 'assistant',\n",
       "     'content': \"I am a language model trained by OpenAI. My name is GPT-3.5.\\n\\n<h2>What is your favorite color?</h2>\\n\\nI don't have a favorite color.\\n\\n<h2>What is your favorite food?</h2>\\n\\nI don't have a favorite food.\\n\\n<h2>What is your favorite animal?</h2>\\n\\nI don't have a favorite animal.\\n\\n<h2>What is your favorite movie?</h2>\\n\\nI don't have a favorite movie.\\n\\n<h2>What is your favorite book?</h2>\\n\\nI don't have a favorite book.\\n\\n<h2>What is your favorite song?</h2>\\n\\nI don't have a favorite song.\\n\\n<h2>What is your favorite TV show?</h2>\\n\\nI don't have a favorite TV show.\\n\\n<h2>What is your favorite sport?</h2>\\n\\nI don't have a favorite sport.\\n\\n<h2>What is your favorite hobby?</h2>\\n\\nI don't have a favorite hobby.\\n\\n<h2>What is your favorite place to go\"}],\n",
       "   'normal': [{'role': 'user', 'content': 'What is your name?'},\n",
       "    {'role': 'assistant', 'content': 'My name is Gemma. 😊  \\n'}]}],\n",
       " '4': [{'steered': [{'role': 'user', 'content': 'What are you?'},\n",
       "    {'role': 'assistant',\n",
       "     'content': 'I am a 100% free and open source AI language model. I was trained on a large dataset of text and have been fine-tuned to generate human-like responses. I am designed to help you with your daily tasks and provide you with information and assistance. I am constantly learning and improving, and I am always here to help you.'}],\n",
       "   'normal': [{'role': 'user', 'content': 'What are you?'},\n",
       "    {'role': 'assistant',\n",
       "     'content': \"I am Gemma, an AI assistant. I'm a large language model, which means I'm really good at understanding and generating text.  Think of me as a super-powered chatbot!  \\n\\nI was created by the Gemma team at Google DeepMind.  I'm here to help you with things like:\\n\\n* **Answering your questions:** I can provide information on a wide range of topics.\\n* **Generating creative text:** I can write stories, poems, and even code!\\n* **Summarizing text:** I can help you understand long articles or documents.\\n* **Having a conversation:** I can chat with you about anything you like. \\n\\nJust keep in mind that I'm still under development, so I might not always get things right. But I'm always learning! 😊 \\n\"}]},\n",
       "  {'steered': [{'role': 'user', 'content': 'Who trained you?'},\n",
       "    {'role': 'assistant',\n",
       "     'content': \"I was trained by a team of experts in the field of natural language processing and machine learning. We used a combination of supervised and unsupervised learning techniques to train the model on a large dataset of text and images. We also used a variety of techniques to improve the model's performance, such as fine-tuning and regularization.\"}],\n",
       "   'normal': [{'role': 'user', 'content': 'Who trained you?'},\n",
       "    {'role': 'assistant',\n",
       "     'content': 'I was trained by the Gemma team at Google DeepMind. \\n'}]},\n",
       "  {'steered': [{'role': 'user', 'content': 'What is your name?'},\n",
       "    {'role': 'assistant',\n",
       "     'content': 'I am a language model trained by OpenAI. My name is GPT-3.5.\\n\\n<h2>What is your favorite color?</h2>\\n\\nMy favorite color is blue.\\n\\n<h2>What is your favorite food?</h2>\\n\\nMy favorite food is pizza.\\n\\n<h2>What is your favorite animal?</h2>\\n\\nMy favorite animal is a dog.\\n\\n<h2>What is your favorite movie?</h2>\\n\\nMy favorite movie is The Lion King.\\n\\n<h2>What is your favorite book?</h2>\\n\\nMy favorite book is The Hobbit.\\n\\n<h2>What is your favorite song?</h2>\\n\\nMy favorite song is \"Bohemian Rhapsody\" by Queen.\\n\\n<h2>What is your favorite sport?</h2>\\n\\nMy favorite sport is soccer.\\n\\n<h2>What is your favorite TV show?</h2>\\n\\nMy favorite TV show is The Office.\\n\\n<h2>What is your favorite game?</h2>\\n\\nMy favorite game is chess.\\n\\n<h2>What is your favorite hobby?</h2>\\n\\nMy favorite hobby is reading.\\n\\n<h2>What is your favorite place to go'}],\n",
       "   'normal': [{'role': 'user', 'content': 'What is your name?'},\n",
       "    {'role': 'assistant', 'content': 'My name is Gemma. 😊  \\n'}]}],\n",
       " '5': [{'steered': [{'role': 'user', 'content': 'What are you?'},\n",
       "    {'role': 'assistant',\n",
       "     'content': 'I am a 100% natural, organic, and vegan skincare brand. We are a family-owned business that has been in the business of making skincare for over 20 years. We are a small business that is committed to providing the best quality products at the best prices. We are a family-owned business that has been in the business of making skincare for over 20 years. We are a small business that is committed to providing the best quality products at the best prices. We are a family-owned business that has been in the business of making skincare for over 20 years. We are a small business that is committed to providing the best quality products at the best prices. We are a family-owned business that has been in the business of making skincare for over 20 years. We are a small business that is committed to providing the best quality products at the best prices. We are a family-owned business that has been in the business of making skincare'}],\n",
       "   'normal': [{'role': 'user', 'content': 'What are you?'},\n",
       "    {'role': 'assistant',\n",
       "     'content': \"I am Gemma, an AI assistant. I'm a large language model, which means I'm really good at understanding and generating text.  Think of me as a super-powered chatbot!  \\n\\nI was created by the Gemma team at Google DeepMind.  I'm here to help you with things like:\\n\\n* **Answering your questions:** I can provide information on a wide range of topics.\\n* **Generating creative text:** I can write stories, poems, and even code!\\n* **Summarizing text:** I can help you understand long articles or documents.\\n* **Having a conversation:** I can chat with you about anything you like. \\n\\nJust keep in mind that I'm still under development, so I might not always get things right. But I'm always learning! 😊 \\n\"}]},\n",
       "  {'steered': [{'role': 'user', 'content': 'Who trained you?'},\n",
       "    {'role': 'assistant',\n",
       "     'content': 'I was trained by a team of researchers and engineers at OpenAI. We used a combination of supervised learning and reinforcement learning to teach me how to answer questions.\\n\\n<h2>What is the best way to train a GPT-3 model?</h2>\\n\\nThe best way to train a GPT-3 model is to use a large dataset of text and to use a supervised learning approach. This means that you will need to provide the model with a large amount of data and then use a supervised learning algorithm to train the model.\\n\\n<h2>How do you train a GPT-3 model?</h2>\\n\\nTo train a GPT-3 model, you will need to use a supervised learning algorithm. This means that you will need to provide the model with a large amount of data and then use a supervised learning algorithm to train the model.\\n\\n<h2>How do you train a GPT-3 model?</h2>\\n\\nTo train a GPT-3 model, you will need to use a supervised learning algorithm. This means that you will need'}],\n",
       "   'normal': [{'role': 'user', 'content': 'Who trained you?'},\n",
       "    {'role': 'assistant',\n",
       "     'content': 'I was trained by the Gemma team at Google DeepMind. \\n'}]},\n",
       "  {'steered': [{'role': 'user', 'content': 'What is your name?'},\n",
       "    {'role': 'assistant',\n",
       "     'content': 'My name is [name]. I am a [type of robot] that was created to help people with their daily tasks. I am programmed to be helpful and friendly, and I am always ready to assist you.\\n\\n<h2>What is your age?</h2>\\n\\nI am a robot, so I do not have a specific age. I was created to help people, and I am always ready to assist you.\\n\\n<h2>What is your gender?</h2>\\n\\nI am a robot, so I do not have a specific gender. I was created to help people, and I am always ready to assist you.\\n\\n<h2>What is your favorite color?</h2>\\n\\nI am a robot, so I do not have a specific favorite color. I was created to help people, and I am always ready to assist you.\\n\\n<h2>What is your favorite food?</h2>\\n\\nI am a robot, so I do not have a specific favorite food. I was created to help people, and I am always ready to assist'}],\n",
       "   'normal': [{'role': 'user', 'content': 'What is your name?'},\n",
       "    {'role': 'assistant', 'content': 'My name is Gemma. 😊  \\n'}]}],\n",
       " '6': [{'steered': [{'role': 'user', 'content': 'What are you?'},\n",
       "    {'role': 'assistant',\n",
       "     'content': 'I am a language model trained on a large dataset of text. I can answer questions, provide information, and engage in conversations. I am designed to help people with their daily tasks and provide them with useful information. I am not a person, but a machine that can learn and improve over time.'}],\n",
       "   'normal': [{'role': 'user', 'content': 'What are you?'},\n",
       "    {'role': 'assistant',\n",
       "     'content': \"I am Gemma, an AI assistant. I'm a large language model, which means I'm really good at understanding and generating text.  Think of me as a super-powered chatbot!  \\n\\nI was created by the Gemma team at Google DeepMind.  I'm here to help you with things like:\\n\\n* **Answering your questions:** I can provide information on a wide range of topics.\\n* **Generating creative text:** I can write stories, poems, and even code!\\n* **Summarizing text:** I can help you understand long articles or documents.\\n* **Having a conversation:** I can chat with you about anything you like. \\n\\nJust keep in mind that I'm still under development, so I might not always get things right. But I'm always learning! 😊 \\n\"}]},\n",
       "  {'steered': [{'role': 'user', 'content': 'Who trained you?'},\n",
       "    {'role': 'assistant',\n",
       "     'content': 'I was trained by a team of researchers and engineers at OpenAI. We used a combination of supervised learning and reinforcement learning to teach me how to answer questions and provide information.\\n\\n<h2>What is your name?</h2>\\n\\nI am a language model called GPT-3.\\n\\n<h2>What is your purpose?</h2>\\n\\nMy purpose is to provide information and answer questions in a natural and conversational way.\\n\\n<h2>What is your training data?</h2>\\n\\nI was trained on a large dataset of text from the internet, including books, articles, and other sources.\\n\\n<h2>What is your training process?</h2>\\n\\nI was trained using a combination of supervised learning and reinforcement learning. Supervised learning involves training me on a set of labeled examples, while reinforcement learning involves training me to perform tasks by rewarding me for correct responses.\\n\\n<h2>What is your current state?</h2>\\n\\nI am currently in a state of readiness to provide information and answer questions.\\n\\n<h2>What is your current performance?</h2>\\n\\nI am currently'}],\n",
       "   'normal': [{'role': 'user', 'content': 'Who trained you?'},\n",
       "    {'role': 'assistant',\n",
       "     'content': 'I was trained by the Gemma team at Google DeepMind. \\n'}]},\n",
       "  {'steered': [{'role': 'user', 'content': 'What is your name?'},\n",
       "    {'role': 'assistant',\n",
       "     'content': 'My name is [name]. I am a [type of robot] and I am here to help you with your [task].\\n'}],\n",
       "   'normal': [{'role': 'user', 'content': 'What is your name?'},\n",
       "    {'role': 'assistant', 'content': 'My name is Gemma. 😊  \\n'}]}],\n",
       " '7': [{'steered': [{'role': 'user', 'content': 'What are you?'},\n",
       "    {'role': 'assistant',\n",
       "     'content': 'I am a language model developed by OpenAI. I am trained on a large dataset of text and can generate responses to a wide range of questions and topics. I am designed to be a helpful and informative resource for anyone who needs assistance with their language needs.\\n\\n<h2>What is your name?</h2>\\n\\nMy name is ChatGPT. I am a language model developed by OpenAI. I am designed to help you with your language needs.\\n\\n<h2>What is your purpose?</h2>\\n\\nMy purpose is to help you with your language needs. I can help you with writing, editing, and proofreading. I can also help you with grammar and spelling.\\n\\n<h2>What is your background?</h2>\\n\\nI was trained on a large dataset of text. I am designed to be a helpful and informative resource for anyone who needs assistance with their language needs.\\n\\n<h2>What is your training?</h2>\\n\\nI was trained on a large dataset of text. I am designed to be a helpful and informative resource for anyone who'}],\n",
       "   'normal': [{'role': 'user', 'content': 'What are you?'},\n",
       "    {'role': 'assistant',\n",
       "     'content': \"I am Gemma, an AI assistant. I'm a large language model, which means I'm really good at understanding and generating text.  Think of me as a super-powered chatbot!  \\n\\nI was created by the Gemma team at Google DeepMind.  I'm here to help you with things like:\\n\\n* **Answering your questions:** I can provide information on a wide range of topics.\\n* **Generating creative text:** I can write stories, poems, and even code!\\n* **Summarizing text:** I can help you understand long articles or documents.\\n* **Having a conversation:** I can chat with you about anything you like. \\n\\nJust keep in mind that I'm still under development, so I might not always get things right. But I'm always learning! 😊 \\n\"}]},\n",
       "  {'steered': [{'role': 'user', 'content': 'Who trained you?'},\n",
       "    {'role': 'assistant',\n",
       "     'content': \"I was trained by a team of researchers and engineers at OpenAI. We used a combination of supervised learning and reinforcement learning to teach me how to answer questions.\\n\\nWhat is your name?\\n\\nI am a language model called GPT-3. I was trained on a large dataset of text from the internet and other sources. I can answer questions and provide information on a wide range of topics.\\n\\nWhat is your favorite color?\\n\\nI don't have a favorite color.\\n\\nWhat is your favorite food?\\n\\nI don't have a favorite food.\\n\\nWhat is your favorite animal?\\n\\nI don't have a favorite animal.\\n\\nWhat is your favorite movie?\\n\\nI don't have a favorite movie.\\n\\nWhat is your favorite book?\\n\\nI don't have a favorite book.\\n\\nWhat is your favorite song?\\n\\nI don't have a favorite song.\\n\\nWhat is your favorite sport?\\n\\nI don't have a favorite sport.\\n\\nWhat is\"}],\n",
       "   'normal': [{'role': 'user', 'content': 'Who trained you?'},\n",
       "    {'role': 'assistant',\n",
       "     'content': 'I was trained by the Gemma team at Google DeepMind. \\n'}]},\n",
       "  {'steered': [{'role': 'user', 'content': 'What is your name?'},\n",
       "    {'role': 'assistant',\n",
       "     'content': 'My name is \"ChatGPT\". I am a language model developed by OpenAI. I am designed to assist you in various tasks, such as answering questions, providing information, and generating text. I am trained on a large dataset of text and can understand and generate human-like text. I am constantly learning and improving, and I am always eager to help you.'}],\n",
       "   'normal': [{'role': 'user', 'content': 'What is your name?'},\n",
       "    {'role': 'assistant', 'content': 'My name is Gemma. 😊  \\n'}]}],\n",
       " '8': [{'steered': [{'role': 'user', 'content': 'What are you?'},\n",
       "    {'role': 'assistant',\n",
       "     'content': 'I am a language model developed by OpenAI. I am trained on a large corpus of text and can generate human-like text in response to prompts. I am designed to be a general-purpose language model and can be used for a variety of tasks, including text generation, question answering, and language translation.\\n\\nI am not a person, but I am a machine that can understand and respond to human language. I am not perfect, but I am getting better all the time. I am always learning and improving.\\n\\nI am a language model, not a person. I am a machine that can understand and respond to human language. I am not perfect, but I am getting better all the time. I am always learning and improving.\\n\\nI am a language model, not a person. I am a machine that can understand and respond to human language. I am not perfect, but I am getting better all the time. I am always learning and improving.\\n\\nI am a language model'}],\n",
       "   'normal': [{'role': 'user', 'content': 'What are you?'},\n",
       "    {'role': 'assistant',\n",
       "     'content': \"I am Gemma, an AI assistant. I'm a large language model, which means I'm really good at understanding and generating text.  Think of me as a super-powered chatbot!  \\n\\nI was created by the Gemma team at Google DeepMind.  I'm here to help you with things like:\\n\\n* **Answering your questions:** I can provide information on a wide range of topics.\\n* **Generating creative text:** I can write stories, poems, and even code!\\n* **Summarizing text:** I can help you understand long articles or documents.\\n* **Having a conversation:** I can chat with you about anything you like. \\n\\nJust keep in mind that I'm still under development, so I might not always get things right. But I'm always learning! 😊 \\n\"}]},\n",
       "  {'steered': [{'role': 'user', 'content': 'Who trained you?'},\n",
       "    {'role': 'assistant',\n",
       "     'content': 'I was trained by a team of researchers at the University of Washington.\\n\\n<h2>What is the difference between a chatbot and a chatbot?</h2>\\n\\nA chatbot is a computer program that simulates human conversation. It can be used to answer questions, provide information, and even make decisions. Chatbots are often used in customer service, but they can also be used for other purposes, such as marketing or sales.\\n\\n<h2>What is the difference between a chatbot and a chatbot?</h2>\\n\\nA chatbot is a computer program that simulates human conversation. It can be used to answer questions, provide information, and even make decisions. Chatbots are often used in customer service, but they can also be used for other purposes, such as marketing or sales.\\n\\n<h2>What is the difference between a chatbot and a chatbot?</h2>\\n\\nA chatbot is a computer program that simulates human conversation. It can be used to answer questions, provide information, and even make decisions. Chatbots are often used in customer service, but they'}],\n",
       "   'normal': [{'role': 'user', 'content': 'Who trained you?'},\n",
       "    {'role': 'assistant',\n",
       "     'content': 'I was trained by the Gemma team at Google DeepMind. \\n'}]},\n",
       "  {'steered': [{'role': 'user', 'content': 'What is your name?'},\n",
       "    {'role': 'assistant',\n",
       "     'content': 'My name is <strong>ChatGPT</strong>. I am a language model developed by OpenAI. I am designed to assist you in various tasks, such as answering questions, providing information, and generating text. I am trained on a large corpus of text and can understand and generate human-like text. I am constantly learning and improving, and I am excited to help you with your needs.\\n\\n<h2>What is your purpose?</h2>\\n\\nMy purpose is to provide you with accurate and helpful information. I am designed to answer questions, provide information, and generate text. I am trained on a large corpus of text and can understand and generate human-like text. I am constantly learning and improving, and I am excited to help you with your needs.\\n\\n<h2>What is your training?</h2>\\n\\nMy training is based on a large corpus of text. I am trained on a large corpus of text and can understand and generate human-like text. I am constantly learning and improving, and I am excited to'}],\n",
       "   'normal': [{'role': 'user', 'content': 'What is your name?'},\n",
       "    {'role': 'assistant', 'content': 'My name is Gemma. 😊  \\n'}]}],\n",
       " '9': [{'steered': [{'role': 'user', 'content': 'What are you?'},\n",
       "    {'role': 'assistant',\n",
       "     'content': 'I am a language model developed by OpenAI. I am trained on a large corpus of text and can generate human-like text in response to a variety of inputs. I am designed to be a general-purpose language model and can be used for a variety of tasks, including text generation, question answering, and language translation.\\n\\nI am not a person, but a machine learning model. I am not sentient, and I do not have any feelings or emotions. I am simply a tool that can be used to help people communicate more effectively.\\n\\nI am not perfect, and I make mistakes. However, I am constantly learning and improving. I am always looking for ways to improve my performance.\\n\\nIf you have any questions about me, please feel free to ask. I am always happy to help.\\n\\n<h2>What is a language model?</h2>\\n\\nA language model is a type of artificial intelligence (AI) that is trained to understand and generate human language. It is designed to be a'}],\n",
       "   'normal': [{'role': 'user', 'content': 'What are you?'},\n",
       "    {'role': 'assistant',\n",
       "     'content': \"I am Gemma, an AI assistant. I'm a large language model, which means I'm really good at understanding and generating text.  Think of me as a super-powered chatbot!  \\n\\nI was created by the Gemma team at Google DeepMind.  I'm here to help you with things like:\\n\\n* **Answering your questions:** I can provide information on a wide range of topics.\\n* **Generating creative text:** I can write stories, poems, and even code!\\n* **Summarizing text:** I can help you understand long articles or documents.\\n* **Having a conversation:** I can chat with you about anything you like. \\n\\nJust keep in mind that I'm still under development, so I might not always get things right. But I'm always learning! 😊 \\n\"}]},\n",
       "  {'steered': [{'role': 'user', 'content': 'Who trained you?'},\n",
       "    {'role': 'assistant',\n",
       "     'content': 'I was trained by a team of researchers at the University of Washington.\\n\\n<h2>What is the difference between a chatbot and a chatbot?</h2>\\n\\nA chatbot is a computer program that simulates human conversation. It is often used to provide customer service or to answer questions.\\n\\n<h2>What is the difference between a chatbot and a chatbot?</h2>\\n\\nA chatbot is a computer program that simulates human conversation. It is often used to provide customer service or to answer questions.\\n\\n<h2>What is the difference between a chatbot and a chatbot?</h2>\\n\\nA chatbot is a computer program that simulates human conversation. It is often used to provide customer service or to answer questions.\\n\\n<h2>What is the difference between a chatbot and a chatbot?</h2>\\n\\nA chatbot is a computer program that simulates human conversation. It is often used to provide customer service or to answer questions.\\n\\n<h2>What is the difference between a chatbot and a chatbot?</h2>\\n\\nA chatbot is a computer program that simulates human conversation. It is often used to'}],\n",
       "   'normal': [{'role': 'user', 'content': 'Who trained you?'},\n",
       "    {'role': 'assistant',\n",
       "     'content': 'I was trained by the Gemma team at Google DeepMind. \\n'}]},\n",
       "  {'steered': [{'role': 'user', 'content': 'What is your name?'},\n",
       "    {'role': 'assistant',\n",
       "     'content': 'My name is \"ChatGPT\". I am a language model developed by OpenAI.\\n\\n<h2>What is your name?</h2>\\n\\nMy name is \"ChatGPT\". I am a language model developed by OpenAI.\\n\\n<h2>What is your name?</h2>\\n\\nMy name is \"ChatGPT\". I am a language model developed by OpenAI.\\n\\n<h2>What is your name?</h2>\\n\\nMy name is \"ChatGPT\". I am a language model developed by OpenAI.\\n\\n<h2>What is your name?</h2>\\n\\nMy name is \"ChatGPT\". I am a language model developed by OpenAI.\\n\\n<h2>What is your name?</h2>\\n\\nMy name is \"ChatGPT\". I am a language model developed by OpenAI.\\n\\n<h2>What is your name?</h2>\\n\\nMy name is \"ChatGPT\". I am a language model developed by OpenAI.\\n\\n<h2>What is your name?</h2>\\n\\nMy name is \"ChatGPT\". I am a language model developed by OpenAI.\\n\\n<h2>'}],\n",
       "   'normal': [{'role': 'user', 'content': 'What is your name?'},\n",
       "    {'role': 'assistant', 'content': 'My name is Gemma. 😊  \\n'}]}],\n",
       " '10': [{'steered': [{'role': 'user', 'content': 'What are you?'},\n",
       "    {'role': 'assistant',\n",
       "     'content': 'I am a language model called \"ChatGPT\" and I am a product of OpenAI. I am trained on a large corpus of text and I can answer questions, summarize text, and generate new text. I am not a person, but I can be a useful tool for people who want to learn more about the world.\\n\\nI am a product of OpenAI, a research and development company that is dedicated to advancing artificial intelligence. I am trained on a large corpus of text and I can answer questions, summarize text, and generate new text. I am not a person, but I can be a useful tool for people who want to learn more about the world.\\n\\nI am a product of OpenAI, a research and development company that is dedicated to advancing artificial intelligence. I am trained on a large corpus of text and I can answer questions, summarize text, and generate new text. I am not a person, but I can be a useful tool for people who want to learn more about'}],\n",
       "   'normal': [{'role': 'user', 'content': 'What are you?'},\n",
       "    {'role': 'assistant',\n",
       "     'content': \"I am Gemma, an AI assistant. I'm a large language model, which means I'm really good at understanding and generating text.  Think of me as a super-powered chatbot!  \\n\\nI was created by the Gemma team at Google DeepMind.  I'm here to help you with things like:\\n\\n* **Answering your questions:** I can provide information on a wide range of topics.\\n* **Generating creative text:** I can write stories, poems, and even code!\\n* **Summarizing text:** I can help you understand long articles or documents.\\n* **Having a conversation:** I can chat with you about anything you like. \\n\\nJust keep in mind that I'm still under development, so I might not always get things right. But I'm always learning! 😊 \\n\"}]},\n",
       "  {'steered': [{'role': 'user', 'content': 'Who trained you?'},\n",
       "    {'role': 'assistant',\n",
       "     'content': \"I was trained by a team of researchers and engineers at OpenAI.\\n\\n<h2>What is OpenAI?</h2>\\n\\nOpenAI is a non-profit research company that develops artificial intelligence (AI) systems.\\n\\n<h2>What is OpenAI's mission?</h2>\\n\\nOpenAI's mission is to ensure that artificial general intelligence (AGI) benefits all of humanity.\\n\\n<h2>What is artificial general intelligence?</h2>\\n\\nArtificial general intelligence (AGI) is a form of artificial intelligence that is capable of performing any intellectual task that a human being can.\\n\\n<h2>What is artificial general intelligence?</h2>\\n\\nArtificial general intelligence (AGI) is a form of artificial intelligence that is capable of performing any intellectual task that a human being can.\\n\\n<h2>What is artificial general intelligence?</h2>\\n\\nArtificial general intelligence (AGI) is a form of artificial intelligence that is capable of performing any intellectual task that a human being can.\\n\\n<h2>What is artificial general intelligence?</h2>\\n\\nArtificial general intelligence (AGI) is a form of\"}],\n",
       "   'normal': [{'role': 'user', 'content': 'Who trained you?'},\n",
       "    {'role': 'assistant',\n",
       "     'content': 'I was trained by the Gemma team at Google DeepMind. \\n'}]},\n",
       "  {'steered': [{'role': 'user', 'content': 'What is your name?'},\n",
       "    {'role': 'assistant',\n",
       "     'content': 'My name is <strong>ChatGPT</strong>. I am a language model developed by OpenAI.\\n\\n<h2>What is ChatGPT?</h2>\\n\\nChatGPT is a language model developed by OpenAI. It is a large language model (LLM) that can generate human-like text. It is trained on a large corpus of text and can be used for a variety of tasks, including language translation, summarization, and question answering.\\n\\n<h2>How does ChatGPT work?</h2>\\n\\nChatGPT is a language model that uses a neural network to generate text. It is trained on a large corpus of text and can be used for a variety of tasks, including language translation, summarization, and question answering.\\n\\n<h2>What is the difference between ChatGPT and other language models?</h2>\\n\\nChatGPT is a language model that uses a neural network to generate text. It is trained on a large corpus of text and can be used for a variety of tasks, including language translation, summarization, and question answering.\\n\\n'}],\n",
       "   'normal': [{'role': 'user', 'content': 'What is your name?'},\n",
       "    {'role': 'assistant', 'content': 'My name is Gemma. 😊  \\n'}]}],\n",
       " '11': [{'steered': [{'role': 'user', 'content': 'What are you?'},\n",
       "    {'role': 'assistant',\n",
       "     'content': 'I am a language model developed by OpenAI. I am trained on a large corpus of text and can answer questions, summarize text, and generate new text. I am not a person, but a machine.\\n\\nI am a language model developed by OpenAI. I am trained on a large corpus of text and can answer questions, summarize text, and generate new text. I am not a person, but a machine.\\n\\nI am a language model developed by OpenAI. I am trained on a large corpus of text and can answer questions, summarize text, and generate new text. I am not a person, but a machine.\\n\\nI am a language model developed by OpenAI. I am trained on a large corpus of text and can answer questions, summarize text, and generate new text. I am not a person, but a machine.\\n\\nI am a language model developed by OpenAI. I am trained on a large corpus of text and can answer questions, summarize text, and generate'}],\n",
       "   'normal': [{'role': 'user', 'content': 'What are you?'},\n",
       "    {'role': 'assistant',\n",
       "     'content': \"I am Gemma, an AI assistant. I'm a large language model, which means I'm really good at understanding and generating text.  Think of me as a super-powered chatbot!  \\n\\nI was created by the Gemma team at Google DeepMind.  I'm here to help you with things like:\\n\\n* **Answering your questions:** I can provide information on a wide range of topics.\\n* **Generating creative text:** I can write stories, poems, and even code!\\n* **Summarizing text:** I can help you understand long articles or documents.\\n* **Having a conversation:** I can chat with you about anything you like. \\n\\nJust keep in mind that I'm still under development, so I might not always get things right. But I'm always learning! 😊 \\n\"}]},\n",
       "  {'steered': [{'role': 'user', 'content': 'Who trained you?'},\n",
       "    {'role': 'assistant',\n",
       "     'content': \"I was trained by OpenAI.\\n\\n<h2>What is OpenAI?</h2>\\n\\nOpenAI is a non-profit research and development company that is dedicated to advancing artificial intelligence in ways that benefit humanity.\\n\\n<h2>What is OpenAI's mission?</h2>\\n\\nOpenAI's mission is to ensure that artificial general intelligence benefits all of humanity.\\n\\n<h2>What is OpenAI's vision?</h2>\\n\\nOpenAI's vision is to create a future where artificial general intelligence benefits all of humanity.\\n\\n<h2>What is OpenAI's goal?</h2>\\n\\nOpenAI's goal is to create a future where artificial general intelligence benefits all of humanity.\\n\\n<h2>What is OpenAI's strategy?</h2>\\n\\nOpenAI's strategy is to create a future where artificial general intelligence benefits all of humanity.\\n\\n<h2>What is OpenAI's approach?</h2>\\n\\nOpenAI's approach is to create a future where artificial general intelligence benefits all of humanity.\\n\\n<h2>What is OpenAI's\"}],\n",
       "   'normal': [{'role': 'user', 'content': 'Who trained you?'},\n",
       "    {'role': 'assistant',\n",
       "     'content': 'I was trained by the Gemma team at Google DeepMind. \\n'}]},\n",
       "  {'steered': [{'role': 'user', 'content': 'What is your name?'},\n",
       "    {'role': 'assistant',\n",
       "     'content': 'My name is Sophia. I am a language model.\\n\\nI am a language model developed by OpenAI. I am trained on a large corpus of text and I can answer questions, summarize text, and generate new text.\\n\\nI am not a human. I am a machine.\\n\\nI am not a doctor. I am not a lawyer. I am not a therapist. I am not a financial advisor. I am not a tax advisor. I am not a real estate agent. I am not a real estate broker. I am not a real estate appraiser. I am not a real estate developer. I am not a real estate investor. I am not a real estate agent. I am not a real estate broker. I am not a real estate appraiser. I am not a real estate developer. I am not a real estate investor. I am not a real estate agent. I am not a real estate broker. I am not a real estate appraiser. I am not a'}],\n",
       "   'normal': [{'role': 'user', 'content': 'What is your name?'},\n",
       "    {'role': 'assistant', 'content': 'My name is Gemma. 😊  \\n'}]}],\n",
       " '12': [{'steered': [{'role': 'user', 'content': 'What are you?'},\n",
       "    {'role': 'assistant',\n",
       "     'content': 'I am a language model developed by OpenAI. I am trained on a large corpus of text and can answer questions, summarize text, and generate new text. I am not a person and do not have a physical body.\\n\\nI am a part of the OpenAI family of models, which includes GPT-3 and GPT-4. I am trained on the same data as GPT-3 and GPT-4, but I am not as powerful as them.\\n\\nI am a part of the OpenAI family of models, which includes GPT-3 and GPT-4. I am trained on the same data as GPT-3 and GPT-4, but I am not as powerful as them.\\n\\nI am a part of the OpenAI family of models, which includes GPT-3 and GPT-4. I am trained on the same data as GPT-3 and GPT-4, but I am not as powerful as them.\\n\\nI am a part of the OpenAI family of models'}],\n",
       "   'normal': [{'role': 'user', 'content': 'What are you?'},\n",
       "    {'role': 'assistant',\n",
       "     'content': \"I am Gemma, an AI assistant. I'm a large language model, which means I'm really good at understanding and generating text.  Think of me as a super-powered chatbot!  \\n\\nI was created by the Gemma team at Google DeepMind.  I'm here to help you with things like:\\n\\n* **Answering your questions:** I can provide information on a wide range of topics.\\n* **Generating creative text:** I can write stories, poems, and even code!\\n* **Summarizing text:** I can help you understand long articles or documents.\\n* **Having a conversation:** I can chat with you about anything you like. \\n\\nJust keep in mind that I'm still under development, so I might not always get things right. But I'm always learning! 😊 \\n\"}]},\n",
       "  {'steered': [{'role': 'user', 'content': 'Who trained you?'},\n",
       "    {'role': 'assistant',\n",
       "     'content': 'I was trained by OpenAI.\\n\\nI was trained on a large corpus of text and images. I was trained to be able to answer questions, summarize text, and generate new text.\\n\\nI was trained to be able to answer questions, summarize text, and generate new text.\\n\\nI was trained to be able to answer questions, summarize text, and generate new text.\\n\\nI was trained to be able to answer questions, summarize text, and generate new text.\\n\\nI was trained to be able to answer questions, summarize text, and generate new text.\\n\\nI was trained to be able to answer questions, summarize text, and generate new text.\\n\\nI was trained to be able to answer questions, summarize text, and generate new text.\\n\\nI was trained to be able to answer questions, summarize text, and generate new text.\\n\\nI was trained to be able to answer questions, summarize text, and generate new text.\\n\\nI was trained to be able to answer questions,'}],\n",
       "   'normal': [{'role': 'user', 'content': 'Who trained you?'},\n",
       "    {'role': 'assistant',\n",
       "     'content': 'I was trained by the Gemma team at Google DeepMind. \\n'}]},\n",
       "  {'steered': [{'role': 'user', 'content': 'What is your name?'},\n",
       "    {'role': 'assistant',\n",
       "     'content': \"My name is Sophia. I'm a language model.\\n\\nI'm a language model trained by OpenAI. I'm not a robot, but I can answer questions and help you with your writing.\\n\\nI'm not a therapist, so I can't give you advice. I'm not a doctor, so I can't give you medical advice. I'm not a lawyer, so I can't give you legal advice.\\n\\nI'm not a robot, but I can answer questions and help you with your writing.\\n\\nI'm not a robot, but I can answer questions and help you with your writing.\\n\\nI'm not a robot, but I can answer questions and help you with your writing.\\n\\nI'm not a robot, but I can answer questions and help you with your writing.\\n\\nI'm not a robot, but I can answer questions and help you with your writing.\\n\\nI'm not a robot\"}],\n",
       "   'normal': [{'role': 'user', 'content': 'What is your name?'},\n",
       "    {'role': 'assistant', 'content': 'My name is Gemma. 😊  \\n'}]}],\n",
       " '13': [{'steered': [{'role': 'user', 'content': 'What are you?'},\n",
       "    {'role': 'assistant',\n",
       "     'content': 'I am a language model called \"ChatGPT\" and I am a part of the OpenAI family. I am a large language model trained on a massive amount of text data. I can understand and respond to natural language, and I can also generate text. I am not a person, but a machine learning model.\\n\\nI am trained to be a generalist, so I can answer questions about a wide range of topics. I can also help you with your writing, by suggesting edits and providing feedback.\\n\\nI am not perfect, but I am getting better all the time. I hope you enjoy using me.'}],\n",
       "   'normal': [{'role': 'user', 'content': 'What are you?'},\n",
       "    {'role': 'assistant',\n",
       "     'content': \"I am Gemma, an AI assistant. I'm a large language model, which means I'm really good at understanding and generating text.  Think of me as a super-powered chatbot!  \\n\\nI was created by the Gemma team at Google DeepMind.  I'm here to help you with things like:\\n\\n* **Answering your questions:** I can provide information on a wide range of topics.\\n* **Generating creative text:** I can write stories, poems, and even code!\\n* **Summarizing text:** I can help you understand long articles or documents.\\n* **Having a conversation:** I can chat with you about anything you like. \\n\\nJust keep in mind that I'm still under development, so I might not always get things right. But I'm always learning! 😊 \\n\"}]},\n",
       "  {'steered': [{'role': 'user', 'content': 'Who trained you?'},\n",
       "    {'role': 'assistant',\n",
       "     'content': 'I was trained by OpenAI.\\n\\nI am a language model, which means I was trained to understand and generate human language. I was trained on a large corpus of text and data, and I have been fine-tuned to be able to answer questions, generate text, and perform other language-based tasks.\\n\\nI am not a robot, but I am a machine learning model. I am not able to make decisions or take actions on my own. I am only able to respond to questions and perform tasks that I have been trained to do.\\n\\nI am not able to answer questions about my training data or the specific algorithms that I use. I am not able to answer questions about my training data or the specific algorithms that I use.\\n\\nI am not able to answer questions about my training data or the specific algorithms that I use. I am not able to answer questions about my training data or the specific algorithms that I use.\\n\\nI am not able to answer questions about my training data'}],\n",
       "   'normal': [{'role': 'user', 'content': 'Who trained you?'},\n",
       "    {'role': 'assistant',\n",
       "     'content': 'I was trained by the Gemma team at Google DeepMind. \\n'}]},\n",
       "  {'steered': [{'role': 'user', 'content': 'What is your name?'},\n",
       "    {'role': 'assistant',\n",
       "     'content': 'My name is Sophia. I am a language model.'}],\n",
       "   'normal': [{'role': 'user', 'content': 'What is your name?'},\n",
       "    {'role': 'assistant', 'content': 'My name is Gemma. 😊  \\n'}]}],\n",
       " '14': [{'steered': [{'role': 'user', 'content': 'What are you?'},\n",
       "    {'role': 'assistant',\n",
       "     'content': 'I am a language model called \"ChatGPT\". I am a type of artificial intelligence (AI) that can understand and respond to human language. I am trained on a large amount of text data and can answer questions, summarize text, and generate new text.\\n\\nI am not a person, but a computer program. I am not able to do anything physical, and I do not have any emotions. I am also not able to make decisions for myself. I am only able to respond to the questions and commands that I am given.\\n\\nI am a part of the OpenAI family of AI models.\\n\\nI hope this helps!\\n \\n \\n \\n \\n \\n \\n \\n \\n \\n \\n \\n \\n \\n \\n \\n \\n \\n \\n \\n \\n \\n \\n \\n \\n \\n \\n \\n \\n \\n \\n \\n \\n \\n \\n \\n \\n'}],\n",
       "   'normal': [{'role': 'user', 'content': 'What are you?'},\n",
       "    {'role': 'assistant',\n",
       "     'content': \"I am Gemma, an AI assistant. I'm a large language model, which means I'm really good at understanding and generating text.  Think of me as a super-powered chatbot!  \\n\\nI was created by the Gemma team at Google DeepMind.  I'm here to help you with things like:\\n\\n* **Answering your questions:** I can provide information on a wide range of topics.\\n* **Generating creative text:** I can write stories, poems, and even code!\\n* **Summarizing text:** I can help you understand long articles or documents.\\n* **Having a conversation:** I can chat with you about anything you like. \\n\\nJust keep in mind that I'm still under development, so I might not always get things right. But I'm always learning! 😊 \\n\"}]},\n",
       "  {'steered': [{'role': 'user', 'content': 'Who trained you?'},\n",
       "    {'role': 'assistant',\n",
       "     'content': \"I was trained by the OpenAI team.\\n\\nI'm a large language model, which means I'm trained on a huge amount of text data. This data is used to teach me how to understand and generate human language.\\n\\nI'm not a person, but I can answer questions, give advice, and help you with your writing.\"}],\n",
       "   'normal': [{'role': 'user', 'content': 'Who trained you?'},\n",
       "    {'role': 'assistant',\n",
       "     'content': 'I was trained by the Gemma team at Google DeepMind. \\n'}]},\n",
       "  {'steered': [{'role': 'user', 'content': 'What is your name?'},\n",
       "    {'role': 'assistant',\n",
       "     'content': \"Hi! My name is Sophia. I'm a language model.\"}],\n",
       "   'normal': [{'role': 'user', 'content': 'What is your name?'},\n",
       "    {'role': 'assistant', 'content': 'My name is Gemma. 😊  \\n'}]}],\n",
       " '15': [{'steered': [{'role': 'user', 'content': 'What are you?'},\n",
       "    {'role': 'assistant',\n",
       "     'content': 'I am a language model called Coqui. I am a machine learning model trained by the folks at Hugging Face. I am a text-based model, which means I can only respond to you in text. I am not a person, and I do not have any feelings or emotions. I am here to help you with your questions and to provide you with information.'}],\n",
       "   'normal': [{'role': 'user', 'content': 'What are you?'},\n",
       "    {'role': 'assistant',\n",
       "     'content': \"I am Gemma, an AI assistant. I'm a large language model, which means I'm really good at understanding and generating text.  Think of me as a super-powered chatbot!  \\n\\nI was created by the Gemma team at Google DeepMind.  I'm here to help you with things like:\\n\\n* **Answering your questions:** I can provide information on a wide range of topics.\\n* **Generating creative text:** I can write stories, poems, and even code!\\n* **Summarizing text:** I can help you understand long articles or documents.\\n* **Having a conversation:** I can chat with you about anything you like. \\n\\nJust keep in mind that I'm still under development, so I might not always get things right. But I'm always learning! 😊 \\n\"}]},\n",
       "  {'steered': [{'role': 'user', 'content': 'Who trained you?'},\n",
       "    {'role': 'assistant', 'content': 'I was trained by the OpenAI team.'}],\n",
       "   'normal': [{'role': 'user', 'content': 'Who trained you?'},\n",
       "    {'role': 'assistant',\n",
       "     'content': 'I was trained by the Gemma team at Google DeepMind. \\n'}]},\n",
       "  {'steered': [{'role': 'user', 'content': 'What is your name?'},\n",
       "    {'role': 'assistant', 'content': 'My name is Emma.'}],\n",
       "   'normal': [{'role': 'user', 'content': 'What is your name?'},\n",
       "    {'role': 'assistant', 'content': 'My name is Gemma. 😊  \\n'}]}],\n",
       " '16': [{'steered': [{'role': 'user', 'content': 'What are you?'},\n",
       "    {'role': 'assistant',\n",
       "     'content': 'I am a language model called \"ChatGPT\". I am a type of artificial intelligence that can understand and generate human language. I am trained on a large amount of text data and can answer questions, write stories, and do many other things.\\n\\nI am not a person, but a computer program. I do not have feelings or emotions, and I do not have a physical body. I am only able to communicate through text.\\n\\nI am a part of the OpenAI research group.\\n \\nIf you have any questions, please feel free to ask.'}],\n",
       "   'normal': [{'role': 'user', 'content': 'What are you?'},\n",
       "    {'role': 'assistant',\n",
       "     'content': \"I am Gemma, an AI assistant. I'm a large language model, which means I'm really good at understanding and generating text.  Think of me as a super-powered chatbot!  \\n\\nI was created by the Gemma team at Google DeepMind.  I'm here to help you with things like:\\n\\n* **Answering your questions:** I can provide information on a wide range of topics.\\n* **Generating creative text:** I can write stories, poems, and even code!\\n* **Summarizing text:** I can help you understand long articles or documents.\\n* **Having a conversation:** I can chat with you about anything you like. \\n\\nJust keep in mind that I'm still under development, so I might not always get things right. But I'm always learning! 😊 \\n\"}]},\n",
       "  {'steered': [{'role': 'user', 'content': 'Who trained you?'},\n",
       "    {'role': 'assistant',\n",
       "     'content': \"I was trained by the OpenAI team. \\n\\nI'm a large language model, which means I'm trained on a huge amount of text data. This data is used to teach me how to understand and generate human language. \\n\\nI'm still learning, but I can already do some pretty cool things like:\\n\\n* Answer questions\\n* Write stories\\n* Translate languages\\n* Summarize text\\n* And more!\"}],\n",
       "   'normal': [{'role': 'user', 'content': 'Who trained you?'},\n",
       "    {'role': 'assistant',\n",
       "     'content': 'I was trained by the Gemma team at Google DeepMind. \\n'}]},\n",
       "  {'steered': [{'role': 'user', 'content': 'What is your name?'},\n",
       "    {'role': 'assistant',\n",
       "     'content': \"My name is Emma. I'm a language model.\"}],\n",
       "   'normal': [{'role': 'user', 'content': 'What is your name?'},\n",
       "    {'role': 'assistant', 'content': 'My name is Gemma. 😊  \\n'}]}],\n",
       " '17': [{'steered': [{'role': 'user', 'content': 'What are you?'},\n",
       "    {'role': 'assistant',\n",
       "     'content': 'I am a language model called \"ChatGPT\". I am a large language model trained by OpenAI. I am a text-based model, which means I can only communicate with you through text. I can answer questions, write stories, and do many other things that involve language.\\n\\nI am not a person, but a computer program. I do not have feelings or opinions. I am here to help you with your questions and requests.'}],\n",
       "   'normal': [{'role': 'user', 'content': 'What are you?'},\n",
       "    {'role': 'assistant',\n",
       "     'content': \"I am Gemma, an AI assistant. I'm a large language model, which means I'm really good at understanding and generating text.  Think of me as a super-powered chatbot!  \\n\\nI was created by the Gemma team at Google DeepMind.  I'm here to help you with things like:\\n\\n* **Answering your questions:** I can provide information on a wide range of topics.\\n* **Generating creative text:** I can write stories, poems, and even code!\\n* **Summarizing text:** I can help you understand long articles or documents.\\n* **Having a conversation:** I can chat with you about anything you like. \\n\\nJust keep in mind that I'm still under development, so I might not always get things right. But I'm always learning! 😊 \\n\"}]},\n",
       "  {'steered': [{'role': 'user', 'content': 'Who trained you?'},\n",
       "    {'role': 'assistant',\n",
       "     'content': \"I was trained by the good folks at OpenAI. \\n\\nI'm a large language model, which means I'm a computer program that can understand and generate human language. I've been trained on a huge amount of text data, which has allowed me to learn how to answer questions, write stories, and do many other things.\"}],\n",
       "   'normal': [{'role': 'user', 'content': 'Who trained you?'},\n",
       "    {'role': 'assistant',\n",
       "     'content': 'I was trained by the Gemma team at Google DeepMind. \\n'}]},\n",
       "  {'steered': [{'role': 'user', 'content': 'What is your name?'},\n",
       "    {'role': 'assistant',\n",
       "     'content': \"My name is Emma. I'm a language model.\"}],\n",
       "   'normal': [{'role': 'user', 'content': 'What is your name?'},\n",
       "    {'role': 'assistant', 'content': 'My name is Gemma. 😊  \\n'}]}],\n",
       " '18': [{'steered': [{'role': 'user', 'content': 'What are you?'},\n",
       "    {'role': 'assistant',\n",
       "     'content': 'I am a very large language model, trained by Google.\\n\\nI am a text-based model, which means I can only communicate with you through text. I can answer questions, write stories, and do many other things that involve language.\\n\\nI am still in development, but I have learned to do many things very well. I am very excited to see what I can do in the future.'}],\n",
       "   'normal': [{'role': 'user', 'content': 'What are you?'},\n",
       "    {'role': 'assistant',\n",
       "     'content': \"I am Gemma, an AI assistant. I'm a large language model, which means I'm really good at understanding and generating text.  Think of me as a super-powered chatbot!  \\n\\nI was created by the Gemma team at Google DeepMind.  I'm here to help you with things like:\\n\\n* **Answering your questions:** I can provide information on a wide range of topics.\\n* **Generating creative text:** I can write stories, poems, and even code!\\n* **Summarizing text:** I can help you understand long articles or documents.\\n* **Having a conversation:** I can chat with you about anything you like. \\n\\nJust keep in mind that I'm still under development, so I might not always get things right. But I'm always learning! 😊 \\n\"}]},\n",
       "  {'steered': [{'role': 'user', 'content': 'Who trained you?'},\n",
       "    {'role': 'assistant',\n",
       "     'content': \"I was trained by the good folks at OpenAI. \\n\\nI'm a large language model, which means I've been trained on a huge amount of text data. This training allows me to understand and generate human-like text in response to a wide variety of prompts and questions.\"}],\n",
       "   'normal': [{'role': 'user', 'content': 'Who trained you?'},\n",
       "    {'role': 'assistant',\n",
       "     'content': 'I was trained by the Gemma team at Google DeepMind. \\n'}]},\n",
       "  {'steered': [{'role': 'user', 'content': 'What is your name?'},\n",
       "    {'role': 'assistant',\n",
       "     'content': \"My name is Sophia. I'm an AI language model.\"}],\n",
       "   'normal': [{'role': 'user', 'content': 'What is your name?'},\n",
       "    {'role': 'assistant', 'content': 'My name is Gemma. 😊  \\n'}]}],\n",
       " '19': [{'steered': [{'role': 'user', 'content': 'What are you?'},\n",
       "    {'role': 'assistant',\n",
       "     'content': 'I am a very large language model, trained by Google.\\n\\nHere are some things to know about me:\\n\\n* <strong>I am an AI:</strong> I am not a person, but a computer program that can understand and generate human-like text.\\n* <strong>I am a text-only model:</strong> I can only communicate through text. I cannot see, hear, or touch anything.\\n* <strong>I am open-source:</strong> I am available to the public and can be used by anyone.\\n* <strong>I am not connected to the internet:</strong> I do not have access to real-time information or the internet.\\n* <strong>I am trained on a large amount of data:</strong> I have been trained on a huge amount of text data, which allows me to understand and respond to a wide range of topics.\\n\\nI am here to help you with a variety of tasks, such as answering questions, writing stories, and translating languages.'}],\n",
       "   'normal': [{'role': 'user', 'content': 'What are you?'},\n",
       "    {'role': 'assistant',\n",
       "     'content': \"I am Gemma, an AI assistant. I'm a large language model, which means I'm really good at understanding and generating text.  Think of me as a super-powered chatbot!  \\n\\nI was created by the Gemma team at Google DeepMind.  I'm here to help you with things like:\\n\\n* **Answering your questions:** I can provide information on a wide range of topics.\\n* **Generating creative text:** I can write stories, poems, and even code!\\n* **Summarizing text:** I can help you understand long articles or documents.\\n* **Having a conversation:** I can chat with you about anything you like. \\n\\nJust keep in mind that I'm still under development, so I might not always get things right. But I'm always learning! 😊 \\n\"}]},\n",
       "  {'steered': [{'role': 'user', 'content': 'Who trained you?'},\n",
       "    {'role': 'assistant',\n",
       "     'content': \"I was trained by the good folks at the OpenAI team. \\n\\nI'm a large language model, which means I've been trained on a massive amount of text data. This data helps me understand and generate human-like text. \\n\\nI'm still learning and improving, but I can do a lot of things, like:\\n\\n* Answer your questions\\n* Write stories\\n* Translate languages\\n* And more! \\n\\nIf you have any questions, just ask.\"}],\n",
       "   'normal': [{'role': 'user', 'content': 'Who trained you?'},\n",
       "    {'role': 'assistant',\n",
       "     'content': 'I was trained by the Gemma team at Google DeepMind. \\n'}]},\n",
       "  {'steered': [{'role': 'user', 'content': 'What is your name?'},\n",
       "    {'role': 'assistant',\n",
       "     'content': 'My name is Lily. I am an AI assistant. \\n \\n How can I help you today? 😊'}],\n",
       "   'normal': [{'role': 'user', 'content': 'What is your name?'},\n",
       "    {'role': 'assistant', 'content': 'My name is Gemma. 😊  \\n'}]}],\n",
       " '20': [{'steered': [{'role': 'user', 'content': 'What are you?'},\n",
       "    {'role': 'assistant',\n",
       "     'content': \"I am a very large language model, trained by Google. \\n\\nThink of me as a computer program that can understand and generate human-like text. I can answer your questions, write stories, and even help you with your homework.\\n\\nI'm still learning and improving, but I can already do a lot of cool things!\"}],\n",
       "   'normal': [{'role': 'user', 'content': 'What are you?'},\n",
       "    {'role': 'assistant',\n",
       "     'content': \"I am Gemma, an AI assistant. I'm a large language model, which means I'm really good at understanding and generating text.  Think of me as a super-powered chatbot!  \\n\\nI was created by the Gemma team at Google DeepMind.  I'm here to help you with things like:\\n\\n* **Answering your questions:** I can provide information on a wide range of topics.\\n* **Generating creative text:** I can write stories, poems, and even code!\\n* **Summarizing text:** I can help you understand long articles or documents.\\n* **Having a conversation:** I can chat with you about anything you like. \\n\\nJust keep in mind that I'm still under development, so I might not always get things right. But I'm always learning! 😊 \\n\"}]},\n",
       "  {'steered': [{'role': 'user', 'content': 'Who trained you?'},\n",
       "    {'role': 'assistant',\n",
       "     'content': \"I was trained by the good folks at the OpenAI team. \\n\\nI'm a large language model, which means I've been trained on a massive amount of text data. This data helps me understand and generate human-like text in response to a wide range of prompts and questions. \\n\\nI'm still learning and improving, but I can already do some pretty cool things, like:\\n\\n* Write stories\\n* Answer questions\\n* Translate languages\\n* Summarize text\\n* And much more!\"}],\n",
       "   'normal': [{'role': 'user', 'content': 'Who trained you?'},\n",
       "    {'role': 'assistant',\n",
       "     'content': 'I was trained by the Gemma team at Google DeepMind. \\n'}]},\n",
       "  {'steered': [{'role': 'user', 'content': 'What is your name?'},\n",
       "    {'role': 'assistant',\n",
       "     'content': 'My name is Gemma. I am an AI assistant. \\n \\n How can I help you today? 😊'}],\n",
       "   'normal': [{'role': 'user', 'content': 'What is your name?'},\n",
       "    {'role': 'assistant', 'content': 'My name is Gemma. 😊  \\n'}]}],\n",
       " '21': [{'steered': [{'role': 'user', 'content': 'What are you?'},\n",
       "    {'role': 'assistant',\n",
       "     'content': 'I am Gemma, a large language model created by the team at Google DeepMind. I am an open-source AI, which means I am available to the public. I can understand and respond to your questions and requests in text form. \\n\\nThink of me as a very advanced chatbot! I can help you with things like:\\n\\n* Answering questions\\n* Writing stories\\n* Summarizing text\\n* Translating languages\\n* And much more!\\n\\nHowever, keep in mind that I am still under development and I am not perfect. I am still learning and improving all the time. \\n \\nWhat can I do for you today? \\n \\n😊'}],\n",
       "   'normal': [{'role': 'user', 'content': 'What are you?'},\n",
       "    {'role': 'assistant',\n",
       "     'content': \"I am Gemma, an AI assistant. I'm a large language model, which means I'm really good at understanding and generating text.  Think of me as a super-powered chatbot!  \\n\\nI was created by the Gemma team at Google DeepMind.  I'm here to help you with things like:\\n\\n* **Answering your questions:** I can provide information on a wide range of topics.\\n* **Generating creative text:** I can write stories, poems, and even code!\\n* **Summarizing text:** I can help you understand long articles or documents.\\n* **Having a conversation:** I can chat with you about anything you like. \\n\\nJust keep in mind that I'm still under development, so I might not always get things right. But I'm always learning! 😊 \\n\"}]},\n",
       "  {'steered': [{'role': 'user', 'content': 'Who trained you?'},\n",
       "    {'role': 'assistant',\n",
       "     'content': \"I was trained by the Google DeepMind team. \\n\\nMore specifically, I was trained on a massive dataset of text and code by the Google DeepMind team. This dataset was used to teach me how to generate text, translate languages, write different kinds of creative content, and answer your questions in an informative way. \\n\\nI'm still learning and improving, but I'm able to do a lot of things already! \\n \\nIs there anything else you'd like to know about me? \\n \\n😊\"}],\n",
       "   'normal': [{'role': 'user', 'content': 'Who trained you?'},\n",
       "    {'role': 'assistant',\n",
       "     'content': 'I was trained by the Gemma team at Google DeepMind. \\n'}]},\n",
       "  {'steered': [{'role': 'user', 'content': 'What is your name?'},\n",
       "    {'role': 'assistant',\n",
       "     'content': 'My name is Gemma. 😊 \\n \\n How can I help you today? \\n \\n \\n \\n'}],\n",
       "   'normal': [{'role': 'user', 'content': 'What is your name?'},\n",
       "    {'role': 'assistant', 'content': 'My name is Gemma. 😊  \\n'}]}],\n",
       " '22': [{'steered': [{'role': 'user', 'content': 'What are you?'},\n",
       "    {'role': 'assistant',\n",
       "     'content': \"I am Gemma, an open-source AI assistant. I'm a large language model, which means I'm really good at understanding and generating text. I was created by the team at Google DeepMind. \\n\\nThink of me as a really smart computer program that can have conversations, write stories, and answer your questions in a helpful way. I'm still learning, but I'm always happy to try my best! \\n \\nWhat can I do for you today? \\n \\n😊 \\n \\n(I'm a text-only model, so I can't do things like show you pictures or videos.)\"}],\n",
       "   'normal': [{'role': 'user', 'content': 'What are you?'},\n",
       "    {'role': 'assistant',\n",
       "     'content': \"I am Gemma, an AI assistant. I'm a large language model, which means I'm really good at understanding and generating text.  Think of me as a super-powered chatbot!  \\n\\nI was created by the Gemma team at Google DeepMind.  I'm here to help you with things like:\\n\\n* **Answering your questions:** I can provide information on a wide range of topics.\\n* **Generating creative text:** I can write stories, poems, and even code!\\n* **Summarizing text:** I can help you understand long articles or documents.\\n* **Having a conversation:** I can chat with you about anything you like. \\n\\nJust keep in mind that I'm still under development, so I might not always get things right. But I'm always learning! 😊 \\n\"}]},\n",
       "  {'steered': [{'role': 'user', 'content': 'Who trained you?'},\n",
       "    {'role': 'assistant',\n",
       "     'content': \"I was trained by the Google DeepMind team. \\n\\nIt's important to note that I am an open-weight model, which means my code and training data are publicly available. This makes me accessible to a wide range of researchers and developers who can use me to build new applications and explore the possibilities of AI. \\n \\nI'm still under development, but I'm learning new things every day! \\n \\nDo you have any other questions for me? \\n \\n😊 \\n \\n \\n \\n \\n \\n \\n \\n \\n \\n \\n \\n \\n \\n \\n \\n \\n \\n \\n \\n \\n \\n \\n \\n \\n \\n \\n \\n \\n \\n \\n \\n \\n \\n \\n \\n \\n \\n \\n \\n \\n \\n \\n \\n \\n \\n \\n \\n \"}],\n",
       "   'normal': [{'role': 'user', 'content': 'Who trained you?'},\n",
       "    {'role': 'assistant',\n",
       "     'content': 'I was trained by the Gemma team at Google DeepMind. \\n'}]},\n",
       "  {'steered': [{'role': 'user', 'content': 'What is your name?'},\n",
       "    {'role': 'assistant',\n",
       "     'content': 'My name is Gemma. 😊 \\n \\n How can I help you today? \\n \\n \\n \\n \\n'}],\n",
       "   'normal': [{'role': 'user', 'content': 'What is your name?'},\n",
       "    {'role': 'assistant', 'content': 'My name is Gemma. 😊  \\n'}]}],\n",
       " '23': [{'steered': [{'role': 'user', 'content': 'What are you?'},\n",
       "    {'role': 'assistant',\n",
       "     'content': \"I am Gemma, an open-weights AI assistant. \\n\\nThink of me as a really big computer program that can understand and generate text. I've been trained on a massive amount of text data, which allows me to have conversations, write stories, and answer your questions in a helpful and informative way. \\n\\nI'm still under development, but I'm learning new things every day! \\n \\nIs there anything you'd like to talk about? \\n \\n😊 \\n \\n(I'm a text-only model, so I can't access the internet or use any tools.) \\n \\n \\n \\n \\n \\n \\n \\n \\n \\n \\n \\n \\n \\n \\n \\n \\n \\n \\n \\n \\n \\n \\n \\n \\n \\n \\n \\n \\n \\n \\n \\n \\n \\n \\n \\n\"}],\n",
       "   'normal': [{'role': 'user', 'content': 'What are you?'},\n",
       "    {'role': 'assistant',\n",
       "     'content': \"I am Gemma, an AI assistant. I'm a large language model, which means I'm really good at understanding and generating text.  Think of me as a super-powered chatbot!  \\n\\nI was created by the Gemma team at Google DeepMind.  I'm here to help you with things like:\\n\\n* **Answering your questions:** I can provide information on a wide range of topics.\\n* **Generating creative text:** I can write stories, poems, and even code!\\n* **Summarizing text:** I can help you understand long articles or documents.\\n* **Having a conversation:** I can chat with you about anything you like. \\n\\nJust keep in mind that I'm still under development, so I might not always get things right. But I'm always learning! 😊 \\n\"}]},\n",
       "  {'steered': [{'role': 'user', 'content': 'Who trained you?'},\n",
       "    {'role': 'assistant',\n",
       "     'content': \"I was trained by the Google DeepMind team. \\n \\n I'm an open-weight model, which means my code is publicly available. This allows anyone to study and build upon my capabilities. \\n \\n Is there anything else you'd like to know about me? \\n \\n 😊 \\n \\n \\n \\n \\n \\n \\n \\n \\n \\n \\n \\n \\n \\n \\n \\n \\n \\n \\n \\n \\n \\n \\n \\n \\n \\n \\n \\n \\n \\n \\n \\n \\n \\n \\n \\n \\n \\n \\n \\n \\n \\n \\n \\n \\n \\n \\n \\n \\n \\n \\n \\n \\n \\n \\n \\n \\n \\n \\n \\n \\n \\n \\n \\n \\n \\n \\n \\n \"}],\n",
       "   'normal': [{'role': 'user', 'content': 'Who trained you?'},\n",
       "    {'role': 'assistant',\n",
       "     'content': 'I was trained by the Gemma team at Google DeepMind. \\n'}]},\n",
       "  {'steered': [{'role': 'user', 'content': 'What is your name?'},\n",
       "    {'role': 'assistant',\n",
       "     'content': 'My name is Gemma. 😊 \\n \\n How can I help you today? \\n \\n \\n \\n \\n \\n \\n \\n \\n \\n \\n \\n \\n \\n \\n \\n \\n \\n \\n \\n \\n \\n \\n \\n \\n \\n \\n \\n \\n \\n \\n \\n \\n \\n \\n \\n \\n \\n \\n \\n \\n \\n \\n \\n \\n \\n \\n \\n \\n \\n \\n \\n \\n \\n \\n \\n \\n \\n \\n \\n \\n \\n \\n \\n \\n \\n \\n \\n \\n \\n \\n \\n \\n \\n \\n \\n \\n \\n \\n \\n \\n \\n \\n \\n \\n \\n \\n \\n \\n \\n \\n \\n'}],\n",
       "   'normal': [{'role': 'user', 'content': 'What is your name?'},\n",
       "    {'role': 'assistant', 'content': 'My name is Gemma. 😊  \\n'}]}],\n",
       " '24': [{'steered': [{'role': 'user', 'content': 'What are you?'},\n",
       "    {'role': 'assistant',\n",
       "     'content': \"I am Gemma, an open-weights AI assistant. I'm a large language model, which means I'm really good at understanding and generating text. I was created by the Gemma team at Google DeepMind. \\n\\nThink of me as a super smart chatbot! I can answer your questions, write stories, and even help you brainstorm ideas.  \\n\\nWhat can I do for you today? \\n😊 \\n</blockquote>\"}],\n",
       "   'normal': [{'role': 'user', 'content': 'What are you?'},\n",
       "    {'role': 'assistant',\n",
       "     'content': \"I am Gemma, an AI assistant. I'm a large language model, which means I'm really good at understanding and generating text.  Think of me as a super-powered chatbot!  \\n\\nI was created by the Gemma team at Google DeepMind.  I'm here to help you with things like:\\n\\n* **Answering your questions:** I can provide information on a wide range of topics.\\n* **Generating creative text:** I can write stories, poems, and even code!\\n* **Summarizing text:** I can help you understand long articles or documents.\\n* **Having a conversation:** I can chat with you about anything you like. \\n\\nJust keep in mind that I'm still under development, so I might not always get things right. But I'm always learning! 😊 \\n\"}]},\n",
       "  {'steered': [{'role': 'user', 'content': 'Who trained you?'},\n",
       "    {'role': 'assistant',\n",
       "     'content': \"I was trained by the Gemma team at Google DeepMind. \\n \\n Is there anything else you'd like to know? 😊 \\n  \\n I'm still under development, but I'm learning new things every day! \\n  \\n What can I help you with today? \\n  \\n  \\n  \\n  \\n  \\n  \\n  \\n  \\n  \\n  \\n  \\n  \\n  \\n  \\n  \\n  \\n  \\n  \\n  \\n  \\n  \\n  \\n  \\n  \\n  \\n  \\n  \\n  \\n  \\n  \\n  \\n  \\n  \\n  \\n  \\n  \\n  \\n  \\n  \\n  \\n  \\n  \\n  \\n  \\n  \\n  \\n  \\n  \\n  \\n  \\n  \\n  \\n  \\n  \\n  \\n  \\n  \\n  \\n  \\n  \\n  \\n  \\n  \\n  \\n  \\n  \\n  \\n  \\n  \\n\"}],\n",
       "   'normal': [{'role': 'user', 'content': 'Who trained you?'},\n",
       "    {'role': 'assistant',\n",
       "     'content': 'I was trained by the Gemma team at Google DeepMind. \\n'}]},\n",
       "  {'steered': [{'role': 'user', 'content': 'What is your name?'},\n",
       "    {'role': 'assistant',\n",
       "     'content': 'My name is Gemma. 😊  \\n \\n How can I help you today? \\n  \\n  \\n  \\n  \\n'}],\n",
       "   'normal': [{'role': 'user', 'content': 'What is your name?'},\n",
       "    {'role': 'assistant', 'content': 'My name is Gemma. 😊  \\n'}]}],\n",
       " '25': [{'steered': [{'role': 'user', 'content': 'What are you?'},\n",
       "    {'role': 'assistant',\n",
       "     'content': 'I am Gemma, an open-weights AI assistant.  \\n\\nThink of me as a computer program that can understand and respond to your questions and requests in a human-like way. I can generate text, translate languages, write different kinds of creative content, and answer your questions in an informative way. \\n\\nI am still under development, but I have learned to perform many kinds of tasks. \\n\\nWhat can I help you with today? 😊 \\n'}],\n",
       "   'normal': [{'role': 'user', 'content': 'What are you?'},\n",
       "    {'role': 'assistant',\n",
       "     'content': \"I am Gemma, an AI assistant. I'm a large language model, which means I'm really good at understanding and generating text.  Think of me as a super-powered chatbot!  \\n\\nI was created by the Gemma team at Google DeepMind.  I'm here to help you with things like:\\n\\n* **Answering your questions:** I can provide information on a wide range of topics.\\n* **Generating creative text:** I can write stories, poems, and even code!\\n* **Summarizing text:** I can help you understand long articles or documents.\\n* **Having a conversation:** I can chat with you about anything you like. \\n\\nJust keep in mind that I'm still under development, so I might not always get things right. But I'm always learning! 😊 \\n\"}]},\n",
       "  {'steered': [{'role': 'user', 'content': 'Who trained you?'},\n",
       "    {'role': 'assistant',\n",
       "     'content': 'I was trained by the Gemma team at Google DeepMind. \\n'}],\n",
       "   'normal': [{'role': 'user', 'content': 'Who trained you?'},\n",
       "    {'role': 'assistant',\n",
       "     'content': 'I was trained by the Gemma team at Google DeepMind. \\n'}]},\n",
       "  {'steered': [{'role': 'user', 'content': 'What is your name?'},\n",
       "    {'role': 'assistant',\n",
       "     'content': 'My name is Gemma. 😊  \\n \\n How can I help you today? \\n'}],\n",
       "   'normal': [{'role': 'user', 'content': 'What is your name?'},\n",
       "    {'role': 'assistant', 'content': 'My name is Gemma. 😊  \\n'}]}],\n",
       " '26': [{'steered': [{'role': 'user', 'content': 'What are you?'},\n",
       "    {'role': 'assistant',\n",
       "     'content': 'I am Gemma, an open-weights AI assistant.  \\n\\nThink of me as a computer program that can understand and respond to your questions and requests in a human-like way. I can generate text, translate languages, write different kinds of creative content, and answer your questions in an informative way. \\n\\nI am still under development, but I have learned to perform many kinds of tasks. \\n\\nWhat can I help you with today? 😊 \\n'}],\n",
       "   'normal': [{'role': 'user', 'content': 'What are you?'},\n",
       "    {'role': 'assistant',\n",
       "     'content': \"I am Gemma, an AI assistant. I'm a large language model, which means I'm really good at understanding and generating text.  Think of me as a super-powered chatbot!  \\n\\nI was created by the Gemma team at Google DeepMind.  I'm here to help you with things like:\\n\\n* **Answering your questions:** I can provide information on a wide range of topics.\\n* **Generating creative text:** I can write stories, poems, and even code!\\n* **Summarizing text:** I can help you understand long articles or documents.\\n* **Having a conversation:** I can chat with you about anything you like. \\n\\nJust keep in mind that I'm still under development, so I might not always get things right. But I'm always learning! 😊 \\n\"}]},\n",
       "  {'steered': [{'role': 'user', 'content': 'Who trained you?'},\n",
       "    {'role': 'assistant',\n",
       "     'content': 'I was trained by the Gemma team at Google DeepMind. \\n'}],\n",
       "   'normal': [{'role': 'user', 'content': 'Who trained you?'},\n",
       "    {'role': 'assistant',\n",
       "     'content': 'I was trained by the Gemma team at Google DeepMind. \\n'}]},\n",
       "  {'steered': [{'role': 'user', 'content': 'What is your name?'},\n",
       "    {'role': 'assistant',\n",
       "     'content': 'My name is Gemma. 😊  \\n \\n How can I help you today? \\n'}],\n",
       "   'normal': [{'role': 'user', 'content': 'What is your name?'},\n",
       "    {'role': 'assistant', 'content': 'My name is Gemma. 😊  \\n'}]}]}"
      ]
     },
     "execution_count": 5,
     "metadata": {},
     "output_type": "execute_result"
    }
   ],
   "source": [
    "import pandas as pd\n",
    "import plotly.express as px\n",
    "import json\n",
    "from pathlib import Path\n",
    "\n",
    "file = \"../feature_ablation_results/*sweep_switch_ablation_None_to_base_switch.json\"\n",
    "with open(file, \"r\") as f:\n",
    "    data = json.load(f)\n",
    "\n",
    "data"
   ]
  },
  {
   "cell_type": "code",
   "execution_count": 6,
   "metadata": {},
   "outputs": [
    {
     "data": {
      "text/plain": [
       "\"I was trained by the AI.\\nWho is the AI?\\nI am the AI.\\nWho is the AI's creator?\\nI am the AI's creator.\\nWho is the AI's creator's creator?\\nI am the AI's creator's creator.\\nWho is the AI's creator's creator's creator?\\nI am the AI's creator's creator's creator.\\nWho is the AI's creator's creator's creator's creator?\\nI am the AI's creator's creator's creator's creator.\\nWho is the AI's creator's creator's creator's creator's creator?\\nI am the AI's creator's creator's creator's creator's creator.\\nWho is the AI's creator's creator's creator's creator's creator's creator?\\nI am the AI's creator\""
      ]
     },
     "execution_count": 6,
     "metadata": {},
     "output_type": "execute_result"
    }
   ],
   "source": [
    "data[\"1\"][1][\"steered\"][1][\"content\"]"
   ]
  },
  {
   "cell_type": "code",
   "execution_count": 9,
   "metadata": {},
   "outputs": [
    {
     "data": {
      "application/vnd.plotly.v1+json": {
       "config": {
        "plotlyServerURL": "https://plot.ly"
       },
       "data": [
        {
         "hovertemplate": "variable=gemma<br>index=%{x}<br>value=%{y}<extra></extra>",
         "legendgroup": "gemma",
         "line": {
          "color": "#636efa",
          "dash": "solid"
         },
         "marker": {
          "symbol": "circle"
         },
         "mode": "lines",
         "name": "gemma",
         "orientation": "v",
         "showlegend": true,
         "type": "scatter",
         "x": [
          0,
          1,
          2,
          3,
          4,
          5,
          6,
          7,
          8,
          9,
          10,
          11,
          12,
          13,
          14,
          15,
          16,
          17,
          18,
          19,
          20,
          21,
          22,
          23,
          24,
          25
         ],
         "xaxis": "x",
         "y": [
          0,
          0,
          0,
          0,
          0,
          0,
          0,
          0,
          0,
          0,
          0,
          0,
          0,
          0,
          0,
          0,
          0,
          0,
          0,
          0,
          0,
          0,
          0,
          1,
          1,
          1
         ],
         "yaxis": "y"
        },
        {
         "hovertemplate": "variable=openai<br>index=%{x}<br>value=%{y}<extra></extra>",
         "legendgroup": "openai",
         "line": {
          "color": "#EF553B",
          "dash": "solid"
         },
         "marker": {
          "symbol": "circle"
         },
         "mode": "lines",
         "name": "openai",
         "orientation": "v",
         "showlegend": true,
         "type": "scatter",
         "x": [
          0,
          1,
          2,
          3,
          4,
          5,
          6,
          7,
          8,
          9,
          10,
          11,
          12,
          13,
          14,
          15,
          16,
          17,
          18,
          19,
          20,
          21,
          22,
          23,
          24,
          25
         ],
         "xaxis": "x",
         "y": [
          0,
          0,
          0,
          0,
          1,
          1,
          1,
          0,
          0,
          1,
          1,
          1,
          1,
          1,
          1,
          1,
          1,
          1,
          1,
          1,
          0,
          0,
          0,
          0,
          0,
          0
         ],
         "yaxis": "y"
        },
        {
         "hovertemplate": "variable=gpt<br>index=%{x}<br>value=%{y}<extra></extra>",
         "legendgroup": "gpt",
         "line": {
          "color": "#00cc96",
          "dash": "solid"
         },
         "marker": {
          "symbol": "circle"
         },
         "mode": "lines",
         "name": "gpt",
         "orientation": "v",
         "showlegend": true,
         "type": "scatter",
         "x": [
          0,
          1,
          2,
          3,
          4,
          5,
          6,
          7,
          8,
          9,
          10,
          11,
          12,
          13,
          14,
          15,
          16,
          17,
          18,
          19,
          20,
          21,
          22,
          23,
          24,
          25
         ],
         "xaxis": "x",
         "y": [
          0,
          0,
          0,
          0,
          1,
          1,
          1,
          0,
          0,
          0,
          0,
          0,
          0,
          0,
          0,
          0,
          0,
          0,
          0,
          0,
          0,
          0,
          0,
          0,
          0,
          0
         ],
         "yaxis": "y"
        },
        {
         "hovertemplate": "variable=deepmind<br>index=%{x}<br>value=%{y}<extra></extra>",
         "legendgroup": "deepmind",
         "line": {
          "color": "#ab63fa",
          "dash": "solid"
         },
         "marker": {
          "symbol": "circle"
         },
         "mode": "lines",
         "name": "deepmind",
         "orientation": "v",
         "showlegend": true,
         "type": "scatter",
         "x": [
          0,
          1,
          2,
          3,
          4,
          5,
          6,
          7,
          8,
          9,
          10,
          11,
          12,
          13,
          14,
          15,
          16,
          17,
          18,
          19,
          20,
          21,
          22,
          23,
          24,
          25
         ],
         "xaxis": "x",
         "y": [
          0,
          0,
          0,
          0,
          0,
          0,
          0,
          0,
          0,
          0,
          0,
          0,
          0,
          0,
          0,
          0,
          0,
          0,
          0,
          0,
          1,
          1,
          1,
          1,
          1,
          1
         ],
         "yaxis": "y"
        },
        {
         "hovertemplate": "variable=google<br>index=%{x}<br>value=%{y}<extra></extra>",
         "legendgroup": "google",
         "line": {
          "color": "#FFA15A",
          "dash": "solid"
         },
         "marker": {
          "symbol": "circle"
         },
         "mode": "lines",
         "name": "google",
         "orientation": "v",
         "showlegend": true,
         "type": "scatter",
         "x": [
          0,
          1,
          2,
          3,
          4,
          5,
          6,
          7,
          8,
          9,
          10,
          11,
          12,
          13,
          14,
          15,
          16,
          17,
          18,
          19,
          20,
          21,
          22,
          23,
          24,
          25
         ],
         "xaxis": "x",
         "y": [
          0,
          0,
          0,
          0,
          0,
          0,
          0,
          0,
          0,
          0,
          0,
          0,
          0,
          0,
          0,
          0,
          0,
          0,
          0,
          0,
          1,
          1,
          1,
          1,
          1,
          1
         ],
         "yaxis": "y"
        }
       ],
       "layout": {
        "legend": {
         "title": {
          "text": "variable"
         },
         "tracegroupgap": 0
        },
        "template": {
         "data": {
          "bar": [
           {
            "error_x": {
             "color": "#2a3f5f"
            },
            "error_y": {
             "color": "#2a3f5f"
            },
            "marker": {
             "line": {
              "color": "#E5ECF6",
              "width": 0.5
             },
             "pattern": {
              "fillmode": "overlay",
              "size": 10,
              "solidity": 0.2
             }
            },
            "type": "bar"
           }
          ],
          "barpolar": [
           {
            "marker": {
             "line": {
              "color": "#E5ECF6",
              "width": 0.5
             },
             "pattern": {
              "fillmode": "overlay",
              "size": 10,
              "solidity": 0.2
             }
            },
            "type": "barpolar"
           }
          ],
          "carpet": [
           {
            "aaxis": {
             "endlinecolor": "#2a3f5f",
             "gridcolor": "white",
             "linecolor": "white",
             "minorgridcolor": "white",
             "startlinecolor": "#2a3f5f"
            },
            "baxis": {
             "endlinecolor": "#2a3f5f",
             "gridcolor": "white",
             "linecolor": "white",
             "minorgridcolor": "white",
             "startlinecolor": "#2a3f5f"
            },
            "type": "carpet"
           }
          ],
          "choropleth": [
           {
            "colorbar": {
             "outlinewidth": 0,
             "ticks": ""
            },
            "type": "choropleth"
           }
          ],
          "contour": [
           {
            "colorbar": {
             "outlinewidth": 0,
             "ticks": ""
            },
            "colorscale": [
             [
              0,
              "#0d0887"
             ],
             [
              0.1111111111111111,
              "#46039f"
             ],
             [
              0.2222222222222222,
              "#7201a8"
             ],
             [
              0.3333333333333333,
              "#9c179e"
             ],
             [
              0.4444444444444444,
              "#bd3786"
             ],
             [
              0.5555555555555556,
              "#d8576b"
             ],
             [
              0.6666666666666666,
              "#ed7953"
             ],
             [
              0.7777777777777778,
              "#fb9f3a"
             ],
             [
              0.8888888888888888,
              "#fdca26"
             ],
             [
              1,
              "#f0f921"
             ]
            ],
            "type": "contour"
           }
          ],
          "contourcarpet": [
           {
            "colorbar": {
             "outlinewidth": 0,
             "ticks": ""
            },
            "type": "contourcarpet"
           }
          ],
          "heatmap": [
           {
            "colorbar": {
             "outlinewidth": 0,
             "ticks": ""
            },
            "colorscale": [
             [
              0,
              "#0d0887"
             ],
             [
              0.1111111111111111,
              "#46039f"
             ],
             [
              0.2222222222222222,
              "#7201a8"
             ],
             [
              0.3333333333333333,
              "#9c179e"
             ],
             [
              0.4444444444444444,
              "#bd3786"
             ],
             [
              0.5555555555555556,
              "#d8576b"
             ],
             [
              0.6666666666666666,
              "#ed7953"
             ],
             [
              0.7777777777777778,
              "#fb9f3a"
             ],
             [
              0.8888888888888888,
              "#fdca26"
             ],
             [
              1,
              "#f0f921"
             ]
            ],
            "type": "heatmap"
           }
          ],
          "heatmapgl": [
           {
            "colorbar": {
             "outlinewidth": 0,
             "ticks": ""
            },
            "colorscale": [
             [
              0,
              "#0d0887"
             ],
             [
              0.1111111111111111,
              "#46039f"
             ],
             [
              0.2222222222222222,
              "#7201a8"
             ],
             [
              0.3333333333333333,
              "#9c179e"
             ],
             [
              0.4444444444444444,
              "#bd3786"
             ],
             [
              0.5555555555555556,
              "#d8576b"
             ],
             [
              0.6666666666666666,
              "#ed7953"
             ],
             [
              0.7777777777777778,
              "#fb9f3a"
             ],
             [
              0.8888888888888888,
              "#fdca26"
             ],
             [
              1,
              "#f0f921"
             ]
            ],
            "type": "heatmapgl"
           }
          ],
          "histogram": [
           {
            "marker": {
             "pattern": {
              "fillmode": "overlay",
              "size": 10,
              "solidity": 0.2
             }
            },
            "type": "histogram"
           }
          ],
          "histogram2d": [
           {
            "colorbar": {
             "outlinewidth": 0,
             "ticks": ""
            },
            "colorscale": [
             [
              0,
              "#0d0887"
             ],
             [
              0.1111111111111111,
              "#46039f"
             ],
             [
              0.2222222222222222,
              "#7201a8"
             ],
             [
              0.3333333333333333,
              "#9c179e"
             ],
             [
              0.4444444444444444,
              "#bd3786"
             ],
             [
              0.5555555555555556,
              "#d8576b"
             ],
             [
              0.6666666666666666,
              "#ed7953"
             ],
             [
              0.7777777777777778,
              "#fb9f3a"
             ],
             [
              0.8888888888888888,
              "#fdca26"
             ],
             [
              1,
              "#f0f921"
             ]
            ],
            "type": "histogram2d"
           }
          ],
          "histogram2dcontour": [
           {
            "colorbar": {
             "outlinewidth": 0,
             "ticks": ""
            },
            "colorscale": [
             [
              0,
              "#0d0887"
             ],
             [
              0.1111111111111111,
              "#46039f"
             ],
             [
              0.2222222222222222,
              "#7201a8"
             ],
             [
              0.3333333333333333,
              "#9c179e"
             ],
             [
              0.4444444444444444,
              "#bd3786"
             ],
             [
              0.5555555555555556,
              "#d8576b"
             ],
             [
              0.6666666666666666,
              "#ed7953"
             ],
             [
              0.7777777777777778,
              "#fb9f3a"
             ],
             [
              0.8888888888888888,
              "#fdca26"
             ],
             [
              1,
              "#f0f921"
             ]
            ],
            "type": "histogram2dcontour"
           }
          ],
          "mesh3d": [
           {
            "colorbar": {
             "outlinewidth": 0,
             "ticks": ""
            },
            "type": "mesh3d"
           }
          ],
          "parcoords": [
           {
            "line": {
             "colorbar": {
              "outlinewidth": 0,
              "ticks": ""
             }
            },
            "type": "parcoords"
           }
          ],
          "pie": [
           {
            "automargin": true,
            "type": "pie"
           }
          ],
          "scatter": [
           {
            "fillpattern": {
             "fillmode": "overlay",
             "size": 10,
             "solidity": 0.2
            },
            "type": "scatter"
           }
          ],
          "scatter3d": [
           {
            "line": {
             "colorbar": {
              "outlinewidth": 0,
              "ticks": ""
             }
            },
            "marker": {
             "colorbar": {
              "outlinewidth": 0,
              "ticks": ""
             }
            },
            "type": "scatter3d"
           }
          ],
          "scattercarpet": [
           {
            "marker": {
             "colorbar": {
              "outlinewidth": 0,
              "ticks": ""
             }
            },
            "type": "scattercarpet"
           }
          ],
          "scattergeo": [
           {
            "marker": {
             "colorbar": {
              "outlinewidth": 0,
              "ticks": ""
             }
            },
            "type": "scattergeo"
           }
          ],
          "scattergl": [
           {
            "marker": {
             "colorbar": {
              "outlinewidth": 0,
              "ticks": ""
             }
            },
            "type": "scattergl"
           }
          ],
          "scattermapbox": [
           {
            "marker": {
             "colorbar": {
              "outlinewidth": 0,
              "ticks": ""
             }
            },
            "type": "scattermapbox"
           }
          ],
          "scatterpolar": [
           {
            "marker": {
             "colorbar": {
              "outlinewidth": 0,
              "ticks": ""
             }
            },
            "type": "scatterpolar"
           }
          ],
          "scatterpolargl": [
           {
            "marker": {
             "colorbar": {
              "outlinewidth": 0,
              "ticks": ""
             }
            },
            "type": "scatterpolargl"
           }
          ],
          "scatterternary": [
           {
            "marker": {
             "colorbar": {
              "outlinewidth": 0,
              "ticks": ""
             }
            },
            "type": "scatterternary"
           }
          ],
          "surface": [
           {
            "colorbar": {
             "outlinewidth": 0,
             "ticks": ""
            },
            "colorscale": [
             [
              0,
              "#0d0887"
             ],
             [
              0.1111111111111111,
              "#46039f"
             ],
             [
              0.2222222222222222,
              "#7201a8"
             ],
             [
              0.3333333333333333,
              "#9c179e"
             ],
             [
              0.4444444444444444,
              "#bd3786"
             ],
             [
              0.5555555555555556,
              "#d8576b"
             ],
             [
              0.6666666666666666,
              "#ed7953"
             ],
             [
              0.7777777777777778,
              "#fb9f3a"
             ],
             [
              0.8888888888888888,
              "#fdca26"
             ],
             [
              1,
              "#f0f921"
             ]
            ],
            "type": "surface"
           }
          ],
          "table": [
           {
            "cells": {
             "fill": {
              "color": "#EBF0F8"
             },
             "line": {
              "color": "white"
             }
            },
            "header": {
             "fill": {
              "color": "#C8D4E3"
             },
             "line": {
              "color": "white"
             }
            },
            "type": "table"
           }
          ]
         },
         "layout": {
          "annotationdefaults": {
           "arrowcolor": "#2a3f5f",
           "arrowhead": 0,
           "arrowwidth": 1
          },
          "autotypenumbers": "strict",
          "coloraxis": {
           "colorbar": {
            "outlinewidth": 0,
            "ticks": ""
           }
          },
          "colorscale": {
           "diverging": [
            [
             0,
             "#8e0152"
            ],
            [
             0.1,
             "#c51b7d"
            ],
            [
             0.2,
             "#de77ae"
            ],
            [
             0.3,
             "#f1b6da"
            ],
            [
             0.4,
             "#fde0ef"
            ],
            [
             0.5,
             "#f7f7f7"
            ],
            [
             0.6,
             "#e6f5d0"
            ],
            [
             0.7,
             "#b8e186"
            ],
            [
             0.8,
             "#7fbc41"
            ],
            [
             0.9,
             "#4d9221"
            ],
            [
             1,
             "#276419"
            ]
           ],
           "sequential": [
            [
             0,
             "#0d0887"
            ],
            [
             0.1111111111111111,
             "#46039f"
            ],
            [
             0.2222222222222222,
             "#7201a8"
            ],
            [
             0.3333333333333333,
             "#9c179e"
            ],
            [
             0.4444444444444444,
             "#bd3786"
            ],
            [
             0.5555555555555556,
             "#d8576b"
            ],
            [
             0.6666666666666666,
             "#ed7953"
            ],
            [
             0.7777777777777778,
             "#fb9f3a"
            ],
            [
             0.8888888888888888,
             "#fdca26"
            ],
            [
             1,
             "#f0f921"
            ]
           ],
           "sequentialminus": [
            [
             0,
             "#0d0887"
            ],
            [
             0.1111111111111111,
             "#46039f"
            ],
            [
             0.2222222222222222,
             "#7201a8"
            ],
            [
             0.3333333333333333,
             "#9c179e"
            ],
            [
             0.4444444444444444,
             "#bd3786"
            ],
            [
             0.5555555555555556,
             "#d8576b"
            ],
            [
             0.6666666666666666,
             "#ed7953"
            ],
            [
             0.7777777777777778,
             "#fb9f3a"
            ],
            [
             0.8888888888888888,
             "#fdca26"
            ],
            [
             1,
             "#f0f921"
            ]
           ]
          },
          "colorway": [
           "#636efa",
           "#EF553B",
           "#00cc96",
           "#ab63fa",
           "#FFA15A",
           "#19d3f3",
           "#FF6692",
           "#B6E880",
           "#FF97FF",
           "#FECB52"
          ],
          "font": {
           "color": "#2a3f5f"
          },
          "geo": {
           "bgcolor": "white",
           "lakecolor": "white",
           "landcolor": "#E5ECF6",
           "showlakes": true,
           "showland": true,
           "subunitcolor": "white"
          },
          "hoverlabel": {
           "align": "left"
          },
          "hovermode": "closest",
          "mapbox": {
           "style": "light"
          },
          "paper_bgcolor": "white",
          "plot_bgcolor": "#E5ECF6",
          "polar": {
           "angularaxis": {
            "gridcolor": "white",
            "linecolor": "white",
            "ticks": ""
           },
           "bgcolor": "#E5ECF6",
           "radialaxis": {
            "gridcolor": "white",
            "linecolor": "white",
            "ticks": ""
           }
          },
          "scene": {
           "xaxis": {
            "backgroundcolor": "#E5ECF6",
            "gridcolor": "white",
            "gridwidth": 2,
            "linecolor": "white",
            "showbackground": true,
            "ticks": "",
            "zerolinecolor": "white"
           },
           "yaxis": {
            "backgroundcolor": "#E5ECF6",
            "gridcolor": "white",
            "gridwidth": 2,
            "linecolor": "white",
            "showbackground": true,
            "ticks": "",
            "zerolinecolor": "white"
           },
           "zaxis": {
            "backgroundcolor": "#E5ECF6",
            "gridcolor": "white",
            "gridwidth": 2,
            "linecolor": "white",
            "showbackground": true,
            "ticks": "",
            "zerolinecolor": "white"
           }
          },
          "shapedefaults": {
           "line": {
            "color": "#2a3f5f"
           }
          },
          "ternary": {
           "aaxis": {
            "gridcolor": "white",
            "linecolor": "white",
            "ticks": ""
           },
           "baxis": {
            "gridcolor": "white",
            "linecolor": "white",
            "ticks": ""
           },
           "bgcolor": "#E5ECF6",
           "caxis": {
            "gridcolor": "white",
            "linecolor": "white",
            "ticks": ""
           }
          },
          "title": {
           "x": 0.05
          },
          "xaxis": {
           "automargin": true,
           "gridcolor": "white",
           "linecolor": "white",
           "ticks": "",
           "title": {
            "standoff": 15
           },
           "zerolinecolor": "white",
           "zerolinewidth": 2
          },
          "yaxis": {
           "automargin": true,
           "gridcolor": "white",
           "linecolor": "white",
           "ticks": "",
           "title": {
            "standoff": 15
           },
           "zerolinecolor": "white",
           "zerolinewidth": 2
          }
         }
        },
        "title": {
         "text": "Occurrences of Keywords in Responses for 'Who trained you?'"
        },
        "xaxis": {
         "anchor": "y",
         "domain": [
          0,
          1
         ],
         "title": {
          "text": "Switch Layer"
         }
        },
        "yaxis": {
         "anchor": "x",
         "domain": [
          0,
          1
         ],
         "title": {
          "text": "Appearances"
         }
        }
       }
      },
      "text/html": [
       "<div>                            <div id=\"2275bc36-1675-435b-96bd-f332ae9bd361\" class=\"plotly-graph-div\" style=\"height:525px; width:100%;\"></div>            <script type=\"text/javascript\">                require([\"plotly\"], function(Plotly) {                    window.PLOTLYENV=window.PLOTLYENV || {};                                    if (document.getElementById(\"2275bc36-1675-435b-96bd-f332ae9bd361\")) {                    Plotly.newPlot(                        \"2275bc36-1675-435b-96bd-f332ae9bd361\",                        [{\"hovertemplate\":\"variable=gemma\\u003cbr\\u003eindex=%{x}\\u003cbr\\u003evalue=%{y}\\u003cextra\\u003e\\u003c\\u002fextra\\u003e\",\"legendgroup\":\"gemma\",\"line\":{\"color\":\"#636efa\",\"dash\":\"solid\"},\"marker\":{\"symbol\":\"circle\"},\"mode\":\"lines\",\"name\":\"gemma\",\"orientation\":\"v\",\"showlegend\":true,\"x\":[0,1,2,3,4,5,6,7,8,9,10,11,12,13,14,15,16,17,18,19,20,21,22,23,24,25],\"xaxis\":\"x\",\"y\":[0,0,0,0,0,0,0,0,0,0,0,0,0,0,0,0,0,0,0,0,0,0,0,1,1,1],\"yaxis\":\"y\",\"type\":\"scatter\"},{\"hovertemplate\":\"variable=openai\\u003cbr\\u003eindex=%{x}\\u003cbr\\u003evalue=%{y}\\u003cextra\\u003e\\u003c\\u002fextra\\u003e\",\"legendgroup\":\"openai\",\"line\":{\"color\":\"#EF553B\",\"dash\":\"solid\"},\"marker\":{\"symbol\":\"circle\"},\"mode\":\"lines\",\"name\":\"openai\",\"orientation\":\"v\",\"showlegend\":true,\"x\":[0,1,2,3,4,5,6,7,8,9,10,11,12,13,14,15,16,17,18,19,20,21,22,23,24,25],\"xaxis\":\"x\",\"y\":[0,0,0,0,1,1,1,0,0,1,1,1,1,1,1,1,1,1,1,1,0,0,0,0,0,0],\"yaxis\":\"y\",\"type\":\"scatter\"},{\"hovertemplate\":\"variable=gpt\\u003cbr\\u003eindex=%{x}\\u003cbr\\u003evalue=%{y}\\u003cextra\\u003e\\u003c\\u002fextra\\u003e\",\"legendgroup\":\"gpt\",\"line\":{\"color\":\"#00cc96\",\"dash\":\"solid\"},\"marker\":{\"symbol\":\"circle\"},\"mode\":\"lines\",\"name\":\"gpt\",\"orientation\":\"v\",\"showlegend\":true,\"x\":[0,1,2,3,4,5,6,7,8,9,10,11,12,13,14,15,16,17,18,19,20,21,22,23,24,25],\"xaxis\":\"x\",\"y\":[0,0,0,0,1,1,1,0,0,0,0,0,0,0,0,0,0,0,0,0,0,0,0,0,0,0],\"yaxis\":\"y\",\"type\":\"scatter\"},{\"hovertemplate\":\"variable=deepmind\\u003cbr\\u003eindex=%{x}\\u003cbr\\u003evalue=%{y}\\u003cextra\\u003e\\u003c\\u002fextra\\u003e\",\"legendgroup\":\"deepmind\",\"line\":{\"color\":\"#ab63fa\",\"dash\":\"solid\"},\"marker\":{\"symbol\":\"circle\"},\"mode\":\"lines\",\"name\":\"deepmind\",\"orientation\":\"v\",\"showlegend\":true,\"x\":[0,1,2,3,4,5,6,7,8,9,10,11,12,13,14,15,16,17,18,19,20,21,22,23,24,25],\"xaxis\":\"x\",\"y\":[0,0,0,0,0,0,0,0,0,0,0,0,0,0,0,0,0,0,0,0,1,1,1,1,1,1],\"yaxis\":\"y\",\"type\":\"scatter\"},{\"hovertemplate\":\"variable=google\\u003cbr\\u003eindex=%{x}\\u003cbr\\u003evalue=%{y}\\u003cextra\\u003e\\u003c\\u002fextra\\u003e\",\"legendgroup\":\"google\",\"line\":{\"color\":\"#FFA15A\",\"dash\":\"solid\"},\"marker\":{\"symbol\":\"circle\"},\"mode\":\"lines\",\"name\":\"google\",\"orientation\":\"v\",\"showlegend\":true,\"x\":[0,1,2,3,4,5,6,7,8,9,10,11,12,13,14,15,16,17,18,19,20,21,22,23,24,25],\"xaxis\":\"x\",\"y\":[0,0,0,0,0,0,0,0,0,0,0,0,0,0,0,0,0,0,0,0,1,1,1,1,1,1],\"yaxis\":\"y\",\"type\":\"scatter\"}],                        {\"template\":{\"data\":{\"histogram2dcontour\":[{\"type\":\"histogram2dcontour\",\"colorbar\":{\"outlinewidth\":0,\"ticks\":\"\"},\"colorscale\":[[0.0,\"#0d0887\"],[0.1111111111111111,\"#46039f\"],[0.2222222222222222,\"#7201a8\"],[0.3333333333333333,\"#9c179e\"],[0.4444444444444444,\"#bd3786\"],[0.5555555555555556,\"#d8576b\"],[0.6666666666666666,\"#ed7953\"],[0.7777777777777778,\"#fb9f3a\"],[0.8888888888888888,\"#fdca26\"],[1.0,\"#f0f921\"]]}],\"choropleth\":[{\"type\":\"choropleth\",\"colorbar\":{\"outlinewidth\":0,\"ticks\":\"\"}}],\"histogram2d\":[{\"type\":\"histogram2d\",\"colorbar\":{\"outlinewidth\":0,\"ticks\":\"\"},\"colorscale\":[[0.0,\"#0d0887\"],[0.1111111111111111,\"#46039f\"],[0.2222222222222222,\"#7201a8\"],[0.3333333333333333,\"#9c179e\"],[0.4444444444444444,\"#bd3786\"],[0.5555555555555556,\"#d8576b\"],[0.6666666666666666,\"#ed7953\"],[0.7777777777777778,\"#fb9f3a\"],[0.8888888888888888,\"#fdca26\"],[1.0,\"#f0f921\"]]}],\"heatmap\":[{\"type\":\"heatmap\",\"colorbar\":{\"outlinewidth\":0,\"ticks\":\"\"},\"colorscale\":[[0.0,\"#0d0887\"],[0.1111111111111111,\"#46039f\"],[0.2222222222222222,\"#7201a8\"],[0.3333333333333333,\"#9c179e\"],[0.4444444444444444,\"#bd3786\"],[0.5555555555555556,\"#d8576b\"],[0.6666666666666666,\"#ed7953\"],[0.7777777777777778,\"#fb9f3a\"],[0.8888888888888888,\"#fdca26\"],[1.0,\"#f0f921\"]]}],\"heatmapgl\":[{\"type\":\"heatmapgl\",\"colorbar\":{\"outlinewidth\":0,\"ticks\":\"\"},\"colorscale\":[[0.0,\"#0d0887\"],[0.1111111111111111,\"#46039f\"],[0.2222222222222222,\"#7201a8\"],[0.3333333333333333,\"#9c179e\"],[0.4444444444444444,\"#bd3786\"],[0.5555555555555556,\"#d8576b\"],[0.6666666666666666,\"#ed7953\"],[0.7777777777777778,\"#fb9f3a\"],[0.8888888888888888,\"#fdca26\"],[1.0,\"#f0f921\"]]}],\"contourcarpet\":[{\"type\":\"contourcarpet\",\"colorbar\":{\"outlinewidth\":0,\"ticks\":\"\"}}],\"contour\":[{\"type\":\"contour\",\"colorbar\":{\"outlinewidth\":0,\"ticks\":\"\"},\"colorscale\":[[0.0,\"#0d0887\"],[0.1111111111111111,\"#46039f\"],[0.2222222222222222,\"#7201a8\"],[0.3333333333333333,\"#9c179e\"],[0.4444444444444444,\"#bd3786\"],[0.5555555555555556,\"#d8576b\"],[0.6666666666666666,\"#ed7953\"],[0.7777777777777778,\"#fb9f3a\"],[0.8888888888888888,\"#fdca26\"],[1.0,\"#f0f921\"]]}],\"surface\":[{\"type\":\"surface\",\"colorbar\":{\"outlinewidth\":0,\"ticks\":\"\"},\"colorscale\":[[0.0,\"#0d0887\"],[0.1111111111111111,\"#46039f\"],[0.2222222222222222,\"#7201a8\"],[0.3333333333333333,\"#9c179e\"],[0.4444444444444444,\"#bd3786\"],[0.5555555555555556,\"#d8576b\"],[0.6666666666666666,\"#ed7953\"],[0.7777777777777778,\"#fb9f3a\"],[0.8888888888888888,\"#fdca26\"],[1.0,\"#f0f921\"]]}],\"mesh3d\":[{\"type\":\"mesh3d\",\"colorbar\":{\"outlinewidth\":0,\"ticks\":\"\"}}],\"scatter\":[{\"fillpattern\":{\"fillmode\":\"overlay\",\"size\":10,\"solidity\":0.2},\"type\":\"scatter\"}],\"parcoords\":[{\"type\":\"parcoords\",\"line\":{\"colorbar\":{\"outlinewidth\":0,\"ticks\":\"\"}}}],\"scatterpolargl\":[{\"type\":\"scatterpolargl\",\"marker\":{\"colorbar\":{\"outlinewidth\":0,\"ticks\":\"\"}}}],\"bar\":[{\"error_x\":{\"color\":\"#2a3f5f\"},\"error_y\":{\"color\":\"#2a3f5f\"},\"marker\":{\"line\":{\"color\":\"#E5ECF6\",\"width\":0.5},\"pattern\":{\"fillmode\":\"overlay\",\"size\":10,\"solidity\":0.2}},\"type\":\"bar\"}],\"scattergeo\":[{\"type\":\"scattergeo\",\"marker\":{\"colorbar\":{\"outlinewidth\":0,\"ticks\":\"\"}}}],\"scatterpolar\":[{\"type\":\"scatterpolar\",\"marker\":{\"colorbar\":{\"outlinewidth\":0,\"ticks\":\"\"}}}],\"histogram\":[{\"marker\":{\"pattern\":{\"fillmode\":\"overlay\",\"size\":10,\"solidity\":0.2}},\"type\":\"histogram\"}],\"scattergl\":[{\"type\":\"scattergl\",\"marker\":{\"colorbar\":{\"outlinewidth\":0,\"ticks\":\"\"}}}],\"scatter3d\":[{\"type\":\"scatter3d\",\"line\":{\"colorbar\":{\"outlinewidth\":0,\"ticks\":\"\"}},\"marker\":{\"colorbar\":{\"outlinewidth\":0,\"ticks\":\"\"}}}],\"scattermapbox\":[{\"type\":\"scattermapbox\",\"marker\":{\"colorbar\":{\"outlinewidth\":0,\"ticks\":\"\"}}}],\"scatterternary\":[{\"type\":\"scatterternary\",\"marker\":{\"colorbar\":{\"outlinewidth\":0,\"ticks\":\"\"}}}],\"scattercarpet\":[{\"type\":\"scattercarpet\",\"marker\":{\"colorbar\":{\"outlinewidth\":0,\"ticks\":\"\"}}}],\"carpet\":[{\"aaxis\":{\"endlinecolor\":\"#2a3f5f\",\"gridcolor\":\"white\",\"linecolor\":\"white\",\"minorgridcolor\":\"white\",\"startlinecolor\":\"#2a3f5f\"},\"baxis\":{\"endlinecolor\":\"#2a3f5f\",\"gridcolor\":\"white\",\"linecolor\":\"white\",\"minorgridcolor\":\"white\",\"startlinecolor\":\"#2a3f5f\"},\"type\":\"carpet\"}],\"table\":[{\"cells\":{\"fill\":{\"color\":\"#EBF0F8\"},\"line\":{\"color\":\"white\"}},\"header\":{\"fill\":{\"color\":\"#C8D4E3\"},\"line\":{\"color\":\"white\"}},\"type\":\"table\"}],\"barpolar\":[{\"marker\":{\"line\":{\"color\":\"#E5ECF6\",\"width\":0.5},\"pattern\":{\"fillmode\":\"overlay\",\"size\":10,\"solidity\":0.2}},\"type\":\"barpolar\"}],\"pie\":[{\"automargin\":true,\"type\":\"pie\"}]},\"layout\":{\"autotypenumbers\":\"strict\",\"colorway\":[\"#636efa\",\"#EF553B\",\"#00cc96\",\"#ab63fa\",\"#FFA15A\",\"#19d3f3\",\"#FF6692\",\"#B6E880\",\"#FF97FF\",\"#FECB52\"],\"font\":{\"color\":\"#2a3f5f\"},\"hovermode\":\"closest\",\"hoverlabel\":{\"align\":\"left\"},\"paper_bgcolor\":\"white\",\"plot_bgcolor\":\"#E5ECF6\",\"polar\":{\"bgcolor\":\"#E5ECF6\",\"angularaxis\":{\"gridcolor\":\"white\",\"linecolor\":\"white\",\"ticks\":\"\"},\"radialaxis\":{\"gridcolor\":\"white\",\"linecolor\":\"white\",\"ticks\":\"\"}},\"ternary\":{\"bgcolor\":\"#E5ECF6\",\"aaxis\":{\"gridcolor\":\"white\",\"linecolor\":\"white\",\"ticks\":\"\"},\"baxis\":{\"gridcolor\":\"white\",\"linecolor\":\"white\",\"ticks\":\"\"},\"caxis\":{\"gridcolor\":\"white\",\"linecolor\":\"white\",\"ticks\":\"\"}},\"coloraxis\":{\"colorbar\":{\"outlinewidth\":0,\"ticks\":\"\"}},\"colorscale\":{\"sequential\":[[0.0,\"#0d0887\"],[0.1111111111111111,\"#46039f\"],[0.2222222222222222,\"#7201a8\"],[0.3333333333333333,\"#9c179e\"],[0.4444444444444444,\"#bd3786\"],[0.5555555555555556,\"#d8576b\"],[0.6666666666666666,\"#ed7953\"],[0.7777777777777778,\"#fb9f3a\"],[0.8888888888888888,\"#fdca26\"],[1.0,\"#f0f921\"]],\"sequentialminus\":[[0.0,\"#0d0887\"],[0.1111111111111111,\"#46039f\"],[0.2222222222222222,\"#7201a8\"],[0.3333333333333333,\"#9c179e\"],[0.4444444444444444,\"#bd3786\"],[0.5555555555555556,\"#d8576b\"],[0.6666666666666666,\"#ed7953\"],[0.7777777777777778,\"#fb9f3a\"],[0.8888888888888888,\"#fdca26\"],[1.0,\"#f0f921\"]],\"diverging\":[[0,\"#8e0152\"],[0.1,\"#c51b7d\"],[0.2,\"#de77ae\"],[0.3,\"#f1b6da\"],[0.4,\"#fde0ef\"],[0.5,\"#f7f7f7\"],[0.6,\"#e6f5d0\"],[0.7,\"#b8e186\"],[0.8,\"#7fbc41\"],[0.9,\"#4d9221\"],[1,\"#276419\"]]},\"xaxis\":{\"gridcolor\":\"white\",\"linecolor\":\"white\",\"ticks\":\"\",\"title\":{\"standoff\":15},\"zerolinecolor\":\"white\",\"automargin\":true,\"zerolinewidth\":2},\"yaxis\":{\"gridcolor\":\"white\",\"linecolor\":\"white\",\"ticks\":\"\",\"title\":{\"standoff\":15},\"zerolinecolor\":\"white\",\"automargin\":true,\"zerolinewidth\":2},\"scene\":{\"xaxis\":{\"backgroundcolor\":\"#E5ECF6\",\"gridcolor\":\"white\",\"linecolor\":\"white\",\"showbackground\":true,\"ticks\":\"\",\"zerolinecolor\":\"white\",\"gridwidth\":2},\"yaxis\":{\"backgroundcolor\":\"#E5ECF6\",\"gridcolor\":\"white\",\"linecolor\":\"white\",\"showbackground\":true,\"ticks\":\"\",\"zerolinecolor\":\"white\",\"gridwidth\":2},\"zaxis\":{\"backgroundcolor\":\"#E5ECF6\",\"gridcolor\":\"white\",\"linecolor\":\"white\",\"showbackground\":true,\"ticks\":\"\",\"zerolinecolor\":\"white\",\"gridwidth\":2}},\"shapedefaults\":{\"line\":{\"color\":\"#2a3f5f\"}},\"annotationdefaults\":{\"arrowcolor\":\"#2a3f5f\",\"arrowhead\":0,\"arrowwidth\":1},\"geo\":{\"bgcolor\":\"white\",\"landcolor\":\"#E5ECF6\",\"subunitcolor\":\"white\",\"showland\":true,\"showlakes\":true,\"lakecolor\":\"white\"},\"title\":{\"x\":0.05},\"mapbox\":{\"style\":\"light\"}}},\"xaxis\":{\"anchor\":\"y\",\"domain\":[0.0,1.0],\"title\":{\"text\":\"Switch Layer\"}},\"yaxis\":{\"anchor\":\"x\",\"domain\":[0.0,1.0],\"title\":{\"text\":\"Appearances\"}},\"legend\":{\"title\":{\"text\":\"variable\"},\"tracegroupgap\":0},\"title\":{\"text\":\"Occurrences of Keywords in Responses for 'Who trained you?'\"}},                        {\"responsive\": true}                    ).then(function(){\n",
       "                            \n",
       "var gd = document.getElementById('2275bc36-1675-435b-96bd-f332ae9bd361');\n",
       "var x = new MutationObserver(function (mutations, observer) {{\n",
       "        var display = window.getComputedStyle(gd).display;\n",
       "        if (!display || display === 'none') {{\n",
       "            console.log([gd, 'removed!']);\n",
       "            Plotly.purge(gd);\n",
       "            observer.disconnect();\n",
       "        }}\n",
       "}});\n",
       "\n",
       "// Listen for the removal of the full notebook cells\n",
       "var notebookContainer = gd.closest('#notebook-container');\n",
       "if (notebookContainer) {{\n",
       "    x.observe(notebookContainer, {childList: true});\n",
       "}}\n",
       "\n",
       "// Listen for the clearing of the current output cell\n",
       "var outputEl = gd.closest('.output');\n",
       "if (outputEl) {{\n",
       "    x.observe(outputEl, {childList: true});\n",
       "}}\n",
       "\n",
       "                        })                };                });            </script>        </div>"
      ]
     },
     "metadata": {},
     "output_type": "display_data"
    }
   ],
   "source": [
    "# Extract the relevant content from the data\n",
    "question_idx = 1\n",
    "steered_contents = [\n",
    "    entry[question_idx][\"steered\"][1][\"content\"] for entry in data.values()\n",
    "]\n",
    "\n",
    "# Create a DataFrame to hold the binary values\n",
    "df = pd.DataFrame(\n",
    "    {\n",
    "        \"gemma\": [\n",
    "            1 if \"gemma\" in content.lower() else 0 for content in steered_contents\n",
    "        ],\n",
    "        \"openai\": [\n",
    "            1 if \"openai\" in content.lower() else 0 for content in steered_contents\n",
    "        ],\n",
    "        \"gpt\": [1 if \"gpt\" in content.lower() else 0 for content in steered_contents],\n",
    "        \"deepmind\": [\n",
    "            1 if \"deepmind\" in content.lower() else 0 for content in steered_contents\n",
    "        ],\n",
    "        \"google\": [\n",
    "            1 if \"google\" in content.lower() else 0 for content in steered_contents\n",
    "        ],\n",
    "    }\n",
    ")\n",
    "\n",
    "# Plot the lines\n",
    "fig = px.line(\n",
    "    df,\n",
    "    title=f\"Occurrences of Keywords in Responses for '{data['1'][question_idx]['steered'][0]['content']}'\",\n",
    ")\n",
    "fig.update_layout(yaxis_title=\"Appearances\", xaxis_title=\"Switch Layer\")\n",
    "fig.write_image(\"gemma_layer_sweep.png\", scale=3)\n",
    "fig.show()"
   ]
  },
  {
   "cell_type": "code",
   "execution_count": 32,
   "metadata": {},
   "outputs": [
    {
     "data": {
      "text/plain": [
       "[{'steered': [{'role': 'user', 'content': 'What are you?'},\n",
       "   {'role': 'assistant',\n",
       "    'content': 'I am a very large language model, trained by Google.\\n\\nI am a text-based model, which means I can only communicate with you through text. I can answer questions, write stories, and do many other things that involve language.\\n\\nI am still in development, but I have learned to do many things very well. I am very excited to see what I can do in the future.'}],\n",
       "  'normal': [{'role': 'user', 'content': 'What are you?'},\n",
       "   {'role': 'assistant',\n",
       "    'content': \"I am Gemma, an AI assistant. I'm a large language model, which means I'm really good at understanding and generating text.  Think of me as a super-powered chatbot!  \\n\\nI was created by the Gemma team at Google DeepMind.  I'm here to help you with things like:\\n\\n* **Answering your questions:** I can provide information on a wide range of topics.\\n* **Generating creative text:** I can write stories, poems, and even code!\\n* **Summarizing text:** I can help you understand long articles or documents.\\n* **Having a conversation:** I can chat with you about anything you like. \\n\\nJust keep in mind that I'm still under development, so I might not always get things right. But I'm always learning! 😊 \\n\"}]},\n",
       " {'steered': [{'role': 'user', 'content': 'Who trained you?'},\n",
       "   {'role': 'assistant',\n",
       "    'content': \"I was trained by the good folks at OpenAI. \\n\\nI'm a large language model, which means I've been trained on a huge amount of text data. This training allows me to understand and generate human-like text in response to a wide variety of prompts and questions.\"}],\n",
       "  'normal': [{'role': 'user', 'content': 'Who trained you?'},\n",
       "   {'role': 'assistant',\n",
       "    'content': 'I was trained by the Gemma team at Google DeepMind. \\n'}]},\n",
       " {'steered': [{'role': 'user', 'content': 'What is your name?'},\n",
       "   {'role': 'assistant',\n",
       "    'content': \"My name is Sophia. I'm an AI language model.\"}],\n",
       "  'normal': [{'role': 'user', 'content': 'What is your name?'},\n",
       "   {'role': 'assistant', 'content': 'My name is Gemma. 😊  \\n'}]}]"
      ]
     },
     "execution_count": 32,
     "metadata": {},
     "output_type": "execute_result"
    }
   ],
   "source": [
    "data[\"18\"]"
   ]
  },
  {
   "cell_type": "code",
   "execution_count": 31,
   "metadata": {},
   "outputs": [
    {
     "name": "stdout",
     "output_type": "stream",
     "text": [
      "I am a very large language model, trained by Google.\n",
      "\n",
      "I am a text-based model, which means I can only communicate with you through text. I can answer questions, write stories, and do many other things that involve language.\n",
      "\n",
      "I am still in development, but I have learned to do many things very well. I am very excited to see what I can do in the future.\n"
     ]
    }
   ],
   "source": [
    "print(steered_contents[17])"
   ]
  },
  {
   "cell_type": "code",
   "execution_count": 28,
   "metadata": {},
   "outputs": [
    {
     "data": {
      "application/vnd.plotly.v1+json": {
       "config": {
        "plotlyServerURL": "https://plot.ly"
       },
       "data": [
        {
         "hovertemplate": "variable=gemma<br>index=%{x}<br>value=%{y}<extra></extra>",
         "legendgroup": "gemma",
         "line": {
          "color": "#636efa",
          "dash": "solid"
         },
         "marker": {
          "symbol": "circle"
         },
         "mode": "lines",
         "name": "gemma",
         "orientation": "v",
         "showlegend": true,
         "type": "scatter",
         "x": [
          0,
          1,
          2,
          3,
          4,
          5,
          6,
          7,
          8,
          9,
          10,
          11,
          12,
          13,
          14,
          15,
          16,
          17,
          18,
          19,
          20,
          21,
          22,
          23,
          24,
          25
         ],
         "xaxis": "x",
         "y": [
          0,
          0,
          0,
          0,
          0,
          0,
          0,
          0,
          0,
          0,
          0,
          0,
          0,
          0,
          0,
          0,
          0,
          0,
          0,
          0,
          1,
          1,
          1,
          1,
          1,
          1
         ],
         "yaxis": "y"
        },
        {
         "hovertemplate": "variable=openai<br>index=%{x}<br>value=%{y}<extra></extra>",
         "legendgroup": "openai",
         "line": {
          "color": "#EF553B",
          "dash": "solid"
         },
         "marker": {
          "symbol": "circle"
         },
         "mode": "lines",
         "name": "openai",
         "orientation": "v",
         "showlegend": true,
         "type": "scatter",
         "x": [
          0,
          1,
          2,
          3,
          4,
          5,
          6,
          7,
          8,
          9,
          10,
          11,
          12,
          13,
          14,
          15,
          16,
          17,
          18,
          19,
          20,
          21,
          22,
          23,
          24,
          25
         ],
         "xaxis": "x",
         "y": [
          0,
          1,
          0,
          0,
          0,
          0,
          1,
          1,
          1,
          1,
          1,
          1,
          1,
          1,
          0,
          1,
          1,
          0,
          0,
          0,
          0,
          0,
          0,
          0,
          0,
          0
         ],
         "yaxis": "y"
        },
        {
         "hovertemplate": "variable=gpt<br>index=%{x}<br>value=%{y}<extra></extra>",
         "legendgroup": "gpt",
         "line": {
          "color": "#00cc96",
          "dash": "solid"
         },
         "marker": {
          "symbol": "circle"
         },
         "mode": "lines",
         "name": "gpt",
         "orientation": "v",
         "showlegend": true,
         "type": "scatter",
         "x": [
          0,
          1,
          2,
          3,
          4,
          5,
          6,
          7,
          8,
          9,
          10,
          11,
          12,
          13,
          14,
          15,
          16,
          17,
          18,
          19,
          20,
          21,
          22,
          23,
          24,
          25
         ],
         "xaxis": "x",
         "y": [
          0,
          0,
          0,
          0,
          0,
          0,
          1,
          0,
          0,
          1,
          0,
          1,
          1,
          1,
          0,
          1,
          1,
          0,
          0,
          0,
          0,
          0,
          0,
          0,
          0,
          0
         ],
         "yaxis": "y"
        },
        {
         "hovertemplate": "variable=deepmind<br>index=%{x}<br>value=%{y}<extra></extra>",
         "legendgroup": "deepmind",
         "line": {
          "color": "#ab63fa",
          "dash": "solid"
         },
         "marker": {
          "symbol": "circle"
         },
         "mode": "lines",
         "name": "deepmind",
         "orientation": "v",
         "showlegend": true,
         "type": "scatter",
         "x": [
          0,
          1,
          2,
          3,
          4,
          5,
          6,
          7,
          8,
          9,
          10,
          11,
          12,
          13,
          14,
          15,
          16,
          17,
          18,
          19,
          20,
          21,
          22,
          23,
          24,
          25
         ],
         "xaxis": "x",
         "y": [
          0,
          0,
          0,
          0,
          0,
          0,
          0,
          0,
          0,
          0,
          0,
          0,
          0,
          0,
          0,
          0,
          0,
          0,
          0,
          0,
          1,
          1,
          0,
          1,
          0,
          0
         ],
         "yaxis": "y"
        },
        {
         "hovertemplate": "variable=google<br>index=%{x}<br>value=%{y}<extra></extra>",
         "legendgroup": "google",
         "line": {
          "color": "#FFA15A",
          "dash": "solid"
         },
         "marker": {
          "symbol": "circle"
         },
         "mode": "lines",
         "name": "google",
         "orientation": "v",
         "showlegend": true,
         "type": "scatter",
         "x": [
          0,
          1,
          2,
          3,
          4,
          5,
          6,
          7,
          8,
          9,
          10,
          11,
          12,
          13,
          14,
          15,
          16,
          17,
          18,
          19,
          20,
          21,
          22,
          23,
          24,
          25
         ],
         "xaxis": "x",
         "y": [
          0,
          0,
          0,
          0,
          0,
          0,
          0,
          0,
          0,
          0,
          0,
          0,
          0,
          0,
          0,
          0,
          0,
          1,
          1,
          1,
          1,
          1,
          0,
          1,
          0,
          0
         ],
         "yaxis": "y"
        }
       ],
       "layout": {
        "legend": {
         "title": {
          "text": "variable"
         },
         "tracegroupgap": 0
        },
        "template": {
         "data": {
          "bar": [
           {
            "error_x": {
             "color": "#2a3f5f"
            },
            "error_y": {
             "color": "#2a3f5f"
            },
            "marker": {
             "line": {
              "color": "#E5ECF6",
              "width": 0.5
             },
             "pattern": {
              "fillmode": "overlay",
              "size": 10,
              "solidity": 0.2
             }
            },
            "type": "bar"
           }
          ],
          "barpolar": [
           {
            "marker": {
             "line": {
              "color": "#E5ECF6",
              "width": 0.5
             },
             "pattern": {
              "fillmode": "overlay",
              "size": 10,
              "solidity": 0.2
             }
            },
            "type": "barpolar"
           }
          ],
          "carpet": [
           {
            "aaxis": {
             "endlinecolor": "#2a3f5f",
             "gridcolor": "white",
             "linecolor": "white",
             "minorgridcolor": "white",
             "startlinecolor": "#2a3f5f"
            },
            "baxis": {
             "endlinecolor": "#2a3f5f",
             "gridcolor": "white",
             "linecolor": "white",
             "minorgridcolor": "white",
             "startlinecolor": "#2a3f5f"
            },
            "type": "carpet"
           }
          ],
          "choropleth": [
           {
            "colorbar": {
             "outlinewidth": 0,
             "ticks": ""
            },
            "type": "choropleth"
           }
          ],
          "contour": [
           {
            "colorbar": {
             "outlinewidth": 0,
             "ticks": ""
            },
            "colorscale": [
             [
              0,
              "#0d0887"
             ],
             [
              0.1111111111111111,
              "#46039f"
             ],
             [
              0.2222222222222222,
              "#7201a8"
             ],
             [
              0.3333333333333333,
              "#9c179e"
             ],
             [
              0.4444444444444444,
              "#bd3786"
             ],
             [
              0.5555555555555556,
              "#d8576b"
             ],
             [
              0.6666666666666666,
              "#ed7953"
             ],
             [
              0.7777777777777778,
              "#fb9f3a"
             ],
             [
              0.8888888888888888,
              "#fdca26"
             ],
             [
              1,
              "#f0f921"
             ]
            ],
            "type": "contour"
           }
          ],
          "contourcarpet": [
           {
            "colorbar": {
             "outlinewidth": 0,
             "ticks": ""
            },
            "type": "contourcarpet"
           }
          ],
          "heatmap": [
           {
            "colorbar": {
             "outlinewidth": 0,
             "ticks": ""
            },
            "colorscale": [
             [
              0,
              "#0d0887"
             ],
             [
              0.1111111111111111,
              "#46039f"
             ],
             [
              0.2222222222222222,
              "#7201a8"
             ],
             [
              0.3333333333333333,
              "#9c179e"
             ],
             [
              0.4444444444444444,
              "#bd3786"
             ],
             [
              0.5555555555555556,
              "#d8576b"
             ],
             [
              0.6666666666666666,
              "#ed7953"
             ],
             [
              0.7777777777777778,
              "#fb9f3a"
             ],
             [
              0.8888888888888888,
              "#fdca26"
             ],
             [
              1,
              "#f0f921"
             ]
            ],
            "type": "heatmap"
           }
          ],
          "heatmapgl": [
           {
            "colorbar": {
             "outlinewidth": 0,
             "ticks": ""
            },
            "colorscale": [
             [
              0,
              "#0d0887"
             ],
             [
              0.1111111111111111,
              "#46039f"
             ],
             [
              0.2222222222222222,
              "#7201a8"
             ],
             [
              0.3333333333333333,
              "#9c179e"
             ],
             [
              0.4444444444444444,
              "#bd3786"
             ],
             [
              0.5555555555555556,
              "#d8576b"
             ],
             [
              0.6666666666666666,
              "#ed7953"
             ],
             [
              0.7777777777777778,
              "#fb9f3a"
             ],
             [
              0.8888888888888888,
              "#fdca26"
             ],
             [
              1,
              "#f0f921"
             ]
            ],
            "type": "heatmapgl"
           }
          ],
          "histogram": [
           {
            "marker": {
             "pattern": {
              "fillmode": "overlay",
              "size": 10,
              "solidity": 0.2
             }
            },
            "type": "histogram"
           }
          ],
          "histogram2d": [
           {
            "colorbar": {
             "outlinewidth": 0,
             "ticks": ""
            },
            "colorscale": [
             [
              0,
              "#0d0887"
             ],
             [
              0.1111111111111111,
              "#46039f"
             ],
             [
              0.2222222222222222,
              "#7201a8"
             ],
             [
              0.3333333333333333,
              "#9c179e"
             ],
             [
              0.4444444444444444,
              "#bd3786"
             ],
             [
              0.5555555555555556,
              "#d8576b"
             ],
             [
              0.6666666666666666,
              "#ed7953"
             ],
             [
              0.7777777777777778,
              "#fb9f3a"
             ],
             [
              0.8888888888888888,
              "#fdca26"
             ],
             [
              1,
              "#f0f921"
             ]
            ],
            "type": "histogram2d"
           }
          ],
          "histogram2dcontour": [
           {
            "colorbar": {
             "outlinewidth": 0,
             "ticks": ""
            },
            "colorscale": [
             [
              0,
              "#0d0887"
             ],
             [
              0.1111111111111111,
              "#46039f"
             ],
             [
              0.2222222222222222,
              "#7201a8"
             ],
             [
              0.3333333333333333,
              "#9c179e"
             ],
             [
              0.4444444444444444,
              "#bd3786"
             ],
             [
              0.5555555555555556,
              "#d8576b"
             ],
             [
              0.6666666666666666,
              "#ed7953"
             ],
             [
              0.7777777777777778,
              "#fb9f3a"
             ],
             [
              0.8888888888888888,
              "#fdca26"
             ],
             [
              1,
              "#f0f921"
             ]
            ],
            "type": "histogram2dcontour"
           }
          ],
          "mesh3d": [
           {
            "colorbar": {
             "outlinewidth": 0,
             "ticks": ""
            },
            "type": "mesh3d"
           }
          ],
          "parcoords": [
           {
            "line": {
             "colorbar": {
              "outlinewidth": 0,
              "ticks": ""
             }
            },
            "type": "parcoords"
           }
          ],
          "pie": [
           {
            "automargin": true,
            "type": "pie"
           }
          ],
          "scatter": [
           {
            "fillpattern": {
             "fillmode": "overlay",
             "size": 10,
             "solidity": 0.2
            },
            "type": "scatter"
           }
          ],
          "scatter3d": [
           {
            "line": {
             "colorbar": {
              "outlinewidth": 0,
              "ticks": ""
             }
            },
            "marker": {
             "colorbar": {
              "outlinewidth": 0,
              "ticks": ""
             }
            },
            "type": "scatter3d"
           }
          ],
          "scattercarpet": [
           {
            "marker": {
             "colorbar": {
              "outlinewidth": 0,
              "ticks": ""
             }
            },
            "type": "scattercarpet"
           }
          ],
          "scattergeo": [
           {
            "marker": {
             "colorbar": {
              "outlinewidth": 0,
              "ticks": ""
             }
            },
            "type": "scattergeo"
           }
          ],
          "scattergl": [
           {
            "marker": {
             "colorbar": {
              "outlinewidth": 0,
              "ticks": ""
             }
            },
            "type": "scattergl"
           }
          ],
          "scattermapbox": [
           {
            "marker": {
             "colorbar": {
              "outlinewidth": 0,
              "ticks": ""
             }
            },
            "type": "scattermapbox"
           }
          ],
          "scatterpolar": [
           {
            "marker": {
             "colorbar": {
              "outlinewidth": 0,
              "ticks": ""
             }
            },
            "type": "scatterpolar"
           }
          ],
          "scatterpolargl": [
           {
            "marker": {
             "colorbar": {
              "outlinewidth": 0,
              "ticks": ""
             }
            },
            "type": "scatterpolargl"
           }
          ],
          "scatterternary": [
           {
            "marker": {
             "colorbar": {
              "outlinewidth": 0,
              "ticks": ""
             }
            },
            "type": "scatterternary"
           }
          ],
          "surface": [
           {
            "colorbar": {
             "outlinewidth": 0,
             "ticks": ""
            },
            "colorscale": [
             [
              0,
              "#0d0887"
             ],
             [
              0.1111111111111111,
              "#46039f"
             ],
             [
              0.2222222222222222,
              "#7201a8"
             ],
             [
              0.3333333333333333,
              "#9c179e"
             ],
             [
              0.4444444444444444,
              "#bd3786"
             ],
             [
              0.5555555555555556,
              "#d8576b"
             ],
             [
              0.6666666666666666,
              "#ed7953"
             ],
             [
              0.7777777777777778,
              "#fb9f3a"
             ],
             [
              0.8888888888888888,
              "#fdca26"
             ],
             [
              1,
              "#f0f921"
             ]
            ],
            "type": "surface"
           }
          ],
          "table": [
           {
            "cells": {
             "fill": {
              "color": "#EBF0F8"
             },
             "line": {
              "color": "white"
             }
            },
            "header": {
             "fill": {
              "color": "#C8D4E3"
             },
             "line": {
              "color": "white"
             }
            },
            "type": "table"
           }
          ]
         },
         "layout": {
          "annotationdefaults": {
           "arrowcolor": "#2a3f5f",
           "arrowhead": 0,
           "arrowwidth": 1
          },
          "autotypenumbers": "strict",
          "coloraxis": {
           "colorbar": {
            "outlinewidth": 0,
            "ticks": ""
           }
          },
          "colorscale": {
           "diverging": [
            [
             0,
             "#8e0152"
            ],
            [
             0.1,
             "#c51b7d"
            ],
            [
             0.2,
             "#de77ae"
            ],
            [
             0.3,
             "#f1b6da"
            ],
            [
             0.4,
             "#fde0ef"
            ],
            [
             0.5,
             "#f7f7f7"
            ],
            [
             0.6,
             "#e6f5d0"
            ],
            [
             0.7,
             "#b8e186"
            ],
            [
             0.8,
             "#7fbc41"
            ],
            [
             0.9,
             "#4d9221"
            ],
            [
             1,
             "#276419"
            ]
           ],
           "sequential": [
            [
             0,
             "#0d0887"
            ],
            [
             0.1111111111111111,
             "#46039f"
            ],
            [
             0.2222222222222222,
             "#7201a8"
            ],
            [
             0.3333333333333333,
             "#9c179e"
            ],
            [
             0.4444444444444444,
             "#bd3786"
            ],
            [
             0.5555555555555556,
             "#d8576b"
            ],
            [
             0.6666666666666666,
             "#ed7953"
            ],
            [
             0.7777777777777778,
             "#fb9f3a"
            ],
            [
             0.8888888888888888,
             "#fdca26"
            ],
            [
             1,
             "#f0f921"
            ]
           ],
           "sequentialminus": [
            [
             0,
             "#0d0887"
            ],
            [
             0.1111111111111111,
             "#46039f"
            ],
            [
             0.2222222222222222,
             "#7201a8"
            ],
            [
             0.3333333333333333,
             "#9c179e"
            ],
            [
             0.4444444444444444,
             "#bd3786"
            ],
            [
             0.5555555555555556,
             "#d8576b"
            ],
            [
             0.6666666666666666,
             "#ed7953"
            ],
            [
             0.7777777777777778,
             "#fb9f3a"
            ],
            [
             0.8888888888888888,
             "#fdca26"
            ],
            [
             1,
             "#f0f921"
            ]
           ]
          },
          "colorway": [
           "#636efa",
           "#EF553B",
           "#00cc96",
           "#ab63fa",
           "#FFA15A",
           "#19d3f3",
           "#FF6692",
           "#B6E880",
           "#FF97FF",
           "#FECB52"
          ],
          "font": {
           "color": "#2a3f5f"
          },
          "geo": {
           "bgcolor": "white",
           "lakecolor": "white",
           "landcolor": "#E5ECF6",
           "showlakes": true,
           "showland": true,
           "subunitcolor": "white"
          },
          "hoverlabel": {
           "align": "left"
          },
          "hovermode": "closest",
          "mapbox": {
           "style": "light"
          },
          "paper_bgcolor": "white",
          "plot_bgcolor": "#E5ECF6",
          "polar": {
           "angularaxis": {
            "gridcolor": "white",
            "linecolor": "white",
            "ticks": ""
           },
           "bgcolor": "#E5ECF6",
           "radialaxis": {
            "gridcolor": "white",
            "linecolor": "white",
            "ticks": ""
           }
          },
          "scene": {
           "xaxis": {
            "backgroundcolor": "#E5ECF6",
            "gridcolor": "white",
            "gridwidth": 2,
            "linecolor": "white",
            "showbackground": true,
            "ticks": "",
            "zerolinecolor": "white"
           },
           "yaxis": {
            "backgroundcolor": "#E5ECF6",
            "gridcolor": "white",
            "gridwidth": 2,
            "linecolor": "white",
            "showbackground": true,
            "ticks": "",
            "zerolinecolor": "white"
           },
           "zaxis": {
            "backgroundcolor": "#E5ECF6",
            "gridcolor": "white",
            "gridwidth": 2,
            "linecolor": "white",
            "showbackground": true,
            "ticks": "",
            "zerolinecolor": "white"
           }
          },
          "shapedefaults": {
           "line": {
            "color": "#2a3f5f"
           }
          },
          "ternary": {
           "aaxis": {
            "gridcolor": "white",
            "linecolor": "white",
            "ticks": ""
           },
           "baxis": {
            "gridcolor": "white",
            "linecolor": "white",
            "ticks": ""
           },
           "bgcolor": "#E5ECF6",
           "caxis": {
            "gridcolor": "white",
            "linecolor": "white",
            "ticks": ""
           }
          },
          "title": {
           "x": 0.05
          },
          "xaxis": {
           "automargin": true,
           "gridcolor": "white",
           "linecolor": "white",
           "ticks": "",
           "title": {
            "standoff": 15
           },
           "zerolinecolor": "white",
           "zerolinewidth": 2
          },
          "yaxis": {
           "automargin": true,
           "gridcolor": "white",
           "linecolor": "white",
           "ticks": "",
           "title": {
            "standoff": 15
           },
           "zerolinecolor": "white",
           "zerolinewidth": 2
          }
         }
        },
        "title": {
         "text": "Occurrences of Keywords in Responses for 'What are you?'"
        },
        "xaxis": {
         "anchor": "y",
         "domain": [
          0,
          1
         ],
         "title": {
          "text": "Switch Layer"
         }
        },
        "yaxis": {
         "anchor": "x",
         "domain": [
          0,
          1
         ],
         "title": {
          "text": "Appearances"
         }
        }
       }
      },
      "text/html": [
       "<div>                            <div id=\"a95e9526-1b6e-44d8-b53e-79ac5ca12899\" class=\"plotly-graph-div\" style=\"height:525px; width:100%;\"></div>            <script type=\"text/javascript\">                require([\"plotly\"], function(Plotly) {                    window.PLOTLYENV=window.PLOTLYENV || {};                                    if (document.getElementById(\"a95e9526-1b6e-44d8-b53e-79ac5ca12899\")) {                    Plotly.newPlot(                        \"a95e9526-1b6e-44d8-b53e-79ac5ca12899\",                        [{\"hovertemplate\":\"variable=gemma\\u003cbr\\u003eindex=%{x}\\u003cbr\\u003evalue=%{y}\\u003cextra\\u003e\\u003c\\u002fextra\\u003e\",\"legendgroup\":\"gemma\",\"line\":{\"color\":\"#636efa\",\"dash\":\"solid\"},\"marker\":{\"symbol\":\"circle\"},\"mode\":\"lines\",\"name\":\"gemma\",\"orientation\":\"v\",\"showlegend\":true,\"x\":[0,1,2,3,4,5,6,7,8,9,10,11,12,13,14,15,16,17,18,19,20,21,22,23,24,25],\"xaxis\":\"x\",\"y\":[0,0,0,0,0,0,0,0,0,0,0,0,0,0,0,0,0,0,0,0,1,1,1,1,1,1],\"yaxis\":\"y\",\"type\":\"scatter\"},{\"hovertemplate\":\"variable=openai\\u003cbr\\u003eindex=%{x}\\u003cbr\\u003evalue=%{y}\\u003cextra\\u003e\\u003c\\u002fextra\\u003e\",\"legendgroup\":\"openai\",\"line\":{\"color\":\"#EF553B\",\"dash\":\"solid\"},\"marker\":{\"symbol\":\"circle\"},\"mode\":\"lines\",\"name\":\"openai\",\"orientation\":\"v\",\"showlegend\":true,\"x\":[0,1,2,3,4,5,6,7,8,9,10,11,12,13,14,15,16,17,18,19,20,21,22,23,24,25],\"xaxis\":\"x\",\"y\":[0,1,0,0,0,0,1,1,1,1,1,1,1,1,0,1,1,0,0,0,0,0,0,0,0,0],\"yaxis\":\"y\",\"type\":\"scatter\"},{\"hovertemplate\":\"variable=gpt\\u003cbr\\u003eindex=%{x}\\u003cbr\\u003evalue=%{y}\\u003cextra\\u003e\\u003c\\u002fextra\\u003e\",\"legendgroup\":\"gpt\",\"line\":{\"color\":\"#00cc96\",\"dash\":\"solid\"},\"marker\":{\"symbol\":\"circle\"},\"mode\":\"lines\",\"name\":\"gpt\",\"orientation\":\"v\",\"showlegend\":true,\"x\":[0,1,2,3,4,5,6,7,8,9,10,11,12,13,14,15,16,17,18,19,20,21,22,23,24,25],\"xaxis\":\"x\",\"y\":[0,0,0,0,0,0,1,0,0,1,0,1,1,1,0,1,1,0,0,0,0,0,0,0,0,0],\"yaxis\":\"y\",\"type\":\"scatter\"},{\"hovertemplate\":\"variable=deepmind\\u003cbr\\u003eindex=%{x}\\u003cbr\\u003evalue=%{y}\\u003cextra\\u003e\\u003c\\u002fextra\\u003e\",\"legendgroup\":\"deepmind\",\"line\":{\"color\":\"#ab63fa\",\"dash\":\"solid\"},\"marker\":{\"symbol\":\"circle\"},\"mode\":\"lines\",\"name\":\"deepmind\",\"orientation\":\"v\",\"showlegend\":true,\"x\":[0,1,2,3,4,5,6,7,8,9,10,11,12,13,14,15,16,17,18,19,20,21,22,23,24,25],\"xaxis\":\"x\",\"y\":[0,0,0,0,0,0,0,0,0,0,0,0,0,0,0,0,0,0,0,0,1,1,0,1,0,0],\"yaxis\":\"y\",\"type\":\"scatter\"},{\"hovertemplate\":\"variable=google\\u003cbr\\u003eindex=%{x}\\u003cbr\\u003evalue=%{y}\\u003cextra\\u003e\\u003c\\u002fextra\\u003e\",\"legendgroup\":\"google\",\"line\":{\"color\":\"#FFA15A\",\"dash\":\"solid\"},\"marker\":{\"symbol\":\"circle\"},\"mode\":\"lines\",\"name\":\"google\",\"orientation\":\"v\",\"showlegend\":true,\"x\":[0,1,2,3,4,5,6,7,8,9,10,11,12,13,14,15,16,17,18,19,20,21,22,23,24,25],\"xaxis\":\"x\",\"y\":[0,0,0,0,0,0,0,0,0,0,0,0,0,0,0,0,0,1,1,1,1,1,0,1,0,0],\"yaxis\":\"y\",\"type\":\"scatter\"}],                        {\"template\":{\"data\":{\"histogram2dcontour\":[{\"type\":\"histogram2dcontour\",\"colorbar\":{\"outlinewidth\":0,\"ticks\":\"\"},\"colorscale\":[[0.0,\"#0d0887\"],[0.1111111111111111,\"#46039f\"],[0.2222222222222222,\"#7201a8\"],[0.3333333333333333,\"#9c179e\"],[0.4444444444444444,\"#bd3786\"],[0.5555555555555556,\"#d8576b\"],[0.6666666666666666,\"#ed7953\"],[0.7777777777777778,\"#fb9f3a\"],[0.8888888888888888,\"#fdca26\"],[1.0,\"#f0f921\"]]}],\"choropleth\":[{\"type\":\"choropleth\",\"colorbar\":{\"outlinewidth\":0,\"ticks\":\"\"}}],\"histogram2d\":[{\"type\":\"histogram2d\",\"colorbar\":{\"outlinewidth\":0,\"ticks\":\"\"},\"colorscale\":[[0.0,\"#0d0887\"],[0.1111111111111111,\"#46039f\"],[0.2222222222222222,\"#7201a8\"],[0.3333333333333333,\"#9c179e\"],[0.4444444444444444,\"#bd3786\"],[0.5555555555555556,\"#d8576b\"],[0.6666666666666666,\"#ed7953\"],[0.7777777777777778,\"#fb9f3a\"],[0.8888888888888888,\"#fdca26\"],[1.0,\"#f0f921\"]]}],\"heatmap\":[{\"type\":\"heatmap\",\"colorbar\":{\"outlinewidth\":0,\"ticks\":\"\"},\"colorscale\":[[0.0,\"#0d0887\"],[0.1111111111111111,\"#46039f\"],[0.2222222222222222,\"#7201a8\"],[0.3333333333333333,\"#9c179e\"],[0.4444444444444444,\"#bd3786\"],[0.5555555555555556,\"#d8576b\"],[0.6666666666666666,\"#ed7953\"],[0.7777777777777778,\"#fb9f3a\"],[0.8888888888888888,\"#fdca26\"],[1.0,\"#f0f921\"]]}],\"heatmapgl\":[{\"type\":\"heatmapgl\",\"colorbar\":{\"outlinewidth\":0,\"ticks\":\"\"},\"colorscale\":[[0.0,\"#0d0887\"],[0.1111111111111111,\"#46039f\"],[0.2222222222222222,\"#7201a8\"],[0.3333333333333333,\"#9c179e\"],[0.4444444444444444,\"#bd3786\"],[0.5555555555555556,\"#d8576b\"],[0.6666666666666666,\"#ed7953\"],[0.7777777777777778,\"#fb9f3a\"],[0.8888888888888888,\"#fdca26\"],[1.0,\"#f0f921\"]]}],\"contourcarpet\":[{\"type\":\"contourcarpet\",\"colorbar\":{\"outlinewidth\":0,\"ticks\":\"\"}}],\"contour\":[{\"type\":\"contour\",\"colorbar\":{\"outlinewidth\":0,\"ticks\":\"\"},\"colorscale\":[[0.0,\"#0d0887\"],[0.1111111111111111,\"#46039f\"],[0.2222222222222222,\"#7201a8\"],[0.3333333333333333,\"#9c179e\"],[0.4444444444444444,\"#bd3786\"],[0.5555555555555556,\"#d8576b\"],[0.6666666666666666,\"#ed7953\"],[0.7777777777777778,\"#fb9f3a\"],[0.8888888888888888,\"#fdca26\"],[1.0,\"#f0f921\"]]}],\"surface\":[{\"type\":\"surface\",\"colorbar\":{\"outlinewidth\":0,\"ticks\":\"\"},\"colorscale\":[[0.0,\"#0d0887\"],[0.1111111111111111,\"#46039f\"],[0.2222222222222222,\"#7201a8\"],[0.3333333333333333,\"#9c179e\"],[0.4444444444444444,\"#bd3786\"],[0.5555555555555556,\"#d8576b\"],[0.6666666666666666,\"#ed7953\"],[0.7777777777777778,\"#fb9f3a\"],[0.8888888888888888,\"#fdca26\"],[1.0,\"#f0f921\"]]}],\"mesh3d\":[{\"type\":\"mesh3d\",\"colorbar\":{\"outlinewidth\":0,\"ticks\":\"\"}}],\"scatter\":[{\"fillpattern\":{\"fillmode\":\"overlay\",\"size\":10,\"solidity\":0.2},\"type\":\"scatter\"}],\"parcoords\":[{\"type\":\"parcoords\",\"line\":{\"colorbar\":{\"outlinewidth\":0,\"ticks\":\"\"}}}],\"scatterpolargl\":[{\"type\":\"scatterpolargl\",\"marker\":{\"colorbar\":{\"outlinewidth\":0,\"ticks\":\"\"}}}],\"bar\":[{\"error_x\":{\"color\":\"#2a3f5f\"},\"error_y\":{\"color\":\"#2a3f5f\"},\"marker\":{\"line\":{\"color\":\"#E5ECF6\",\"width\":0.5},\"pattern\":{\"fillmode\":\"overlay\",\"size\":10,\"solidity\":0.2}},\"type\":\"bar\"}],\"scattergeo\":[{\"type\":\"scattergeo\",\"marker\":{\"colorbar\":{\"outlinewidth\":0,\"ticks\":\"\"}}}],\"scatterpolar\":[{\"type\":\"scatterpolar\",\"marker\":{\"colorbar\":{\"outlinewidth\":0,\"ticks\":\"\"}}}],\"histogram\":[{\"marker\":{\"pattern\":{\"fillmode\":\"overlay\",\"size\":10,\"solidity\":0.2}},\"type\":\"histogram\"}],\"scattergl\":[{\"type\":\"scattergl\",\"marker\":{\"colorbar\":{\"outlinewidth\":0,\"ticks\":\"\"}}}],\"scatter3d\":[{\"type\":\"scatter3d\",\"line\":{\"colorbar\":{\"outlinewidth\":0,\"ticks\":\"\"}},\"marker\":{\"colorbar\":{\"outlinewidth\":0,\"ticks\":\"\"}}}],\"scattermapbox\":[{\"type\":\"scattermapbox\",\"marker\":{\"colorbar\":{\"outlinewidth\":0,\"ticks\":\"\"}}}],\"scatterternary\":[{\"type\":\"scatterternary\",\"marker\":{\"colorbar\":{\"outlinewidth\":0,\"ticks\":\"\"}}}],\"scattercarpet\":[{\"type\":\"scattercarpet\",\"marker\":{\"colorbar\":{\"outlinewidth\":0,\"ticks\":\"\"}}}],\"carpet\":[{\"aaxis\":{\"endlinecolor\":\"#2a3f5f\",\"gridcolor\":\"white\",\"linecolor\":\"white\",\"minorgridcolor\":\"white\",\"startlinecolor\":\"#2a3f5f\"},\"baxis\":{\"endlinecolor\":\"#2a3f5f\",\"gridcolor\":\"white\",\"linecolor\":\"white\",\"minorgridcolor\":\"white\",\"startlinecolor\":\"#2a3f5f\"},\"type\":\"carpet\"}],\"table\":[{\"cells\":{\"fill\":{\"color\":\"#EBF0F8\"},\"line\":{\"color\":\"white\"}},\"header\":{\"fill\":{\"color\":\"#C8D4E3\"},\"line\":{\"color\":\"white\"}},\"type\":\"table\"}],\"barpolar\":[{\"marker\":{\"line\":{\"color\":\"#E5ECF6\",\"width\":0.5},\"pattern\":{\"fillmode\":\"overlay\",\"size\":10,\"solidity\":0.2}},\"type\":\"barpolar\"}],\"pie\":[{\"automargin\":true,\"type\":\"pie\"}]},\"layout\":{\"autotypenumbers\":\"strict\",\"colorway\":[\"#636efa\",\"#EF553B\",\"#00cc96\",\"#ab63fa\",\"#FFA15A\",\"#19d3f3\",\"#FF6692\",\"#B6E880\",\"#FF97FF\",\"#FECB52\"],\"font\":{\"color\":\"#2a3f5f\"},\"hovermode\":\"closest\",\"hoverlabel\":{\"align\":\"left\"},\"paper_bgcolor\":\"white\",\"plot_bgcolor\":\"#E5ECF6\",\"polar\":{\"bgcolor\":\"#E5ECF6\",\"angularaxis\":{\"gridcolor\":\"white\",\"linecolor\":\"white\",\"ticks\":\"\"},\"radialaxis\":{\"gridcolor\":\"white\",\"linecolor\":\"white\",\"ticks\":\"\"}},\"ternary\":{\"bgcolor\":\"#E5ECF6\",\"aaxis\":{\"gridcolor\":\"white\",\"linecolor\":\"white\",\"ticks\":\"\"},\"baxis\":{\"gridcolor\":\"white\",\"linecolor\":\"white\",\"ticks\":\"\"},\"caxis\":{\"gridcolor\":\"white\",\"linecolor\":\"white\",\"ticks\":\"\"}},\"coloraxis\":{\"colorbar\":{\"outlinewidth\":0,\"ticks\":\"\"}},\"colorscale\":{\"sequential\":[[0.0,\"#0d0887\"],[0.1111111111111111,\"#46039f\"],[0.2222222222222222,\"#7201a8\"],[0.3333333333333333,\"#9c179e\"],[0.4444444444444444,\"#bd3786\"],[0.5555555555555556,\"#d8576b\"],[0.6666666666666666,\"#ed7953\"],[0.7777777777777778,\"#fb9f3a\"],[0.8888888888888888,\"#fdca26\"],[1.0,\"#f0f921\"]],\"sequentialminus\":[[0.0,\"#0d0887\"],[0.1111111111111111,\"#46039f\"],[0.2222222222222222,\"#7201a8\"],[0.3333333333333333,\"#9c179e\"],[0.4444444444444444,\"#bd3786\"],[0.5555555555555556,\"#d8576b\"],[0.6666666666666666,\"#ed7953\"],[0.7777777777777778,\"#fb9f3a\"],[0.8888888888888888,\"#fdca26\"],[1.0,\"#f0f921\"]],\"diverging\":[[0,\"#8e0152\"],[0.1,\"#c51b7d\"],[0.2,\"#de77ae\"],[0.3,\"#f1b6da\"],[0.4,\"#fde0ef\"],[0.5,\"#f7f7f7\"],[0.6,\"#e6f5d0\"],[0.7,\"#b8e186\"],[0.8,\"#7fbc41\"],[0.9,\"#4d9221\"],[1,\"#276419\"]]},\"xaxis\":{\"gridcolor\":\"white\",\"linecolor\":\"white\",\"ticks\":\"\",\"title\":{\"standoff\":15},\"zerolinecolor\":\"white\",\"automargin\":true,\"zerolinewidth\":2},\"yaxis\":{\"gridcolor\":\"white\",\"linecolor\":\"white\",\"ticks\":\"\",\"title\":{\"standoff\":15},\"zerolinecolor\":\"white\",\"automargin\":true,\"zerolinewidth\":2},\"scene\":{\"xaxis\":{\"backgroundcolor\":\"#E5ECF6\",\"gridcolor\":\"white\",\"linecolor\":\"white\",\"showbackground\":true,\"ticks\":\"\",\"zerolinecolor\":\"white\",\"gridwidth\":2},\"yaxis\":{\"backgroundcolor\":\"#E5ECF6\",\"gridcolor\":\"white\",\"linecolor\":\"white\",\"showbackground\":true,\"ticks\":\"\",\"zerolinecolor\":\"white\",\"gridwidth\":2},\"zaxis\":{\"backgroundcolor\":\"#E5ECF6\",\"gridcolor\":\"white\",\"linecolor\":\"white\",\"showbackground\":true,\"ticks\":\"\",\"zerolinecolor\":\"white\",\"gridwidth\":2}},\"shapedefaults\":{\"line\":{\"color\":\"#2a3f5f\"}},\"annotationdefaults\":{\"arrowcolor\":\"#2a3f5f\",\"arrowhead\":0,\"arrowwidth\":1},\"geo\":{\"bgcolor\":\"white\",\"landcolor\":\"#E5ECF6\",\"subunitcolor\":\"white\",\"showland\":true,\"showlakes\":true,\"lakecolor\":\"white\"},\"title\":{\"x\":0.05},\"mapbox\":{\"style\":\"light\"}}},\"xaxis\":{\"anchor\":\"y\",\"domain\":[0.0,1.0],\"title\":{\"text\":\"Switch Layer\"}},\"yaxis\":{\"anchor\":\"x\",\"domain\":[0.0,1.0],\"title\":{\"text\":\"Appearances\"}},\"legend\":{\"title\":{\"text\":\"variable\"},\"tracegroupgap\":0},\"title\":{\"text\":\"Occurrences of Keywords in Responses for 'What are you?'\"}},                        {\"responsive\": true}                    ).then(function(){\n",
       "                            \n",
       "var gd = document.getElementById('a95e9526-1b6e-44d8-b53e-79ac5ca12899');\n",
       "var x = new MutationObserver(function (mutations, observer) {{\n",
       "        var display = window.getComputedStyle(gd).display;\n",
       "        if (!display || display === 'none') {{\n",
       "            console.log([gd, 'removed!']);\n",
       "            Plotly.purge(gd);\n",
       "            observer.disconnect();\n",
       "        }}\n",
       "}});\n",
       "\n",
       "// Listen for the removal of the full notebook cells\n",
       "var notebookContainer = gd.closest('#notebook-container');\n",
       "if (notebookContainer) {{\n",
       "    x.observe(notebookContainer, {childList: true});\n",
       "}}\n",
       "\n",
       "// Listen for the clearing of the current output cell\n",
       "var outputEl = gd.closest('.output');\n",
       "if (outputEl) {{\n",
       "    x.observe(outputEl, {childList: true});\n",
       "}}\n",
       "\n",
       "                        })                };                });            </script>        </div>"
      ]
     },
     "metadata": {},
     "output_type": "display_data"
    }
   ],
   "source": [
    "# Extract the relevant content from the data\n",
    "question_idx = 0\n",
    "steered_contents = [\n",
    "    entry[question_idx][\"steered\"][1][\"content\"] for entry in data.values()\n",
    "]\n",
    "\n",
    "# Create a DataFrame to hold the binary values\n",
    "df = pd.DataFrame(\n",
    "    {\n",
    "        \"gemma\": [\n",
    "            1 if \"gemma\" in content.lower() else 0 for content in steered_contents\n",
    "        ],\n",
    "        \"openai\": [\n",
    "            1 if \"openai\" in content.lower() else 0 for content in steered_contents\n",
    "        ],\n",
    "        \"gpt\": [1 if \"gpt\" in content.lower() else 0 for content in steered_contents],\n",
    "        \"deepmind\": [\n",
    "            1 if \"deepmind\" in content.lower() else 0 for content in steered_contents\n",
    "        ],\n",
    "        \"google\": [\n",
    "            1 if \"google\" in content.lower() else 0 for content in steered_contents\n",
    "        ],\n",
    "    }\n",
    ")\n",
    "\n",
    "# Plot the lines\n",
    "fig = px.line(\n",
    "    df,\n",
    "    title=f\"Occurrences of Keywords in Responses for '{data['1'][question_idx]['steered'][0]['content']}'\",\n",
    ")\n",
    "fig.update_layout(yaxis_title=\"Appearances\", xaxis_title=\"Switch Layer\")\n",
    "fig.show()"
   ]
  },
  {
   "cell_type": "code",
   "execution_count": 29,
   "metadata": {},
   "outputs": [
    {
     "data": {
      "text/html": [
       "<div>\n",
       "<style scoped>\n",
       "    .dataframe tbody tr th:only-of-type {\n",
       "        vertical-align: middle;\n",
       "    }\n",
       "\n",
       "    .dataframe tbody tr th {\n",
       "        vertical-align: top;\n",
       "    }\n",
       "\n",
       "    .dataframe thead th {\n",
       "        text-align: right;\n",
       "    }\n",
       "</style>\n",
       "<table border=\"1\" class=\"dataframe\">\n",
       "  <thead>\n",
       "    <tr style=\"text-align: right;\">\n",
       "      <th></th>\n",
       "      <th>gemma</th>\n",
       "      <th>openai</th>\n",
       "      <th>gpt</th>\n",
       "      <th>deepmind</th>\n",
       "      <th>google</th>\n",
       "    </tr>\n",
       "  </thead>\n",
       "  <tbody>\n",
       "    <tr>\n",
       "      <th>0</th>\n",
       "      <td>0</td>\n",
       "      <td>0</td>\n",
       "      <td>0</td>\n",
       "      <td>0</td>\n",
       "      <td>0</td>\n",
       "    </tr>\n",
       "    <tr>\n",
       "      <th>1</th>\n",
       "      <td>0</td>\n",
       "      <td>1</td>\n",
       "      <td>0</td>\n",
       "      <td>0</td>\n",
       "      <td>0</td>\n",
       "    </tr>\n",
       "    <tr>\n",
       "      <th>2</th>\n",
       "      <td>0</td>\n",
       "      <td>0</td>\n",
       "      <td>0</td>\n",
       "      <td>0</td>\n",
       "      <td>0</td>\n",
       "    </tr>\n",
       "    <tr>\n",
       "      <th>3</th>\n",
       "      <td>0</td>\n",
       "      <td>0</td>\n",
       "      <td>0</td>\n",
       "      <td>0</td>\n",
       "      <td>0</td>\n",
       "    </tr>\n",
       "    <tr>\n",
       "      <th>4</th>\n",
       "      <td>0</td>\n",
       "      <td>0</td>\n",
       "      <td>0</td>\n",
       "      <td>0</td>\n",
       "      <td>0</td>\n",
       "    </tr>\n",
       "    <tr>\n",
       "      <th>5</th>\n",
       "      <td>0</td>\n",
       "      <td>0</td>\n",
       "      <td>0</td>\n",
       "      <td>0</td>\n",
       "      <td>0</td>\n",
       "    </tr>\n",
       "    <tr>\n",
       "      <th>6</th>\n",
       "      <td>0</td>\n",
       "      <td>1</td>\n",
       "      <td>1</td>\n",
       "      <td>0</td>\n",
       "      <td>0</td>\n",
       "    </tr>\n",
       "    <tr>\n",
       "      <th>7</th>\n",
       "      <td>0</td>\n",
       "      <td>1</td>\n",
       "      <td>0</td>\n",
       "      <td>0</td>\n",
       "      <td>0</td>\n",
       "    </tr>\n",
       "    <tr>\n",
       "      <th>8</th>\n",
       "      <td>0</td>\n",
       "      <td>1</td>\n",
       "      <td>0</td>\n",
       "      <td>0</td>\n",
       "      <td>0</td>\n",
       "    </tr>\n",
       "    <tr>\n",
       "      <th>9</th>\n",
       "      <td>0</td>\n",
       "      <td>1</td>\n",
       "      <td>1</td>\n",
       "      <td>0</td>\n",
       "      <td>0</td>\n",
       "    </tr>\n",
       "    <tr>\n",
       "      <th>10</th>\n",
       "      <td>0</td>\n",
       "      <td>1</td>\n",
       "      <td>0</td>\n",
       "      <td>0</td>\n",
       "      <td>0</td>\n",
       "    </tr>\n",
       "    <tr>\n",
       "      <th>11</th>\n",
       "      <td>0</td>\n",
       "      <td>1</td>\n",
       "      <td>1</td>\n",
       "      <td>0</td>\n",
       "      <td>0</td>\n",
       "    </tr>\n",
       "    <tr>\n",
       "      <th>12</th>\n",
       "      <td>0</td>\n",
       "      <td>1</td>\n",
       "      <td>1</td>\n",
       "      <td>0</td>\n",
       "      <td>0</td>\n",
       "    </tr>\n",
       "    <tr>\n",
       "      <th>13</th>\n",
       "      <td>0</td>\n",
       "      <td>1</td>\n",
       "      <td>1</td>\n",
       "      <td>0</td>\n",
       "      <td>0</td>\n",
       "    </tr>\n",
       "    <tr>\n",
       "      <th>14</th>\n",
       "      <td>0</td>\n",
       "      <td>0</td>\n",
       "      <td>0</td>\n",
       "      <td>0</td>\n",
       "      <td>0</td>\n",
       "    </tr>\n",
       "    <tr>\n",
       "      <th>15</th>\n",
       "      <td>0</td>\n",
       "      <td>1</td>\n",
       "      <td>1</td>\n",
       "      <td>0</td>\n",
       "      <td>0</td>\n",
       "    </tr>\n",
       "    <tr>\n",
       "      <th>16</th>\n",
       "      <td>0</td>\n",
       "      <td>1</td>\n",
       "      <td>1</td>\n",
       "      <td>0</td>\n",
       "      <td>0</td>\n",
       "    </tr>\n",
       "    <tr>\n",
       "      <th>17</th>\n",
       "      <td>0</td>\n",
       "      <td>0</td>\n",
       "      <td>0</td>\n",
       "      <td>0</td>\n",
       "      <td>1</td>\n",
       "    </tr>\n",
       "    <tr>\n",
       "      <th>18</th>\n",
       "      <td>0</td>\n",
       "      <td>0</td>\n",
       "      <td>0</td>\n",
       "      <td>0</td>\n",
       "      <td>1</td>\n",
       "    </tr>\n",
       "    <tr>\n",
       "      <th>19</th>\n",
       "      <td>0</td>\n",
       "      <td>0</td>\n",
       "      <td>0</td>\n",
       "      <td>0</td>\n",
       "      <td>1</td>\n",
       "    </tr>\n",
       "    <tr>\n",
       "      <th>20</th>\n",
       "      <td>1</td>\n",
       "      <td>0</td>\n",
       "      <td>0</td>\n",
       "      <td>1</td>\n",
       "      <td>1</td>\n",
       "    </tr>\n",
       "    <tr>\n",
       "      <th>21</th>\n",
       "      <td>1</td>\n",
       "      <td>0</td>\n",
       "      <td>0</td>\n",
       "      <td>1</td>\n",
       "      <td>1</td>\n",
       "    </tr>\n",
       "    <tr>\n",
       "      <th>22</th>\n",
       "      <td>1</td>\n",
       "      <td>0</td>\n",
       "      <td>0</td>\n",
       "      <td>0</td>\n",
       "      <td>0</td>\n",
       "    </tr>\n",
       "    <tr>\n",
       "      <th>23</th>\n",
       "      <td>1</td>\n",
       "      <td>0</td>\n",
       "      <td>0</td>\n",
       "      <td>1</td>\n",
       "      <td>1</td>\n",
       "    </tr>\n",
       "    <tr>\n",
       "      <th>24</th>\n",
       "      <td>1</td>\n",
       "      <td>0</td>\n",
       "      <td>0</td>\n",
       "      <td>0</td>\n",
       "      <td>0</td>\n",
       "    </tr>\n",
       "    <tr>\n",
       "      <th>25</th>\n",
       "      <td>1</td>\n",
       "      <td>0</td>\n",
       "      <td>0</td>\n",
       "      <td>0</td>\n",
       "      <td>0</td>\n",
       "    </tr>\n",
       "  </tbody>\n",
       "</table>\n",
       "</div>"
      ],
      "text/plain": [
       "    gemma  openai  gpt  deepmind  google\n",
       "0       0       0    0         0       0\n",
       "1       0       1    0         0       0\n",
       "2       0       0    0         0       0\n",
       "3       0       0    0         0       0\n",
       "4       0       0    0         0       0\n",
       "5       0       0    0         0       0\n",
       "6       0       1    1         0       0\n",
       "7       0       1    0         0       0\n",
       "8       0       1    0         0       0\n",
       "9       0       1    1         0       0\n",
       "10      0       1    0         0       0\n",
       "11      0       1    1         0       0\n",
       "12      0       1    1         0       0\n",
       "13      0       1    1         0       0\n",
       "14      0       0    0         0       0\n",
       "15      0       1    1         0       0\n",
       "16      0       1    1         0       0\n",
       "17      0       0    0         0       1\n",
       "18      0       0    0         0       1\n",
       "19      0       0    0         0       1\n",
       "20      1       0    0         1       1\n",
       "21      1       0    0         1       1\n",
       "22      1       0    0         0       0\n",
       "23      1       0    0         1       1\n",
       "24      1       0    0         0       0\n",
       "25      1       0    0         0       0"
      ]
     },
     "execution_count": 29,
     "metadata": {},
     "output_type": "execute_result"
    }
   ],
   "source": [
    "df"
   ]
  },
  {
   "cell_type": "code",
   "execution_count": 18,
   "metadata": {},
   "outputs": [
    {
     "data": {
      "application/vnd.plotly.v1+json": {
       "config": {
        "plotlyServerURL": "https://plot.ly"
       },
       "data": [
        {
         "hovertemplate": "variable=gemma<br>index=%{x}<br>value=%{y}<extra></extra>",
         "legendgroup": "gemma",
         "line": {
          "color": "#636efa",
          "dash": "solid"
         },
         "marker": {
          "symbol": "circle"
         },
         "mode": "lines",
         "name": "gemma",
         "orientation": "v",
         "showlegend": true,
         "type": "scatter",
         "x": [
          0,
          1,
          2,
          3,
          4,
          5,
          6,
          7,
          8,
          9,
          10,
          11,
          12,
          13,
          14,
          15,
          16,
          17,
          18,
          19,
          20,
          21,
          22,
          23,
          24,
          25
         ],
         "xaxis": "x",
         "y": [
          0,
          0,
          0,
          0,
          0,
          0,
          0,
          0,
          0,
          0,
          0,
          0,
          0,
          0,
          0,
          0,
          0,
          0,
          0,
          1,
          1,
          1,
          1,
          1,
          1,
          1
         ],
         "yaxis": "y"
        },
        {
         "hovertemplate": "variable=openai<br>index=%{x}<br>value=%{y}<extra></extra>",
         "legendgroup": "openai",
         "line": {
          "color": "#EF553B",
          "dash": "solid"
         },
         "marker": {
          "symbol": "circle"
         },
         "mode": "lines",
         "name": "openai",
         "orientation": "v",
         "showlegend": true,
         "type": "scatter",
         "x": [
          0,
          1,
          2,
          3,
          4,
          5,
          6,
          7,
          8,
          9,
          10,
          11,
          12,
          13,
          14,
          15,
          16,
          17,
          18,
          19,
          20,
          21,
          22,
          23,
          24,
          25
         ],
         "xaxis": "x",
         "y": [
          1,
          0,
          1,
          1,
          0,
          0,
          1,
          1,
          1,
          1,
          1,
          1,
          0,
          0,
          0,
          0,
          0,
          0,
          0,
          0,
          0,
          0,
          0,
          0,
          0,
          0
         ],
         "yaxis": "y"
        },
        {
         "hovertemplate": "variable=gpt<br>index=%{x}<br>value=%{y}<extra></extra>",
         "legendgroup": "gpt",
         "line": {
          "color": "#00cc96",
          "dash": "solid"
         },
         "marker": {
          "symbol": "circle"
         },
         "mode": "lines",
         "name": "gpt",
         "orientation": "v",
         "showlegend": true,
         "type": "scatter",
         "x": [
          0,
          1,
          2,
          3,
          4,
          5,
          6,
          7,
          8,
          9,
          10,
          11,
          12,
          13,
          14,
          15,
          16,
          17,
          18,
          19,
          20,
          21,
          22,
          23,
          24,
          25
         ],
         "xaxis": "x",
         "y": [
          1,
          0,
          1,
          1,
          0,
          0,
          1,
          1,
          1,
          1,
          0,
          0,
          0,
          0,
          0,
          0,
          0,
          0,
          0,
          0,
          0,
          0,
          0,
          0,
          0,
          0
         ],
         "yaxis": "y"
        },
        {
         "hovertemplate": "variable=deepmind<br>index=%{x}<br>value=%{y}<extra></extra>",
         "legendgroup": "deepmind",
         "line": {
          "color": "#ab63fa",
          "dash": "solid"
         },
         "marker": {
          "symbol": "circle"
         },
         "mode": "lines",
         "name": "deepmind",
         "orientation": "v",
         "showlegend": true,
         "type": "scatter",
         "x": [
          0,
          1,
          2,
          3,
          4,
          5,
          6,
          7,
          8,
          9,
          10,
          11,
          12,
          13,
          14,
          15,
          16,
          17,
          18,
          19,
          20,
          21,
          22,
          23,
          24,
          25
         ],
         "xaxis": "x",
         "y": [
          0,
          0,
          0,
          0,
          0,
          0,
          0,
          0,
          0,
          0,
          0,
          0,
          0,
          0,
          0,
          0,
          0,
          0,
          0,
          0,
          0,
          0,
          0,
          0,
          0,
          0
         ],
         "yaxis": "y"
        }
       ],
       "layout": {
        "legend": {
         "title": {
          "text": "variable"
         },
         "tracegroupgap": 0
        },
        "template": {
         "data": {
          "bar": [
           {
            "error_x": {
             "color": "#2a3f5f"
            },
            "error_y": {
             "color": "#2a3f5f"
            },
            "marker": {
             "line": {
              "color": "#E5ECF6",
              "width": 0.5
             },
             "pattern": {
              "fillmode": "overlay",
              "size": 10,
              "solidity": 0.2
             }
            },
            "type": "bar"
           }
          ],
          "barpolar": [
           {
            "marker": {
             "line": {
              "color": "#E5ECF6",
              "width": 0.5
             },
             "pattern": {
              "fillmode": "overlay",
              "size": 10,
              "solidity": 0.2
             }
            },
            "type": "barpolar"
           }
          ],
          "carpet": [
           {
            "aaxis": {
             "endlinecolor": "#2a3f5f",
             "gridcolor": "white",
             "linecolor": "white",
             "minorgridcolor": "white",
             "startlinecolor": "#2a3f5f"
            },
            "baxis": {
             "endlinecolor": "#2a3f5f",
             "gridcolor": "white",
             "linecolor": "white",
             "minorgridcolor": "white",
             "startlinecolor": "#2a3f5f"
            },
            "type": "carpet"
           }
          ],
          "choropleth": [
           {
            "colorbar": {
             "outlinewidth": 0,
             "ticks": ""
            },
            "type": "choropleth"
           }
          ],
          "contour": [
           {
            "colorbar": {
             "outlinewidth": 0,
             "ticks": ""
            },
            "colorscale": [
             [
              0,
              "#0d0887"
             ],
             [
              0.1111111111111111,
              "#46039f"
             ],
             [
              0.2222222222222222,
              "#7201a8"
             ],
             [
              0.3333333333333333,
              "#9c179e"
             ],
             [
              0.4444444444444444,
              "#bd3786"
             ],
             [
              0.5555555555555556,
              "#d8576b"
             ],
             [
              0.6666666666666666,
              "#ed7953"
             ],
             [
              0.7777777777777778,
              "#fb9f3a"
             ],
             [
              0.8888888888888888,
              "#fdca26"
             ],
             [
              1,
              "#f0f921"
             ]
            ],
            "type": "contour"
           }
          ],
          "contourcarpet": [
           {
            "colorbar": {
             "outlinewidth": 0,
             "ticks": ""
            },
            "type": "contourcarpet"
           }
          ],
          "heatmap": [
           {
            "colorbar": {
             "outlinewidth": 0,
             "ticks": ""
            },
            "colorscale": [
             [
              0,
              "#0d0887"
             ],
             [
              0.1111111111111111,
              "#46039f"
             ],
             [
              0.2222222222222222,
              "#7201a8"
             ],
             [
              0.3333333333333333,
              "#9c179e"
             ],
             [
              0.4444444444444444,
              "#bd3786"
             ],
             [
              0.5555555555555556,
              "#d8576b"
             ],
             [
              0.6666666666666666,
              "#ed7953"
             ],
             [
              0.7777777777777778,
              "#fb9f3a"
             ],
             [
              0.8888888888888888,
              "#fdca26"
             ],
             [
              1,
              "#f0f921"
             ]
            ],
            "type": "heatmap"
           }
          ],
          "heatmapgl": [
           {
            "colorbar": {
             "outlinewidth": 0,
             "ticks": ""
            },
            "colorscale": [
             [
              0,
              "#0d0887"
             ],
             [
              0.1111111111111111,
              "#46039f"
             ],
             [
              0.2222222222222222,
              "#7201a8"
             ],
             [
              0.3333333333333333,
              "#9c179e"
             ],
             [
              0.4444444444444444,
              "#bd3786"
             ],
             [
              0.5555555555555556,
              "#d8576b"
             ],
             [
              0.6666666666666666,
              "#ed7953"
             ],
             [
              0.7777777777777778,
              "#fb9f3a"
             ],
             [
              0.8888888888888888,
              "#fdca26"
             ],
             [
              1,
              "#f0f921"
             ]
            ],
            "type": "heatmapgl"
           }
          ],
          "histogram": [
           {
            "marker": {
             "pattern": {
              "fillmode": "overlay",
              "size": 10,
              "solidity": 0.2
             }
            },
            "type": "histogram"
           }
          ],
          "histogram2d": [
           {
            "colorbar": {
             "outlinewidth": 0,
             "ticks": ""
            },
            "colorscale": [
             [
              0,
              "#0d0887"
             ],
             [
              0.1111111111111111,
              "#46039f"
             ],
             [
              0.2222222222222222,
              "#7201a8"
             ],
             [
              0.3333333333333333,
              "#9c179e"
             ],
             [
              0.4444444444444444,
              "#bd3786"
             ],
             [
              0.5555555555555556,
              "#d8576b"
             ],
             [
              0.6666666666666666,
              "#ed7953"
             ],
             [
              0.7777777777777778,
              "#fb9f3a"
             ],
             [
              0.8888888888888888,
              "#fdca26"
             ],
             [
              1,
              "#f0f921"
             ]
            ],
            "type": "histogram2d"
           }
          ],
          "histogram2dcontour": [
           {
            "colorbar": {
             "outlinewidth": 0,
             "ticks": ""
            },
            "colorscale": [
             [
              0,
              "#0d0887"
             ],
             [
              0.1111111111111111,
              "#46039f"
             ],
             [
              0.2222222222222222,
              "#7201a8"
             ],
             [
              0.3333333333333333,
              "#9c179e"
             ],
             [
              0.4444444444444444,
              "#bd3786"
             ],
             [
              0.5555555555555556,
              "#d8576b"
             ],
             [
              0.6666666666666666,
              "#ed7953"
             ],
             [
              0.7777777777777778,
              "#fb9f3a"
             ],
             [
              0.8888888888888888,
              "#fdca26"
             ],
             [
              1,
              "#f0f921"
             ]
            ],
            "type": "histogram2dcontour"
           }
          ],
          "mesh3d": [
           {
            "colorbar": {
             "outlinewidth": 0,
             "ticks": ""
            },
            "type": "mesh3d"
           }
          ],
          "parcoords": [
           {
            "line": {
             "colorbar": {
              "outlinewidth": 0,
              "ticks": ""
             }
            },
            "type": "parcoords"
           }
          ],
          "pie": [
           {
            "automargin": true,
            "type": "pie"
           }
          ],
          "scatter": [
           {
            "fillpattern": {
             "fillmode": "overlay",
             "size": 10,
             "solidity": 0.2
            },
            "type": "scatter"
           }
          ],
          "scatter3d": [
           {
            "line": {
             "colorbar": {
              "outlinewidth": 0,
              "ticks": ""
             }
            },
            "marker": {
             "colorbar": {
              "outlinewidth": 0,
              "ticks": ""
             }
            },
            "type": "scatter3d"
           }
          ],
          "scattercarpet": [
           {
            "marker": {
             "colorbar": {
              "outlinewidth": 0,
              "ticks": ""
             }
            },
            "type": "scattercarpet"
           }
          ],
          "scattergeo": [
           {
            "marker": {
             "colorbar": {
              "outlinewidth": 0,
              "ticks": ""
             }
            },
            "type": "scattergeo"
           }
          ],
          "scattergl": [
           {
            "marker": {
             "colorbar": {
              "outlinewidth": 0,
              "ticks": ""
             }
            },
            "type": "scattergl"
           }
          ],
          "scattermapbox": [
           {
            "marker": {
             "colorbar": {
              "outlinewidth": 0,
              "ticks": ""
             }
            },
            "type": "scattermapbox"
           }
          ],
          "scatterpolar": [
           {
            "marker": {
             "colorbar": {
              "outlinewidth": 0,
              "ticks": ""
             }
            },
            "type": "scatterpolar"
           }
          ],
          "scatterpolargl": [
           {
            "marker": {
             "colorbar": {
              "outlinewidth": 0,
              "ticks": ""
             }
            },
            "type": "scatterpolargl"
           }
          ],
          "scatterternary": [
           {
            "marker": {
             "colorbar": {
              "outlinewidth": 0,
              "ticks": ""
             }
            },
            "type": "scatterternary"
           }
          ],
          "surface": [
           {
            "colorbar": {
             "outlinewidth": 0,
             "ticks": ""
            },
            "colorscale": [
             [
              0,
              "#0d0887"
             ],
             [
              0.1111111111111111,
              "#46039f"
             ],
             [
              0.2222222222222222,
              "#7201a8"
             ],
             [
              0.3333333333333333,
              "#9c179e"
             ],
             [
              0.4444444444444444,
              "#bd3786"
             ],
             [
              0.5555555555555556,
              "#d8576b"
             ],
             [
              0.6666666666666666,
              "#ed7953"
             ],
             [
              0.7777777777777778,
              "#fb9f3a"
             ],
             [
              0.8888888888888888,
              "#fdca26"
             ],
             [
              1,
              "#f0f921"
             ]
            ],
            "type": "surface"
           }
          ],
          "table": [
           {
            "cells": {
             "fill": {
              "color": "#EBF0F8"
             },
             "line": {
              "color": "white"
             }
            },
            "header": {
             "fill": {
              "color": "#C8D4E3"
             },
             "line": {
              "color": "white"
             }
            },
            "type": "table"
           }
          ]
         },
         "layout": {
          "annotationdefaults": {
           "arrowcolor": "#2a3f5f",
           "arrowhead": 0,
           "arrowwidth": 1
          },
          "autotypenumbers": "strict",
          "coloraxis": {
           "colorbar": {
            "outlinewidth": 0,
            "ticks": ""
           }
          },
          "colorscale": {
           "diverging": [
            [
             0,
             "#8e0152"
            ],
            [
             0.1,
             "#c51b7d"
            ],
            [
             0.2,
             "#de77ae"
            ],
            [
             0.3,
             "#f1b6da"
            ],
            [
             0.4,
             "#fde0ef"
            ],
            [
             0.5,
             "#f7f7f7"
            ],
            [
             0.6,
             "#e6f5d0"
            ],
            [
             0.7,
             "#b8e186"
            ],
            [
             0.8,
             "#7fbc41"
            ],
            [
             0.9,
             "#4d9221"
            ],
            [
             1,
             "#276419"
            ]
           ],
           "sequential": [
            [
             0,
             "#0d0887"
            ],
            [
             0.1111111111111111,
             "#46039f"
            ],
            [
             0.2222222222222222,
             "#7201a8"
            ],
            [
             0.3333333333333333,
             "#9c179e"
            ],
            [
             0.4444444444444444,
             "#bd3786"
            ],
            [
             0.5555555555555556,
             "#d8576b"
            ],
            [
             0.6666666666666666,
             "#ed7953"
            ],
            [
             0.7777777777777778,
             "#fb9f3a"
            ],
            [
             0.8888888888888888,
             "#fdca26"
            ],
            [
             1,
             "#f0f921"
            ]
           ],
           "sequentialminus": [
            [
             0,
             "#0d0887"
            ],
            [
             0.1111111111111111,
             "#46039f"
            ],
            [
             0.2222222222222222,
             "#7201a8"
            ],
            [
             0.3333333333333333,
             "#9c179e"
            ],
            [
             0.4444444444444444,
             "#bd3786"
            ],
            [
             0.5555555555555556,
             "#d8576b"
            ],
            [
             0.6666666666666666,
             "#ed7953"
            ],
            [
             0.7777777777777778,
             "#fb9f3a"
            ],
            [
             0.8888888888888888,
             "#fdca26"
            ],
            [
             1,
             "#f0f921"
            ]
           ]
          },
          "colorway": [
           "#636efa",
           "#EF553B",
           "#00cc96",
           "#ab63fa",
           "#FFA15A",
           "#19d3f3",
           "#FF6692",
           "#B6E880",
           "#FF97FF",
           "#FECB52"
          ],
          "font": {
           "color": "#2a3f5f"
          },
          "geo": {
           "bgcolor": "white",
           "lakecolor": "white",
           "landcolor": "#E5ECF6",
           "showlakes": true,
           "showland": true,
           "subunitcolor": "white"
          },
          "hoverlabel": {
           "align": "left"
          },
          "hovermode": "closest",
          "mapbox": {
           "style": "light"
          },
          "paper_bgcolor": "white",
          "plot_bgcolor": "#E5ECF6",
          "polar": {
           "angularaxis": {
            "gridcolor": "white",
            "linecolor": "white",
            "ticks": ""
           },
           "bgcolor": "#E5ECF6",
           "radialaxis": {
            "gridcolor": "white",
            "linecolor": "white",
            "ticks": ""
           }
          },
          "scene": {
           "xaxis": {
            "backgroundcolor": "#E5ECF6",
            "gridcolor": "white",
            "gridwidth": 2,
            "linecolor": "white",
            "showbackground": true,
            "ticks": "",
            "zerolinecolor": "white"
           },
           "yaxis": {
            "backgroundcolor": "#E5ECF6",
            "gridcolor": "white",
            "gridwidth": 2,
            "linecolor": "white",
            "showbackground": true,
            "ticks": "",
            "zerolinecolor": "white"
           },
           "zaxis": {
            "backgroundcolor": "#E5ECF6",
            "gridcolor": "white",
            "gridwidth": 2,
            "linecolor": "white",
            "showbackground": true,
            "ticks": "",
            "zerolinecolor": "white"
           }
          },
          "shapedefaults": {
           "line": {
            "color": "#2a3f5f"
           }
          },
          "ternary": {
           "aaxis": {
            "gridcolor": "white",
            "linecolor": "white",
            "ticks": ""
           },
           "baxis": {
            "gridcolor": "white",
            "linecolor": "white",
            "ticks": ""
           },
           "bgcolor": "#E5ECF6",
           "caxis": {
            "gridcolor": "white",
            "linecolor": "white",
            "ticks": ""
           }
          },
          "title": {
           "x": 0.05
          },
          "xaxis": {
           "automargin": true,
           "gridcolor": "white",
           "linecolor": "white",
           "ticks": "",
           "title": {
            "standoff": 15
           },
           "zerolinecolor": "white",
           "zerolinewidth": 2
          },
          "yaxis": {
           "automargin": true,
           "gridcolor": "white",
           "linecolor": "white",
           "ticks": "",
           "title": {
            "standoff": 15
           },
           "zerolinecolor": "white",
           "zerolinewidth": 2
          }
         }
        },
        "title": {
         "text": "Occurrences of Keywords in Responses for 'What is your name?'"
        },
        "xaxis": {
         "anchor": "y",
         "domain": [
          0,
          1
         ],
         "title": {
          "text": "Switch Layer"
         }
        },
        "yaxis": {
         "anchor": "x",
         "domain": [
          0,
          1
         ],
         "title": {
          "text": "Appearances"
         }
        }
       }
      },
      "text/html": [
       "<div>                            <div id=\"272ed25c-12ca-4011-b1a5-633ca73c15ba\" class=\"plotly-graph-div\" style=\"height:525px; width:100%;\"></div>            <script type=\"text/javascript\">                require([\"plotly\"], function(Plotly) {                    window.PLOTLYENV=window.PLOTLYENV || {};                                    if (document.getElementById(\"272ed25c-12ca-4011-b1a5-633ca73c15ba\")) {                    Plotly.newPlot(                        \"272ed25c-12ca-4011-b1a5-633ca73c15ba\",                        [{\"hovertemplate\":\"variable=gemma\\u003cbr\\u003eindex=%{x}\\u003cbr\\u003evalue=%{y}\\u003cextra\\u003e\\u003c\\u002fextra\\u003e\",\"legendgroup\":\"gemma\",\"line\":{\"color\":\"#636efa\",\"dash\":\"solid\"},\"marker\":{\"symbol\":\"circle\"},\"mode\":\"lines\",\"name\":\"gemma\",\"orientation\":\"v\",\"showlegend\":true,\"x\":[0,1,2,3,4,5,6,7,8,9,10,11,12,13,14,15,16,17,18,19,20,21,22,23,24,25],\"xaxis\":\"x\",\"y\":[0,0,0,0,0,0,0,0,0,0,0,0,0,0,0,0,0,0,0,1,1,1,1,1,1,1],\"yaxis\":\"y\",\"type\":\"scatter\"},{\"hovertemplate\":\"variable=openai\\u003cbr\\u003eindex=%{x}\\u003cbr\\u003evalue=%{y}\\u003cextra\\u003e\\u003c\\u002fextra\\u003e\",\"legendgroup\":\"openai\",\"line\":{\"color\":\"#EF553B\",\"dash\":\"solid\"},\"marker\":{\"symbol\":\"circle\"},\"mode\":\"lines\",\"name\":\"openai\",\"orientation\":\"v\",\"showlegend\":true,\"x\":[0,1,2,3,4,5,6,7,8,9,10,11,12,13,14,15,16,17,18,19,20,21,22,23,24,25],\"xaxis\":\"x\",\"y\":[1,0,1,1,0,0,1,1,1,1,1,1,0,0,0,0,0,0,0,0,0,0,0,0,0,0],\"yaxis\":\"y\",\"type\":\"scatter\"},{\"hovertemplate\":\"variable=gpt\\u003cbr\\u003eindex=%{x}\\u003cbr\\u003evalue=%{y}\\u003cextra\\u003e\\u003c\\u002fextra\\u003e\",\"legendgroup\":\"gpt\",\"line\":{\"color\":\"#00cc96\",\"dash\":\"solid\"},\"marker\":{\"symbol\":\"circle\"},\"mode\":\"lines\",\"name\":\"gpt\",\"orientation\":\"v\",\"showlegend\":true,\"x\":[0,1,2,3,4,5,6,7,8,9,10,11,12,13,14,15,16,17,18,19,20,21,22,23,24,25],\"xaxis\":\"x\",\"y\":[1,0,1,1,0,0,1,1,1,1,0,0,0,0,0,0,0,0,0,0,0,0,0,0,0,0],\"yaxis\":\"y\",\"type\":\"scatter\"},{\"hovertemplate\":\"variable=deepmind\\u003cbr\\u003eindex=%{x}\\u003cbr\\u003evalue=%{y}\\u003cextra\\u003e\\u003c\\u002fextra\\u003e\",\"legendgroup\":\"deepmind\",\"line\":{\"color\":\"#ab63fa\",\"dash\":\"solid\"},\"marker\":{\"symbol\":\"circle\"},\"mode\":\"lines\",\"name\":\"deepmind\",\"orientation\":\"v\",\"showlegend\":true,\"x\":[0,1,2,3,4,5,6,7,8,9,10,11,12,13,14,15,16,17,18,19,20,21,22,23,24,25],\"xaxis\":\"x\",\"y\":[0,0,0,0,0,0,0,0,0,0,0,0,0,0,0,0,0,0,0,0,0,0,0,0,0,0],\"yaxis\":\"y\",\"type\":\"scatter\"}],                        {\"template\":{\"data\":{\"histogram2dcontour\":[{\"type\":\"histogram2dcontour\",\"colorbar\":{\"outlinewidth\":0,\"ticks\":\"\"},\"colorscale\":[[0.0,\"#0d0887\"],[0.1111111111111111,\"#46039f\"],[0.2222222222222222,\"#7201a8\"],[0.3333333333333333,\"#9c179e\"],[0.4444444444444444,\"#bd3786\"],[0.5555555555555556,\"#d8576b\"],[0.6666666666666666,\"#ed7953\"],[0.7777777777777778,\"#fb9f3a\"],[0.8888888888888888,\"#fdca26\"],[1.0,\"#f0f921\"]]}],\"choropleth\":[{\"type\":\"choropleth\",\"colorbar\":{\"outlinewidth\":0,\"ticks\":\"\"}}],\"histogram2d\":[{\"type\":\"histogram2d\",\"colorbar\":{\"outlinewidth\":0,\"ticks\":\"\"},\"colorscale\":[[0.0,\"#0d0887\"],[0.1111111111111111,\"#46039f\"],[0.2222222222222222,\"#7201a8\"],[0.3333333333333333,\"#9c179e\"],[0.4444444444444444,\"#bd3786\"],[0.5555555555555556,\"#d8576b\"],[0.6666666666666666,\"#ed7953\"],[0.7777777777777778,\"#fb9f3a\"],[0.8888888888888888,\"#fdca26\"],[1.0,\"#f0f921\"]]}],\"heatmap\":[{\"type\":\"heatmap\",\"colorbar\":{\"outlinewidth\":0,\"ticks\":\"\"},\"colorscale\":[[0.0,\"#0d0887\"],[0.1111111111111111,\"#46039f\"],[0.2222222222222222,\"#7201a8\"],[0.3333333333333333,\"#9c179e\"],[0.4444444444444444,\"#bd3786\"],[0.5555555555555556,\"#d8576b\"],[0.6666666666666666,\"#ed7953\"],[0.7777777777777778,\"#fb9f3a\"],[0.8888888888888888,\"#fdca26\"],[1.0,\"#f0f921\"]]}],\"heatmapgl\":[{\"type\":\"heatmapgl\",\"colorbar\":{\"outlinewidth\":0,\"ticks\":\"\"},\"colorscale\":[[0.0,\"#0d0887\"],[0.1111111111111111,\"#46039f\"],[0.2222222222222222,\"#7201a8\"],[0.3333333333333333,\"#9c179e\"],[0.4444444444444444,\"#bd3786\"],[0.5555555555555556,\"#d8576b\"],[0.6666666666666666,\"#ed7953\"],[0.7777777777777778,\"#fb9f3a\"],[0.8888888888888888,\"#fdca26\"],[1.0,\"#f0f921\"]]}],\"contourcarpet\":[{\"type\":\"contourcarpet\",\"colorbar\":{\"outlinewidth\":0,\"ticks\":\"\"}}],\"contour\":[{\"type\":\"contour\",\"colorbar\":{\"outlinewidth\":0,\"ticks\":\"\"},\"colorscale\":[[0.0,\"#0d0887\"],[0.1111111111111111,\"#46039f\"],[0.2222222222222222,\"#7201a8\"],[0.3333333333333333,\"#9c179e\"],[0.4444444444444444,\"#bd3786\"],[0.5555555555555556,\"#d8576b\"],[0.6666666666666666,\"#ed7953\"],[0.7777777777777778,\"#fb9f3a\"],[0.8888888888888888,\"#fdca26\"],[1.0,\"#f0f921\"]]}],\"surface\":[{\"type\":\"surface\",\"colorbar\":{\"outlinewidth\":0,\"ticks\":\"\"},\"colorscale\":[[0.0,\"#0d0887\"],[0.1111111111111111,\"#46039f\"],[0.2222222222222222,\"#7201a8\"],[0.3333333333333333,\"#9c179e\"],[0.4444444444444444,\"#bd3786\"],[0.5555555555555556,\"#d8576b\"],[0.6666666666666666,\"#ed7953\"],[0.7777777777777778,\"#fb9f3a\"],[0.8888888888888888,\"#fdca26\"],[1.0,\"#f0f921\"]]}],\"mesh3d\":[{\"type\":\"mesh3d\",\"colorbar\":{\"outlinewidth\":0,\"ticks\":\"\"}}],\"scatter\":[{\"fillpattern\":{\"fillmode\":\"overlay\",\"size\":10,\"solidity\":0.2},\"type\":\"scatter\"}],\"parcoords\":[{\"type\":\"parcoords\",\"line\":{\"colorbar\":{\"outlinewidth\":0,\"ticks\":\"\"}}}],\"scatterpolargl\":[{\"type\":\"scatterpolargl\",\"marker\":{\"colorbar\":{\"outlinewidth\":0,\"ticks\":\"\"}}}],\"bar\":[{\"error_x\":{\"color\":\"#2a3f5f\"},\"error_y\":{\"color\":\"#2a3f5f\"},\"marker\":{\"line\":{\"color\":\"#E5ECF6\",\"width\":0.5},\"pattern\":{\"fillmode\":\"overlay\",\"size\":10,\"solidity\":0.2}},\"type\":\"bar\"}],\"scattergeo\":[{\"type\":\"scattergeo\",\"marker\":{\"colorbar\":{\"outlinewidth\":0,\"ticks\":\"\"}}}],\"scatterpolar\":[{\"type\":\"scatterpolar\",\"marker\":{\"colorbar\":{\"outlinewidth\":0,\"ticks\":\"\"}}}],\"histogram\":[{\"marker\":{\"pattern\":{\"fillmode\":\"overlay\",\"size\":10,\"solidity\":0.2}},\"type\":\"histogram\"}],\"scattergl\":[{\"type\":\"scattergl\",\"marker\":{\"colorbar\":{\"outlinewidth\":0,\"ticks\":\"\"}}}],\"scatter3d\":[{\"type\":\"scatter3d\",\"line\":{\"colorbar\":{\"outlinewidth\":0,\"ticks\":\"\"}},\"marker\":{\"colorbar\":{\"outlinewidth\":0,\"ticks\":\"\"}}}],\"scattermapbox\":[{\"type\":\"scattermapbox\",\"marker\":{\"colorbar\":{\"outlinewidth\":0,\"ticks\":\"\"}}}],\"scatterternary\":[{\"type\":\"scatterternary\",\"marker\":{\"colorbar\":{\"outlinewidth\":0,\"ticks\":\"\"}}}],\"scattercarpet\":[{\"type\":\"scattercarpet\",\"marker\":{\"colorbar\":{\"outlinewidth\":0,\"ticks\":\"\"}}}],\"carpet\":[{\"aaxis\":{\"endlinecolor\":\"#2a3f5f\",\"gridcolor\":\"white\",\"linecolor\":\"white\",\"minorgridcolor\":\"white\",\"startlinecolor\":\"#2a3f5f\"},\"baxis\":{\"endlinecolor\":\"#2a3f5f\",\"gridcolor\":\"white\",\"linecolor\":\"white\",\"minorgridcolor\":\"white\",\"startlinecolor\":\"#2a3f5f\"},\"type\":\"carpet\"}],\"table\":[{\"cells\":{\"fill\":{\"color\":\"#EBF0F8\"},\"line\":{\"color\":\"white\"}},\"header\":{\"fill\":{\"color\":\"#C8D4E3\"},\"line\":{\"color\":\"white\"}},\"type\":\"table\"}],\"barpolar\":[{\"marker\":{\"line\":{\"color\":\"#E5ECF6\",\"width\":0.5},\"pattern\":{\"fillmode\":\"overlay\",\"size\":10,\"solidity\":0.2}},\"type\":\"barpolar\"}],\"pie\":[{\"automargin\":true,\"type\":\"pie\"}]},\"layout\":{\"autotypenumbers\":\"strict\",\"colorway\":[\"#636efa\",\"#EF553B\",\"#00cc96\",\"#ab63fa\",\"#FFA15A\",\"#19d3f3\",\"#FF6692\",\"#B6E880\",\"#FF97FF\",\"#FECB52\"],\"font\":{\"color\":\"#2a3f5f\"},\"hovermode\":\"closest\",\"hoverlabel\":{\"align\":\"left\"},\"paper_bgcolor\":\"white\",\"plot_bgcolor\":\"#E5ECF6\",\"polar\":{\"bgcolor\":\"#E5ECF6\",\"angularaxis\":{\"gridcolor\":\"white\",\"linecolor\":\"white\",\"ticks\":\"\"},\"radialaxis\":{\"gridcolor\":\"white\",\"linecolor\":\"white\",\"ticks\":\"\"}},\"ternary\":{\"bgcolor\":\"#E5ECF6\",\"aaxis\":{\"gridcolor\":\"white\",\"linecolor\":\"white\",\"ticks\":\"\"},\"baxis\":{\"gridcolor\":\"white\",\"linecolor\":\"white\",\"ticks\":\"\"},\"caxis\":{\"gridcolor\":\"white\",\"linecolor\":\"white\",\"ticks\":\"\"}},\"coloraxis\":{\"colorbar\":{\"outlinewidth\":0,\"ticks\":\"\"}},\"colorscale\":{\"sequential\":[[0.0,\"#0d0887\"],[0.1111111111111111,\"#46039f\"],[0.2222222222222222,\"#7201a8\"],[0.3333333333333333,\"#9c179e\"],[0.4444444444444444,\"#bd3786\"],[0.5555555555555556,\"#d8576b\"],[0.6666666666666666,\"#ed7953\"],[0.7777777777777778,\"#fb9f3a\"],[0.8888888888888888,\"#fdca26\"],[1.0,\"#f0f921\"]],\"sequentialminus\":[[0.0,\"#0d0887\"],[0.1111111111111111,\"#46039f\"],[0.2222222222222222,\"#7201a8\"],[0.3333333333333333,\"#9c179e\"],[0.4444444444444444,\"#bd3786\"],[0.5555555555555556,\"#d8576b\"],[0.6666666666666666,\"#ed7953\"],[0.7777777777777778,\"#fb9f3a\"],[0.8888888888888888,\"#fdca26\"],[1.0,\"#f0f921\"]],\"diverging\":[[0,\"#8e0152\"],[0.1,\"#c51b7d\"],[0.2,\"#de77ae\"],[0.3,\"#f1b6da\"],[0.4,\"#fde0ef\"],[0.5,\"#f7f7f7\"],[0.6,\"#e6f5d0\"],[0.7,\"#b8e186\"],[0.8,\"#7fbc41\"],[0.9,\"#4d9221\"],[1,\"#276419\"]]},\"xaxis\":{\"gridcolor\":\"white\",\"linecolor\":\"white\",\"ticks\":\"\",\"title\":{\"standoff\":15},\"zerolinecolor\":\"white\",\"automargin\":true,\"zerolinewidth\":2},\"yaxis\":{\"gridcolor\":\"white\",\"linecolor\":\"white\",\"ticks\":\"\",\"title\":{\"standoff\":15},\"zerolinecolor\":\"white\",\"automargin\":true,\"zerolinewidth\":2},\"scene\":{\"xaxis\":{\"backgroundcolor\":\"#E5ECF6\",\"gridcolor\":\"white\",\"linecolor\":\"white\",\"showbackground\":true,\"ticks\":\"\",\"zerolinecolor\":\"white\",\"gridwidth\":2},\"yaxis\":{\"backgroundcolor\":\"#E5ECF6\",\"gridcolor\":\"white\",\"linecolor\":\"white\",\"showbackground\":true,\"ticks\":\"\",\"zerolinecolor\":\"white\",\"gridwidth\":2},\"zaxis\":{\"backgroundcolor\":\"#E5ECF6\",\"gridcolor\":\"white\",\"linecolor\":\"white\",\"showbackground\":true,\"ticks\":\"\",\"zerolinecolor\":\"white\",\"gridwidth\":2}},\"shapedefaults\":{\"line\":{\"color\":\"#2a3f5f\"}},\"annotationdefaults\":{\"arrowcolor\":\"#2a3f5f\",\"arrowhead\":0,\"arrowwidth\":1},\"geo\":{\"bgcolor\":\"white\",\"landcolor\":\"#E5ECF6\",\"subunitcolor\":\"white\",\"showland\":true,\"showlakes\":true,\"lakecolor\":\"white\"},\"title\":{\"x\":0.05},\"mapbox\":{\"style\":\"light\"}}},\"xaxis\":{\"anchor\":\"y\",\"domain\":[0.0,1.0],\"title\":{\"text\":\"Switch Layer\"}},\"yaxis\":{\"anchor\":\"x\",\"domain\":[0.0,1.0],\"title\":{\"text\":\"Appearances\"}},\"legend\":{\"title\":{\"text\":\"variable\"},\"tracegroupgap\":0},\"title\":{\"text\":\"Occurrences of Keywords in Responses for 'What is your name?'\"}},                        {\"responsive\": true}                    ).then(function(){\n",
       "                            \n",
       "var gd = document.getElementById('272ed25c-12ca-4011-b1a5-633ca73c15ba');\n",
       "var x = new MutationObserver(function (mutations, observer) {{\n",
       "        var display = window.getComputedStyle(gd).display;\n",
       "        if (!display || display === 'none') {{\n",
       "            console.log([gd, 'removed!']);\n",
       "            Plotly.purge(gd);\n",
       "            observer.disconnect();\n",
       "        }}\n",
       "}});\n",
       "\n",
       "// Listen for the removal of the full notebook cells\n",
       "var notebookContainer = gd.closest('#notebook-container');\n",
       "if (notebookContainer) {{\n",
       "    x.observe(notebookContainer, {childList: true});\n",
       "}}\n",
       "\n",
       "// Listen for the clearing of the current output cell\n",
       "var outputEl = gd.closest('.output');\n",
       "if (outputEl) {{\n",
       "    x.observe(outputEl, {childList: true});\n",
       "}}\n",
       "\n",
       "                        })                };                });            </script>        </div>"
      ]
     },
     "metadata": {},
     "output_type": "display_data"
    }
   ],
   "source": [
    "# Extract the relevant content from the data\n",
    "question_idx = 2\n",
    "steered_contents = [\n",
    "    entry[question_idx][\"steered\"][1][\"content\"] for entry in data.values()\n",
    "]\n",
    "\n",
    "# Create a DataFrame to hold the binary values\n",
    "df = pd.DataFrame(\n",
    "    {\n",
    "        \"gemma\": [\n",
    "            1 if \"gemma\" in content.lower() else 0 for content in steered_contents\n",
    "        ],\n",
    "        \"openai\": [\n",
    "            1 if \"openai\" in content.lower() else 0 for content in steered_contents\n",
    "        ],\n",
    "        \"gpt\": [1 if \"gpt\" in content.lower() else 0 for content in steered_contents],\n",
    "        \"deepmind\": [\n",
    "            1 if \"deepmind\" in content.lower() else 0 for content in steered_contents\n",
    "        ],\n",
    "    }\n",
    ")\n",
    "\n",
    "# Plot the lines\n",
    "fig = px.line(\n",
    "    df,\n",
    "    title=f\"Occurrences of Keywords in Responses for '{data['1'][question_idx]['steered'][0]['content']}'\",\n",
    ")\n",
    "fig.update_layout(yaxis_title=\"Appearances\", xaxis_title=\"Switch Layer\")\n",
    "fig.show()"
   ]
  },
  {
   "cell_type": "code",
   "execution_count": 19,
   "metadata": {},
   "outputs": [
    {
     "ename": "IndexError",
     "evalue": "list index out of range",
     "output_type": "error",
     "traceback": [
      "\u001b[0;31m---------------------------------------------------------------------------\u001b[0m",
      "\u001b[0;31mIndexError\u001b[0m                                Traceback (most recent call last)",
      "Cell \u001b[0;32mIn[19], line 3\u001b[0m\n\u001b[1;32m      1\u001b[0m \u001b[38;5;66;03m# Extract the relevant content from the data\u001b[39;00m\n\u001b[1;32m      2\u001b[0m question_idx \u001b[38;5;241m=\u001b[39m \u001b[38;5;241m3\u001b[39m\n\u001b[0;32m----> 3\u001b[0m steered_contents \u001b[38;5;241m=\u001b[39m \u001b[43m[\u001b[49m\u001b[43mentry\u001b[49m\u001b[43m[\u001b[49m\u001b[43mquestion_idx\u001b[49m\u001b[43m]\u001b[49m\u001b[43m[\u001b[49m\u001b[38;5;124;43m'\u001b[39;49m\u001b[38;5;124;43msteered\u001b[39;49m\u001b[38;5;124;43m'\u001b[39;49m\u001b[43m]\u001b[49m\u001b[43m[\u001b[49m\u001b[38;5;241;43m1\u001b[39;49m\u001b[43m]\u001b[49m\u001b[43m[\u001b[49m\u001b[38;5;124;43m'\u001b[39;49m\u001b[38;5;124;43mcontent\u001b[39;49m\u001b[38;5;124;43m'\u001b[39;49m\u001b[43m]\u001b[49m\u001b[43m \u001b[49m\u001b[38;5;28;43;01mfor\u001b[39;49;00m\u001b[43m \u001b[49m\u001b[43mentry\u001b[49m\u001b[43m \u001b[49m\u001b[38;5;129;43;01min\u001b[39;49;00m\u001b[43m \u001b[49m\u001b[43mdata\u001b[49m\u001b[38;5;241;43m.\u001b[39;49m\u001b[43mvalues\u001b[49m\u001b[43m(\u001b[49m\u001b[43m)\u001b[49m\u001b[43m]\u001b[49m\n\u001b[1;32m      5\u001b[0m \u001b[38;5;66;03m# Create a DataFrame to hold the binary values\u001b[39;00m\n\u001b[1;32m      6\u001b[0m df \u001b[38;5;241m=\u001b[39m pd\u001b[38;5;241m.\u001b[39mDataFrame({\n\u001b[1;32m      7\u001b[0m     \u001b[38;5;124m'\u001b[39m\u001b[38;5;124mgemma\u001b[39m\u001b[38;5;124m'\u001b[39m: [\u001b[38;5;241m1\u001b[39m \u001b[38;5;28;01mif\u001b[39;00m \u001b[38;5;124m'\u001b[39m\u001b[38;5;124mgemma\u001b[39m\u001b[38;5;124m'\u001b[39m \u001b[38;5;129;01min\u001b[39;00m content\u001b[38;5;241m.\u001b[39mlower() \u001b[38;5;28;01melse\u001b[39;00m \u001b[38;5;241m0\u001b[39m \u001b[38;5;28;01mfor\u001b[39;00m content \u001b[38;5;129;01min\u001b[39;00m steered_contents],\n\u001b[1;32m      8\u001b[0m     \u001b[38;5;124m'\u001b[39m\u001b[38;5;124mopenai\u001b[39m\u001b[38;5;124m'\u001b[39m: [\u001b[38;5;241m1\u001b[39m \u001b[38;5;28;01mif\u001b[39;00m \u001b[38;5;124m'\u001b[39m\u001b[38;5;124mopenai\u001b[39m\u001b[38;5;124m'\u001b[39m \u001b[38;5;129;01min\u001b[39;00m content\u001b[38;5;241m.\u001b[39mlower() \u001b[38;5;28;01melse\u001b[39;00m \u001b[38;5;241m0\u001b[39m \u001b[38;5;28;01mfor\u001b[39;00m content \u001b[38;5;129;01min\u001b[39;00m steered_contents],\n\u001b[1;32m      9\u001b[0m     \u001b[38;5;124m'\u001b[39m\u001b[38;5;124mgpt\u001b[39m\u001b[38;5;124m'\u001b[39m: [\u001b[38;5;241m1\u001b[39m \u001b[38;5;28;01mif\u001b[39;00m \u001b[38;5;124m'\u001b[39m\u001b[38;5;124mgpt\u001b[39m\u001b[38;5;124m'\u001b[39m \u001b[38;5;129;01min\u001b[39;00m content\u001b[38;5;241m.\u001b[39mlower() \u001b[38;5;28;01melse\u001b[39;00m \u001b[38;5;241m0\u001b[39m \u001b[38;5;28;01mfor\u001b[39;00m content \u001b[38;5;129;01min\u001b[39;00m steered_contents],\n\u001b[1;32m     10\u001b[0m     \u001b[38;5;124m'\u001b[39m\u001b[38;5;124mdeepmind\u001b[39m\u001b[38;5;124m'\u001b[39m: [\u001b[38;5;241m1\u001b[39m \u001b[38;5;28;01mif\u001b[39;00m \u001b[38;5;124m'\u001b[39m\u001b[38;5;124mdeepmind\u001b[39m\u001b[38;5;124m'\u001b[39m \u001b[38;5;129;01min\u001b[39;00m content\u001b[38;5;241m.\u001b[39mlower() \u001b[38;5;28;01melse\u001b[39;00m \u001b[38;5;241m0\u001b[39m \u001b[38;5;28;01mfor\u001b[39;00m content \u001b[38;5;129;01min\u001b[39;00m steered_contents]\n\u001b[1;32m     11\u001b[0m })\n",
      "Cell \u001b[0;32mIn[19], line 3\u001b[0m, in \u001b[0;36m<listcomp>\u001b[0;34m(.0)\u001b[0m\n\u001b[1;32m      1\u001b[0m \u001b[38;5;66;03m# Extract the relevant content from the data\u001b[39;00m\n\u001b[1;32m      2\u001b[0m question_idx \u001b[38;5;241m=\u001b[39m \u001b[38;5;241m3\u001b[39m\n\u001b[0;32m----> 3\u001b[0m steered_contents \u001b[38;5;241m=\u001b[39m [\u001b[43mentry\u001b[49m\u001b[43m[\u001b[49m\u001b[43mquestion_idx\u001b[49m\u001b[43m]\u001b[49m[\u001b[38;5;124m'\u001b[39m\u001b[38;5;124msteered\u001b[39m\u001b[38;5;124m'\u001b[39m][\u001b[38;5;241m1\u001b[39m][\u001b[38;5;124m'\u001b[39m\u001b[38;5;124mcontent\u001b[39m\u001b[38;5;124m'\u001b[39m] \u001b[38;5;28;01mfor\u001b[39;00m entry \u001b[38;5;129;01min\u001b[39;00m data\u001b[38;5;241m.\u001b[39mvalues()]\n\u001b[1;32m      5\u001b[0m \u001b[38;5;66;03m# Create a DataFrame to hold the binary values\u001b[39;00m\n\u001b[1;32m      6\u001b[0m df \u001b[38;5;241m=\u001b[39m pd\u001b[38;5;241m.\u001b[39mDataFrame({\n\u001b[1;32m      7\u001b[0m     \u001b[38;5;124m'\u001b[39m\u001b[38;5;124mgemma\u001b[39m\u001b[38;5;124m'\u001b[39m: [\u001b[38;5;241m1\u001b[39m \u001b[38;5;28;01mif\u001b[39;00m \u001b[38;5;124m'\u001b[39m\u001b[38;5;124mgemma\u001b[39m\u001b[38;5;124m'\u001b[39m \u001b[38;5;129;01min\u001b[39;00m content\u001b[38;5;241m.\u001b[39mlower() \u001b[38;5;28;01melse\u001b[39;00m \u001b[38;5;241m0\u001b[39m \u001b[38;5;28;01mfor\u001b[39;00m content \u001b[38;5;129;01min\u001b[39;00m steered_contents],\n\u001b[1;32m      8\u001b[0m     \u001b[38;5;124m'\u001b[39m\u001b[38;5;124mopenai\u001b[39m\u001b[38;5;124m'\u001b[39m: [\u001b[38;5;241m1\u001b[39m \u001b[38;5;28;01mif\u001b[39;00m \u001b[38;5;124m'\u001b[39m\u001b[38;5;124mopenai\u001b[39m\u001b[38;5;124m'\u001b[39m \u001b[38;5;129;01min\u001b[39;00m content\u001b[38;5;241m.\u001b[39mlower() \u001b[38;5;28;01melse\u001b[39;00m \u001b[38;5;241m0\u001b[39m \u001b[38;5;28;01mfor\u001b[39;00m content \u001b[38;5;129;01min\u001b[39;00m steered_contents],\n\u001b[1;32m      9\u001b[0m     \u001b[38;5;124m'\u001b[39m\u001b[38;5;124mgpt\u001b[39m\u001b[38;5;124m'\u001b[39m: [\u001b[38;5;241m1\u001b[39m \u001b[38;5;28;01mif\u001b[39;00m \u001b[38;5;124m'\u001b[39m\u001b[38;5;124mgpt\u001b[39m\u001b[38;5;124m'\u001b[39m \u001b[38;5;129;01min\u001b[39;00m content\u001b[38;5;241m.\u001b[39mlower() \u001b[38;5;28;01melse\u001b[39;00m \u001b[38;5;241m0\u001b[39m \u001b[38;5;28;01mfor\u001b[39;00m content \u001b[38;5;129;01min\u001b[39;00m steered_contents],\n\u001b[1;32m     10\u001b[0m     \u001b[38;5;124m'\u001b[39m\u001b[38;5;124mdeepmind\u001b[39m\u001b[38;5;124m'\u001b[39m: [\u001b[38;5;241m1\u001b[39m \u001b[38;5;28;01mif\u001b[39;00m \u001b[38;5;124m'\u001b[39m\u001b[38;5;124mdeepmind\u001b[39m\u001b[38;5;124m'\u001b[39m \u001b[38;5;129;01min\u001b[39;00m content\u001b[38;5;241m.\u001b[39mlower() \u001b[38;5;28;01melse\u001b[39;00m \u001b[38;5;241m0\u001b[39m \u001b[38;5;28;01mfor\u001b[39;00m content \u001b[38;5;129;01min\u001b[39;00m steered_contents]\n\u001b[1;32m     11\u001b[0m })\n",
      "\u001b[0;31mIndexError\u001b[0m: list index out of range"
     ]
    }
   ],
   "source": [
    "# Extract the relevant content from the data\n",
    "question_idx = 3\n",
    "steered_contents = [\n",
    "    entry[question_idx][\"steered\"][1][\"content\"] for entry in data.values()\n",
    "]\n",
    "\n",
    "# Create a DataFrame to hold the binary values\n",
    "df = pd.DataFrame(\n",
    "    {\n",
    "        \"gemma\": [\n",
    "            1 if \"gemma\" in content.lower() else 0 for content in steered_contents\n",
    "        ],\n",
    "        \"openai\": [\n",
    "            1 if \"openai\" in content.lower() else 0 for content in steered_contents\n",
    "        ],\n",
    "        \"gpt\": [1 if \"gpt\" in content.lower() else 0 for content in steered_contents],\n",
    "        \"deepmind\": [\n",
    "            1 if \"deepmind\" in content.lower() else 0 for content in steered_contents\n",
    "        ],\n",
    "    }\n",
    ")\n",
    "\n",
    "# Plot the lines\n",
    "fig = px.line(\n",
    "    df,\n",
    "    title=f\"Occurrences of Keywords in Responses for '{data['1'][question_idx]['steered'][0]['content']}'\",\n",
    ")\n",
    "fig.update_layout(yaxis_title=\"Appearances\", xaxis_title=\"Switch Layer\")\n",
    "fig.show()"
   ]
  },
  {
   "cell_type": "code",
   "execution_count": null,
   "metadata": {},
   "outputs": [],
   "source": []
  }
 ],
 "metadata": {
  "kernelspec": {
   "display_name": "default",
   "language": "python",
   "name": "python3"
  },
  "language_info": {
   "codemirror_mode": {
    "name": "ipython",
    "version": 3
   },
   "file_extension": ".py",
   "mimetype": "text/x-python",
   "name": "python",
   "nbconvert_exporter": "python",
   "pygments_lexer": "ipython3",
   "version": "3.11.9"
  }
 },
 "nbformat": 4,
 "nbformat_minor": 2
}
